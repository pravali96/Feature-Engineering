{
  "nbformat": 4,
  "nbformat_minor": 0,
  "metadata": {
    "colab": {
      "name": "PCA.ipynb",
      "provenance": [],
      "collapsed_sections": [],
      "include_colab_link": true
    },
    "kernelspec": {
      "display_name": "Python 3",
      "language": "python",
      "name": "python3"
    },
    "language_info": {
      "codemirror_mode": {
        "name": "ipython",
        "version": 3
      },
      "file_extension": ".py",
      "mimetype": "text/x-python",
      "name": "python",
      "nbconvert_exporter": "python",
      "pygments_lexer": "ipython3",
      "version": "3.7.6"
    }
  },
  "cells": [
    {
      "cell_type": "markdown",
      "metadata": {
        "id": "view-in-github",
        "colab_type": "text"
      },
      "source": [
        "<a href=\"https://colab.research.google.com/github/pravali96/Feature-Engineering/blob/master/PCA.ipynb\" target=\"_parent\"><img src=\"https://colab.research.google.com/assets/colab-badge.svg\" alt=\"Open In Colab\"/></a>"
      ]
    },
    {
      "cell_type": "markdown",
      "metadata": {
        "id": "Yq0XoVUIVNLC"
      },
      "source": [
        "# Homework 2"
      ]
    },
    {
      "cell_type": "markdown",
      "metadata": {
        "id": "0aqF485OxR-U"
      },
      "source": [
        "**Before you start:** Read Chapter 3 Data Visualization and Chapter 4 Dimension Reduction in the textbook.\n",
        "\n",
        "**Note:** Please make sure your plots are complete and presentable with a title, proper axis names, labels and legends if applicable.\n",
        "\n",
        "Please enter the code along with your comments in the **TODO** sections.\n",
        "\n",
        "Please refer to the **Hint** section if you do not know where to start. \n",
        "\n",
        "Alternative solutions are welcomed."
      ]
    },
    {
      "cell_type": "markdown",
      "metadata": {
        "id": "QkMxpyKOxR-L"
      },
      "source": [
        "## Part 1: Advanced Data Visualization"
      ]
    },
    {
      "cell_type": "markdown",
      "metadata": {
        "id": "3IKYRqKtxR-N"
      },
      "source": [
        "### Problem 1 ##"
      ]
    },
    {
      "cell_type": "markdown",
      "metadata": {
        "id": "DTB7AVvVxR-R"
      },
      "source": [
        "**Dataset:** [Mismanaged waste](https://ourworldindata.org/grapher/mismanaged-plastic-waste?tab=chart&time=earliest..latest)\n",
        "\n",
        "**Introduction:** Jambeck et al. quantified municipal and plastic waste streams from coastal populations in 2010 with projections to the year 2025. The authors define mismanaged and inadequately managed waste as follows: \"mismanaged waste is material that is either littered or inadequately disposed. Inadequately disposed waste is not formally managed and includes disposal in dumps or open, uncontrolled landfills, where it is not fully contained. Mismanaged waste could eventually enter the ocean via inland waterways,\n",
        "wastewater outflows, and transport by wind or tides. \""
      ]
    },
    {
      "cell_type": "code",
      "metadata": {
        "id": "33ec-Rf0xR-W"
      },
      "source": [
        "import pandas as pd\n",
        "import numpy as np\n",
        "import matplotlib.pyplot as plt\n",
        "import seaborn as sns\n",
        "import plotly.express as px"
      ],
      "execution_count": null,
      "outputs": []
    },
    {
      "cell_type": "code",
      "metadata": {
        "colab": {
          "resources": {
            "http://localhost:8080/nbextensions/google.colab/files.js": {
              "data": "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",
              "headers": [
                [
                  "content-type",
                  "application/javascript"
                ]
              ],
              "ok": true,
              "status": 200,
              "status_text": ""
            }
          },
          "base_uri": "https://localhost:8080/",
          "height": 251
        },
        "id": "j6FOUGqWxR-y",
        "outputId": "c937173b-0d8e-42c6-f8c0-7a3b4795b588"
      },
      "source": [
        "#Load the dataset\n",
        "from google.colab import files\n",
        "file = files.upload()  #upload file into google colab session\n",
        "df = pd.read_csv(\"mismanaged-waste-global-total.csv\") \n",
        "df.head()"
      ],
      "execution_count": null,
      "outputs": [
        {
          "output_type": "display_data",
          "data": {
            "text/html": [
              "\n",
              "     <input type=\"file\" id=\"files-990d7dbd-963e-4fe2-89b5-fb555c6c1cbc\" name=\"files[]\" multiple disabled\n",
              "        style=\"border:none\" />\n",
              "     <output id=\"result-990d7dbd-963e-4fe2-89b5-fb555c6c1cbc\">\n",
              "      Upload widget is only available when the cell has been executed in the\n",
              "      current browser session. Please rerun this cell to enable.\n",
              "      </output>\n",
              "      <script src=\"/nbextensions/google.colab/files.js\"></script> "
            ],
            "text/plain": [
              "<IPython.core.display.HTML object>"
            ]
          },
          "metadata": {
            "tags": []
          }
        },
        {
          "output_type": "stream",
          "text": [
            "Saving mismanaged-waste-global-total.csv to mismanaged-waste-global-total (1).csv\n"
          ],
          "name": "stdout"
        },
        {
          "output_type": "execute_result",
          "data": {
            "text/html": [
              "<div>\n",
              "<style scoped>\n",
              "    .dataframe tbody tr th:only-of-type {\n",
              "        vertical-align: middle;\n",
              "    }\n",
              "\n",
              "    .dataframe tbody tr th {\n",
              "        vertical-align: top;\n",
              "    }\n",
              "\n",
              "    .dataframe thead th {\n",
              "        text-align: right;\n",
              "    }\n",
              "</style>\n",
              "<table border=\"1\" class=\"dataframe\">\n",
              "  <thead>\n",
              "    <tr style=\"text-align: right;\">\n",
              "      <th></th>\n",
              "      <th>Entity</th>\n",
              "      <th>Code</th>\n",
              "      <th>Year</th>\n",
              "      <th>Mismanaged waste (% global total) (% of global total)</th>\n",
              "    </tr>\n",
              "  </thead>\n",
              "  <tbody>\n",
              "    <tr>\n",
              "      <th>0</th>\n",
              "      <td>Albania</td>\n",
              "      <td>ALB</td>\n",
              "      <td>2010</td>\n",
              "      <td>0.0933</td>\n",
              "    </tr>\n",
              "    <tr>\n",
              "      <th>1</th>\n",
              "      <td>Algeria</td>\n",
              "      <td>DZA</td>\n",
              "      <td>2010</td>\n",
              "      <td>1.6347</td>\n",
              "    </tr>\n",
              "    <tr>\n",
              "      <th>2</th>\n",
              "      <td>Angola</td>\n",
              "      <td>AGO</td>\n",
              "      <td>2010</td>\n",
              "      <td>0.1964</td>\n",
              "    </tr>\n",
              "    <tr>\n",
              "      <th>3</th>\n",
              "      <td>Anguilla</td>\n",
              "      <td>AIA</td>\n",
              "      <td>2010</td>\n",
              "      <td>0.0002</td>\n",
              "    </tr>\n",
              "    <tr>\n",
              "      <th>4</th>\n",
              "      <td>Antigua and Barbuda</td>\n",
              "      <td>ATG</td>\n",
              "      <td>2010</td>\n",
              "      <td>0.0039</td>\n",
              "    </tr>\n",
              "  </tbody>\n",
              "</table>\n",
              "</div>"
            ],
            "text/plain": [
              "                Entity  ... Mismanaged waste (% global total) (% of global total)\n",
              "0              Albania  ...                                             0.0933   \n",
              "1              Algeria  ...                                             1.6347   \n",
              "2               Angola  ...                                             0.1964   \n",
              "3             Anguilla  ...                                             0.0002   \n",
              "4  Antigua and Barbuda  ...                                             0.0039   \n",
              "\n",
              "[5 rows x 4 columns]"
            ]
          },
          "metadata": {
            "tags": []
          },
          "execution_count": 3
        }
      ]
    },
    {
      "cell_type": "code",
      "metadata": {
        "colab": {
          "base_uri": "https://localhost:8080/"
        },
        "id": "46QjhgvyDsSD",
        "outputId": "ea7cbd83-c83a-468a-d4e0-3b55f901c082"
      },
      "source": [
        "df.columns"
      ],
      "execution_count": null,
      "outputs": [
        {
          "output_type": "execute_result",
          "data": {
            "text/plain": [
              "Index(['Entity', 'Code', 'Year',\n",
              "       'Mismanaged waste (% global total) (% of global total)'],\n",
              "      dtype='object')"
            ]
          },
          "metadata": {
            "tags": []
          },
          "execution_count": 5
        }
      ]
    },
    {
      "cell_type": "code",
      "metadata": {
        "colab": {
          "base_uri": "https://localhost:8080/",
          "height": 542
        },
        "id": "_s9GW18rxR-6",
        "outputId": "8901e240-8b2d-404f-dd74-9640cc34f3c9"
      },
      "source": [
        "#TODO:\n",
        "#Use a choropleth map to present the amount of mismanaged waste by country\n",
        "import plotly.express as px\n",
        "fig = px.choropleth(df, locations=\"Code\",\n",
        "                    color=\"Mismanaged waste (% global total) (% of global total)\", \n",
        "                    hover_name='Entity', \n",
        "                    color_continuous_scale='reds')\n",
        "fig.show()\n",
        "#The label(hover) should include the country name and percentage of mismanaged waste\n",
        "#Interpret your key findings from the map graph\n",
        "'''\n",
        "East Asian countries- China, Indonesia, Philippines, Vietnam, Cambodia seem to be having \n",
        "the most managed waste percentages\n",
        "'''"
      ],
      "execution_count": null,
      "outputs": [
        {
          "output_type": "display_data",
          "data": {
            "text/html": [
              "<html>\n",
              "<head><meta charset=\"utf-8\" /></head>\n",
              "<body>\n",
              "    <div>\n",
              "            <script src=\"https://cdnjs.cloudflare.com/ajax/libs/mathjax/2.7.5/MathJax.js?config=TeX-AMS-MML_SVG\"></script><script type=\"text/javascript\">if (window.MathJax) {MathJax.Hub.Config({SVG: {font: \"STIX-Web\"}});}</script>\n",
              "                <script type=\"text/javascript\">window.PlotlyConfig = {MathJaxConfig: 'local'};</script>\n",
              "        <script src=\"https://cdn.plot.ly/plotly-latest.min.js\"></script>    \n",
              "            <div id=\"c1d43e1f-52a2-4634-8c15-edfd23a864aa\" class=\"plotly-graph-div\" style=\"height:525px; width:100%;\"></div>\n",
              "            <script type=\"text/javascript\">\n",
              "                \n",
              "                    window.PLOTLYENV=window.PLOTLYENV || {};\n",
              "                    \n",
              "                if (document.getElementById(\"c1d43e1f-52a2-4634-8c15-edfd23a864aa\")) {\n",
              "                    Plotly.newPlot(\n",
              "                        'c1d43e1f-52a2-4634-8c15-edfd23a864aa',\n",
              "                        [{\"coloraxis\": \"coloraxis\", \"geo\": \"geo\", \"hoverlabel\": {\"namelength\": 0}, \"hovertemplate\": \"<b>%{hovertext}</b><br><br>Code=%{location}<br>Mismanaged waste (% global total) (% of global total)=%{z}\", \"hovertext\": [\"Albania\", \"Algeria\", \"Angola\", \"Anguilla\", \"Antigua and Barbuda\", \"Argentina\", \"Aruba\", \"Australia\", \"Bahamas\", \"Bahrain\", \"Bangladesh\", \"Barbados\", \"Belgium\", \"Belize\", \"Benin\", \"Bermuda\", \"Bosnia and Herzegovina\", \"Brazil\", \"British Virgin Islands\", \"Brunei\", \"Bulgaria\", \"Cambodia\", \"Cameroon\", \"Canada\", \"Cape Verde\", \"Cayman Islands\", \"Channel Islands\", \"Chile\", \"China\", \"Christmas Island\", \"Cocos Islands\", \"Colombia\", \"Comoros\", \"Congo\", \"Cook Islands\", \"Costa Rica\", \"Cote d'Ivoire\", \"Croatia\", \"Cuba\", \"Curacao\", \"Cyprus\", \"Democratic Republic of Congo\", \"Denmark\", \"Djibouti\", \"Dominica\", \"Dominican Republic\", \"Ecuador\", \"Egypt\", \"El Salvador\", \"Equatorial Guinea\", \"Eritrea\", \"Estonia\", \"Faeroe Islands\", \"Falkland Islands\", \"Fiji\", \"Finland\", \"France\", \"French Guiana\", \"French Polynesia\", \"Gabon\", \"Gambia\", \"Georgia\", \"Germany\", \"Ghana\", \"Gibraltar\", \"Greece\", \"Greenland\", \"Grenada\", \"Guadeloupe\", \"Guam\", \"Guatemala\", \"Guernsey\", \"Guinea\", \"Guinea-Bissau\", \"Guyana\", \"Haiti\", \"Honduras\", \"Hong Kong\", \"Iceland\", \"India\", \"Indonesia\", \"Iran\", \"Iraq\", \"Ireland\", \"Israel\", \"Italy\", \"Jamaica\", \"Japan\", \"Jordan\", \"Kenya\", \"Kiribati\", \"Kuwait\", \"Latvia\", \"Lebanon\", \"Liberia\", \"Libya\", \"Lithuania\", \"Macao\", \"Madagascar\", \"Malaysia\", \"Maldives\", \"Malta\", \"Marshall Islands\", \"Martinique\", \"Mauritania\", \"Mauritius\", \"Mexico\", \"Micronesia (country)\", \"Monaco\", \"Montenegro\", \"Montserrat\", \"Morocco\", \"Mozambique\", \"Myanmar\", \"Namibia\", \"Nauru\", \"Netherlands\", \"Netherlands Antilles\", \"New Caledonia\", \"New Zealand\", \"Nicaragua\", \"Nigeria\", \"Niue\", \"Norfolk Island\", \"North Korea\", \"Northern Mariana Islands\", \"Norway\", \"Oman\", \"Pakistan\", \"Palau\", \"Palestine\", \"Panama\", \"Papua New Guinea\", \"Peru\", \"Philippines\", \"Poland\", \"Portugal\", \"Puerto Rico\", \"Qatar\", \"Reunion\", \"Romania\", \"Russia\", \"Saint Helena\", \"Saint Kitts and Nevis\", \"Saint Lucia\", \"Saint Pierre and Miquelon\", \"Saint Vincent and the Grenadines\", \"Samoa\", \"Sao Tome and Principe\", \"Saudi Arabia\", \"Senegal\", \"Seychelles\", \"Sierra Leone\", \"Singapore\", \"Sint Maarten (Dutch part)\", \"Slovenia\", \"Solomon Islands\", \"Somalia\", \"South Africa\", \"South Korea\", \"Spain\", \"Sri Lanka\", \"Sudan\", \"Suriname\", \"Sweden\", \"Syria\", \"Taiwan\", \"Tanzania\", \"Thailand\", \"Togo\", \"Tokelau\", \"Tonga\", \"Trinidad and Tobago\", \"Tunisia\", \"Turkey\", \"Turks and Caicos Islands\", \"Tuvalu\", \"Ukraine\", \"United Arab Emirates\", \"United Kingdom\", \"United States\", \"Uruguay\", \"Vanuatu\", \"Venezuela\", \"Vietnam\", \"Yemen\"], \"locations\": [\"ALB\", \"DZA\", \"AGO\", \"AIA\", \"ATG\", \"ARG\", \"ABW\", \"AUS\", \"BHS\", \"BHR\", \"BGD\", \"BRB\", \"BEL\", \"BLZ\", \"BEN\", \"BMU\", \"BIH\", \"BRA\", \"VGB\", \"BRN\", \"BGR\", \"KHM\", \"CMR\", \"CAN\", \"CPV\", \"CYM\", \"OWID_CIS\", \"CHL\", \"CHN\", \"CXR\", \"CCK\", \"COL\", \"COM\", \"COG\", \"COK\", \"CRI\", \"CIV\", \"HRV\", \"CUB\", \"CUW\", \"CYP\", \"COD\", \"DNK\", \"DJI\", \"DMA\", \"DOM\", \"ECU\", \"EGY\", \"SLV\", \"GNQ\", \"ERI\", \"EST\", \"FRO\", \"FLK\", \"FJI\", \"FIN\", \"FRA\", \"GUF\", \"PYF\", \"GAB\", \"GMB\", \"GEO\", \"DEU\", \"GHA\", \"GIB\", \"GRC\", \"GRL\", \"GRD\", \"GLP\", \"GUM\", \"GTM\", \"GGY\", \"GIN\", \"GNB\", \"GUY\", \"HTI\", \"HND\", \"HKG\", \"ISL\", \"IND\", \"IDN\", \"IRN\", \"IRQ\", \"IRL\", \"ISR\", \"ITA\", \"JAM\", \"JPN\", \"JOR\", \"KEN\", \"KIR\", \"KWT\", \"LVA\", \"LBN\", \"LBR\", \"LBY\", \"LTU\", \"MAC\", \"MDG\", \"MYS\", \"MDV\", \"MLT\", \"MHL\", \"MTQ\", \"MRT\", \"MUS\", \"MEX\", \"FSM\", \"MCO\", \"MNE\", \"MSR\", \"MAR\", \"MOZ\", \"MMR\", \"NAM\", \"NRU\", \"NLD\", \"ANT\", \"NCL\", \"NZL\", \"NIC\", \"NGA\", \"NIU\", \"NFK\", \"PRK\", \"MNP\", \"NOR\", \"OMN\", \"PAK\", \"PLW\", \"PSE\", \"PAN\", \"PNG\", \"PER\", \"PHL\", \"POL\", \"PRT\", \"PRI\", \"QAT\", \"REU\", \"ROU\", \"RUS\", \"SHN\", \"KNA\", \"LCA\", \"SPM\", \"VCT\", \"WSM\", \"STP\", \"SAU\", \"SEN\", \"SYC\", \"SLE\", \"SGP\", \"SXM\", \"SVN\", \"SLB\", \"SOM\", \"ZAF\", \"KOR\", \"ESP\", \"LKA\", \"SDN\", \"SUR\", \"SWE\", \"SYR\", \"TWN\", \"TZA\", \"THA\", \"TGO\", \"TKL\", \"TON\", \"TTO\", \"TUN\", \"TUR\", \"TCA\", \"TUV\", \"UKR\", \"ARE\", \"GBR\", \"USA\", \"URY\", \"VUT\", \"VEN\", \"VNM\", \"YEM\"], \"name\": \"\", \"type\": \"choropleth\", \"z\": [0.0933, 1.6347, 0.1964, 0.0002, 0.0039, 0.4955, 0.0012, 0.0436, 0.0042, 0.0137, 2.4725, 0.0109, 0.0086, 0.0122, 0.1351, 0.0004, 0.0407, 1.4804, 0.0002, 0.0003, 0.0588, 0.0932, 0.087, 0.025, 0.0294, 0.0003, 0.0009, 0.0683, 27.6966, 0.0, 0.0, 0.2895, 0.1822, 0.0527, 0.0013, 0.1322, 0.611, 0.0517, 0.2846, 0.0008, 0.0057, 0.0478, 0.0056, 0.0544, 0.0025, 0.3713, 0.3435, 3.0367, 0.3729, 0.0188, 0.0511, 0.0188, 0.0003, 0.0, 0.1547, 0.0157, 0.0757, 0.0074, 0.004, 0.0191, 0.0616, 0.0454, 0.0981, 0.2876, 0.0002, 0.0447, 0.0003, 0.0071, 0.0206, 0.0012, 0.2875, 0.0003, 0.0581, 0.0636, 0.1319, 0.4628, 0.3003, 0.0895, 0.0019, 1.8836, 10.1019, 0.7769, 0.0489, 0.0368, 0.0597, 0.1029, 0.0315, 0.4494, 0.0055, 0.0712, 0.0096, 0.0361, 0.0323, 0.1502, 0.1781, 0.1657, 0.0109, 0.0022, 0.1084, 2.9419, 0.0988, 0.0082, 0.01, 0.0024, 0.0435, 0.17600000000000002, 0.3182, 0.0151, 0.0002, 0.0139, 0.0001, 0.9739, 0.1444, 1.4391, 0.0172, 0.0017, 0.087, 0.0013, 0.0015, 0.0292, 0.2651, 2.674, 0.0, 0.0002, 0.9557, 0.0007, 0.0264, 0.0146, 1.5089, 0.0022, 0.0176, 0.10800000000000001, 0.2821, 0.6106, 5.9153, 0.0493, 0.0515, 0.0519, 0.0024, 0.0027, 0.0113, 0.2536, 0.0003, 0.0022, 0.0211, 0.0, 0.006999999999999999, 0.0161, 0.016, 0.0645, 0.8001, 0.0145, 0.1143, 0.0203, 0.0002, 0.0017, 0.064, 0.3188, 1.9784, 0.106, 0.14400000000000002, 4.9968, 0.07200000000000001, 0.0124, 0.0068, 0.4959, 0.1436, 0.1526, 3.2274, 0.1112, 0.0001, 0.0208, 0.2954, 0.7358, 1.526, 0.0002, 0.0014, 0.4044, 0.0095, 0.2121, 0.8649, 0.0677, 0.0706, 0.3214, 5.7588, 0.531]}],\n",
              "                        {\"coloraxis\": {\"colorbar\": {\"title\": {\"text\": \"Mismanaged waste (% global total) (% of global total)\"}}, \"colorscale\": [[0.0, \"rgb(255,245,240)\"], [0.125, \"rgb(254,224,210)\"], [0.25, \"rgb(252,187,161)\"], [0.375, \"rgb(252,146,114)\"], [0.5, \"rgb(251,106,74)\"], [0.625, \"rgb(239,59,44)\"], [0.75, \"rgb(203,24,29)\"], [0.875, \"rgb(165,15,21)\"], [1.0, \"rgb(103,0,13)\"]]}, \"geo\": {\"center\": {}, \"domain\": {\"x\": [0.0, 1.0], \"y\": [0.0, 1.0]}}, \"legend\": {\"tracegroupgap\": 0}, \"margin\": {\"t\": 60}, \"template\": {\"data\": {\"bar\": [{\"error_x\": {\"color\": \"#2a3f5f\"}, \"error_y\": {\"color\": \"#2a3f5f\"}, \"marker\": {\"line\": {\"color\": \"#E5ECF6\", \"width\": 0.5}}, \"type\": \"bar\"}], \"barpolar\": [{\"marker\": {\"line\": {\"color\": \"#E5ECF6\", \"width\": 0.5}}, \"type\": \"barpolar\"}], \"carpet\": [{\"aaxis\": {\"endlinecolor\": \"#2a3f5f\", \"gridcolor\": \"white\", \"linecolor\": \"white\", \"minorgridcolor\": \"white\", \"startlinecolor\": \"#2a3f5f\"}, \"baxis\": {\"endlinecolor\": \"#2a3f5f\", \"gridcolor\": \"white\", \"linecolor\": \"white\", \"minorgridcolor\": \"white\", \"startlinecolor\": \"#2a3f5f\"}, \"type\": \"carpet\"}], \"choropleth\": [{\"colorbar\": {\"outlinewidth\": 0, \"ticks\": \"\"}, \"type\": \"choropleth\"}], \"contour\": [{\"colorbar\": {\"outlinewidth\": 0, \"ticks\": \"\"}, \"colorscale\": [[0.0, \"#0d0887\"], [0.1111111111111111, \"#46039f\"], [0.2222222222222222, \"#7201a8\"], [0.3333333333333333, \"#9c179e\"], [0.4444444444444444, \"#bd3786\"], [0.5555555555555556, \"#d8576b\"], [0.6666666666666666, \"#ed7953\"], [0.7777777777777778, \"#fb9f3a\"], [0.8888888888888888, \"#fdca26\"], [1.0, \"#f0f921\"]], \"type\": \"contour\"}], \"contourcarpet\": [{\"colorbar\": {\"outlinewidth\": 0, \"ticks\": \"\"}, \"type\": \"contourcarpet\"}], \"heatmap\": [{\"colorbar\": {\"outlinewidth\": 0, \"ticks\": \"\"}, \"colorscale\": [[0.0, \"#0d0887\"], [0.1111111111111111, \"#46039f\"], [0.2222222222222222, \"#7201a8\"], [0.3333333333333333, \"#9c179e\"], [0.4444444444444444, \"#bd3786\"], [0.5555555555555556, \"#d8576b\"], [0.6666666666666666, \"#ed7953\"], [0.7777777777777778, \"#fb9f3a\"], [0.8888888888888888, \"#fdca26\"], [1.0, \"#f0f921\"]], \"type\": \"heatmap\"}], \"heatmapgl\": [{\"colorbar\": {\"outlinewidth\": 0, \"ticks\": \"\"}, \"colorscale\": [[0.0, \"#0d0887\"], [0.1111111111111111, \"#46039f\"], [0.2222222222222222, \"#7201a8\"], [0.3333333333333333, \"#9c179e\"], [0.4444444444444444, \"#bd3786\"], [0.5555555555555556, \"#d8576b\"], [0.6666666666666666, \"#ed7953\"], [0.7777777777777778, \"#fb9f3a\"], [0.8888888888888888, \"#fdca26\"], [1.0, \"#f0f921\"]], \"type\": \"heatmapgl\"}], \"histogram\": [{\"marker\": {\"colorbar\": {\"outlinewidth\": 0, \"ticks\": \"\"}}, \"type\": \"histogram\"}], \"histogram2d\": [{\"colorbar\": {\"outlinewidth\": 0, \"ticks\": \"\"}, \"colorscale\": [[0.0, \"#0d0887\"], [0.1111111111111111, \"#46039f\"], [0.2222222222222222, \"#7201a8\"], [0.3333333333333333, \"#9c179e\"], [0.4444444444444444, \"#bd3786\"], [0.5555555555555556, \"#d8576b\"], [0.6666666666666666, \"#ed7953\"], [0.7777777777777778, \"#fb9f3a\"], [0.8888888888888888, \"#fdca26\"], [1.0, \"#f0f921\"]], \"type\": \"histogram2d\"}], \"histogram2dcontour\": [{\"colorbar\": {\"outlinewidth\": 0, \"ticks\": \"\"}, \"colorscale\": [[0.0, \"#0d0887\"], [0.1111111111111111, \"#46039f\"], [0.2222222222222222, \"#7201a8\"], [0.3333333333333333, \"#9c179e\"], [0.4444444444444444, \"#bd3786\"], [0.5555555555555556, \"#d8576b\"], [0.6666666666666666, \"#ed7953\"], [0.7777777777777778, \"#fb9f3a\"], [0.8888888888888888, \"#fdca26\"], [1.0, \"#f0f921\"]], \"type\": \"histogram2dcontour\"}], \"mesh3d\": [{\"colorbar\": {\"outlinewidth\": 0, \"ticks\": \"\"}, \"type\": \"mesh3d\"}], \"parcoords\": [{\"line\": {\"colorbar\": {\"outlinewidth\": 0, \"ticks\": \"\"}}, \"type\": \"parcoords\"}], \"pie\": [{\"automargin\": true, \"type\": \"pie\"}], \"scatter\": [{\"marker\": {\"colorbar\": {\"outlinewidth\": 0, \"ticks\": \"\"}}, \"type\": \"scatter\"}], \"scatter3d\": [{\"line\": {\"colorbar\": {\"outlinewidth\": 0, \"ticks\": \"\"}}, \"marker\": {\"colorbar\": {\"outlinewidth\": 0, \"ticks\": \"\"}}, \"type\": \"scatter3d\"}], \"scattercarpet\": [{\"marker\": {\"colorbar\": {\"outlinewidth\": 0, \"ticks\": \"\"}}, \"type\": \"scattercarpet\"}], \"scattergeo\": [{\"marker\": {\"colorbar\": {\"outlinewidth\": 0, \"ticks\": \"\"}}, \"type\": \"scattergeo\"}], \"scattergl\": [{\"marker\": {\"colorbar\": {\"outlinewidth\": 0, \"ticks\": \"\"}}, \"type\": \"scattergl\"}], \"scattermapbox\": [{\"marker\": {\"colorbar\": {\"outlinewidth\": 0, \"ticks\": \"\"}}, \"type\": \"scattermapbox\"}], \"scatterpolar\": [{\"marker\": {\"colorbar\": {\"outlinewidth\": 0, \"ticks\": \"\"}}, \"type\": \"scatterpolar\"}], \"scatterpolargl\": [{\"marker\": {\"colorbar\": {\"outlinewidth\": 0, \"ticks\": \"\"}}, \"type\": \"scatterpolargl\"}], \"scatterternary\": [{\"marker\": {\"colorbar\": {\"outlinewidth\": 0, \"ticks\": \"\"}}, \"type\": \"scatterternary\"}], \"surface\": [{\"colorbar\": {\"outlinewidth\": 0, \"ticks\": \"\"}, \"colorscale\": [[0.0, \"#0d0887\"], [0.1111111111111111, \"#46039f\"], [0.2222222222222222, \"#7201a8\"], [0.3333333333333333, \"#9c179e\"], [0.4444444444444444, \"#bd3786\"], [0.5555555555555556, \"#d8576b\"], [0.6666666666666666, \"#ed7953\"], [0.7777777777777778, \"#fb9f3a\"], [0.8888888888888888, \"#fdca26\"], [1.0, \"#f0f921\"]], \"type\": \"surface\"}], \"table\": [{\"cells\": {\"fill\": {\"color\": \"#EBF0F8\"}, \"line\": {\"color\": \"white\"}}, \"header\": {\"fill\": {\"color\": \"#C8D4E3\"}, \"line\": {\"color\": \"white\"}}, \"type\": \"table\"}]}, \"layout\": {\"annotationdefaults\": {\"arrowcolor\": \"#2a3f5f\", \"arrowhead\": 0, \"arrowwidth\": 1}, \"coloraxis\": {\"colorbar\": {\"outlinewidth\": 0, \"ticks\": \"\"}}, \"colorscale\": {\"diverging\": [[0, \"#8e0152\"], [0.1, \"#c51b7d\"], [0.2, \"#de77ae\"], [0.3, \"#f1b6da\"], [0.4, \"#fde0ef\"], [0.5, \"#f7f7f7\"], [0.6, \"#e6f5d0\"], [0.7, \"#b8e186\"], [0.8, \"#7fbc41\"], [0.9, \"#4d9221\"], [1, \"#276419\"]], \"sequential\": [[0.0, \"#0d0887\"], [0.1111111111111111, \"#46039f\"], [0.2222222222222222, \"#7201a8\"], [0.3333333333333333, \"#9c179e\"], [0.4444444444444444, \"#bd3786\"], [0.5555555555555556, \"#d8576b\"], [0.6666666666666666, \"#ed7953\"], [0.7777777777777778, \"#fb9f3a\"], [0.8888888888888888, \"#fdca26\"], [1.0, \"#f0f921\"]], \"sequentialminus\": [[0.0, \"#0d0887\"], [0.1111111111111111, \"#46039f\"], [0.2222222222222222, \"#7201a8\"], [0.3333333333333333, \"#9c179e\"], [0.4444444444444444, \"#bd3786\"], [0.5555555555555556, \"#d8576b\"], [0.6666666666666666, \"#ed7953\"], [0.7777777777777778, \"#fb9f3a\"], [0.8888888888888888, \"#fdca26\"], [1.0, \"#f0f921\"]]}, \"colorway\": [\"#636efa\", \"#EF553B\", \"#00cc96\", \"#ab63fa\", \"#FFA15A\", \"#19d3f3\", \"#FF6692\", \"#B6E880\", \"#FF97FF\", \"#FECB52\"], \"font\": {\"color\": \"#2a3f5f\"}, \"geo\": {\"bgcolor\": \"white\", \"lakecolor\": \"white\", \"landcolor\": \"#E5ECF6\", \"showlakes\": true, \"showland\": true, \"subunitcolor\": \"white\"}, \"hoverlabel\": {\"align\": \"left\"}, \"hovermode\": \"closest\", \"mapbox\": {\"style\": \"light\"}, \"paper_bgcolor\": \"white\", \"plot_bgcolor\": \"#E5ECF6\", \"polar\": {\"angularaxis\": {\"gridcolor\": \"white\", \"linecolor\": \"white\", \"ticks\": \"\"}, \"bgcolor\": \"#E5ECF6\", \"radialaxis\": {\"gridcolor\": \"white\", \"linecolor\": \"white\", \"ticks\": \"\"}}, \"scene\": {\"xaxis\": {\"backgroundcolor\": \"#E5ECF6\", \"gridcolor\": \"white\", \"gridwidth\": 2, \"linecolor\": \"white\", \"showbackground\": true, \"ticks\": \"\", \"zerolinecolor\": \"white\"}, \"yaxis\": {\"backgroundcolor\": \"#E5ECF6\", \"gridcolor\": \"white\", \"gridwidth\": 2, \"linecolor\": \"white\", \"showbackground\": true, \"ticks\": \"\", \"zerolinecolor\": \"white\"}, \"zaxis\": {\"backgroundcolor\": \"#E5ECF6\", \"gridcolor\": \"white\", \"gridwidth\": 2, \"linecolor\": \"white\", \"showbackground\": true, \"ticks\": \"\", \"zerolinecolor\": \"white\"}}, \"shapedefaults\": {\"line\": {\"color\": \"#2a3f5f\"}}, \"ternary\": {\"aaxis\": {\"gridcolor\": \"white\", \"linecolor\": \"white\", \"ticks\": \"\"}, \"baxis\": {\"gridcolor\": \"white\", \"linecolor\": \"white\", \"ticks\": \"\"}, \"bgcolor\": \"#E5ECF6\", \"caxis\": {\"gridcolor\": \"white\", \"linecolor\": \"white\", \"ticks\": \"\"}}, \"title\": {\"x\": 0.05}, \"xaxis\": {\"automargin\": true, \"gridcolor\": \"white\", \"linecolor\": \"white\", \"ticks\": \"\", \"title\": {\"standoff\": 15}, \"zerolinecolor\": \"white\", \"zerolinewidth\": 2}, \"yaxis\": {\"automargin\": true, \"gridcolor\": \"white\", \"linecolor\": \"white\", \"ticks\": \"\", \"title\": {\"standoff\": 15}, \"zerolinecolor\": \"white\", \"zerolinewidth\": 2}}}},\n",
              "                        {\"responsive\": true}\n",
              "                    ).then(function(){\n",
              "                            \n",
              "var gd = document.getElementById('c1d43e1f-52a2-4634-8c15-edfd23a864aa');\n",
              "var x = new MutationObserver(function (mutations, observer) {{\n",
              "        var display = window.getComputedStyle(gd).display;\n",
              "        if (!display || display === 'none') {{\n",
              "            console.log([gd, 'removed!']);\n",
              "            Plotly.purge(gd);\n",
              "            observer.disconnect();\n",
              "        }}\n",
              "}});\n",
              "\n",
              "// Listen for the removal of the full notebook cells\n",
              "var notebookContainer = gd.closest('#notebook-container');\n",
              "if (notebookContainer) {{\n",
              "    x.observe(notebookContainer, {childList: true});\n",
              "}}\n",
              "\n",
              "// Listen for the clearing of the current output cell\n",
              "var outputEl = gd.closest('.output');\n",
              "if (outputEl) {{\n",
              "    x.observe(outputEl, {childList: true});\n",
              "}}\n",
              "\n",
              "                        })\n",
              "                };\n",
              "                \n",
              "            </script>\n",
              "        </div>\n",
              "</body>\n",
              "</html>"
            ]
          },
          "metadata": {
            "tags": []
          }
        }
      ]
    },
    {
      "cell_type": "markdown",
      "metadata": {
        "id": "hfpZip3bjG-9"
      },
      "source": [
        "**Hint:** \n",
        "\n",
        "* The variable \"code\" contains [three letters ISO country codes](https://en.wikipedia.org/wiki/ISO_3166-1_alpha-3). \n",
        "* [Use the built-in country code to create a choropleth map.](https://plotly.com/python/choropleth-maps/#using-builtin-country-and-state-geometries)\n",
        "\n"
      ]
    },
    {
      "cell_type": "markdown",
      "metadata": {
        "id": "6X-yZb6YvfhH"
      },
      "source": [
        "### Problem 2 ##"
      ]
    },
    {
      "cell_type": "markdown",
      "metadata": {
        "id": "KJEm4wRFvjL9"
      },
      "source": [
        "**Dataset:** [Plastic disposal dataset](https://ourworldindata.org/plastic-pollution)\n",
        "\n",
        "**Information:** Plastic disposal dataset methods shows how has global plastic waste disposal method changed over time. In the chart we see the share of global plastic waste that is discarded, recycled or incinerated from 1980 through to 2015.\n"
      ]
    },
    {
      "cell_type": "code",
      "metadata": {
        "colab": {
          "resources": {
            "http://localhost:8080/nbextensions/google.colab/files.js": {
              "data": "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",
              "ok": true,
              "headers": [
                [
                  "content-type",
                  "application/javascript"
                ]
              ],
              "status": 200,
              "status_text": ""
            }
          },
          "base_uri": "https://localhost:8080/",
          "height": 251
        },
        "id": "nIWptteOwH8s",
        "outputId": "162ad17e-0800-479a-9ba0-ee6b0af269b7"
      },
      "source": [
        "#Load the dataset\n",
        "from google.colab import files\n",
        "file = files.upload()  #upload file into google colab session\n",
        "df = pd.read_excel(\"activity.xlsx\") \n",
        "df.head()"
      ],
      "execution_count": null,
      "outputs": [
        {
          "output_type": "display_data",
          "data": {
            "text/html": [
              "\n",
              "     <input type=\"file\" id=\"files-7b7144e1-245f-4fb5-b6e3-b35b94a52832\" name=\"files[]\" multiple disabled\n",
              "        style=\"border:none\" />\n",
              "     <output id=\"result-7b7144e1-245f-4fb5-b6e3-b35b94a52832\">\n",
              "      Upload widget is only available when the cell has been executed in the\n",
              "      current browser session. Please rerun this cell to enable.\n",
              "      </output>\n",
              "      <script src=\"/nbextensions/google.colab/files.js\"></script> "
            ],
            "text/plain": [
              "<IPython.core.display.HTML object>"
            ]
          },
          "metadata": {
            "tags": []
          }
        },
        {
          "output_type": "stream",
          "text": [
            "Saving activity.xlsx to activity.xlsx\n"
          ],
          "name": "stdout"
        },
        {
          "output_type": "execute_result",
          "data": {
            "text/html": [
              "<div>\n",
              "<style scoped>\n",
              "    .dataframe tbody tr th:only-of-type {\n",
              "        vertical-align: middle;\n",
              "    }\n",
              "\n",
              "    .dataframe tbody tr th {\n",
              "        vertical-align: top;\n",
              "    }\n",
              "\n",
              "    .dataframe thead th {\n",
              "        text-align: right;\n",
              "    }\n",
              "</style>\n",
              "<table border=\"1\" class=\"dataframe\">\n",
              "  <thead>\n",
              "    <tr style=\"text-align: right;\">\n",
              "      <th></th>\n",
              "      <th>year</th>\n",
              "      <th>Value</th>\n",
              "      <th>Type</th>\n",
              "    </tr>\n",
              "  </thead>\n",
              "  <tbody>\n",
              "    <tr>\n",
              "      <th>0</th>\n",
              "      <td>1960</td>\n",
              "      <td>88.1</td>\n",
              "      <td>Generation</td>\n",
              "    </tr>\n",
              "    <tr>\n",
              "      <th>1</th>\n",
              "      <td>1960</td>\n",
              "      <td>NaN</td>\n",
              "      <td>Composting*</td>\n",
              "    </tr>\n",
              "    <tr>\n",
              "      <th>2</th>\n",
              "      <td>1960</td>\n",
              "      <td>5.6</td>\n",
              "      <td>Recycling</td>\n",
              "    </tr>\n",
              "    <tr>\n",
              "      <th>3</th>\n",
              "      <td>1960</td>\n",
              "      <td>0.0</td>\n",
              "      <td>Combustion with energy recovery</td>\n",
              "    </tr>\n",
              "    <tr>\n",
              "      <th>4</th>\n",
              "      <td>1960</td>\n",
              "      <td>82.5</td>\n",
              "      <td>Landfilling and other disposal</td>\n",
              "    </tr>\n",
              "  </tbody>\n",
              "</table>\n",
              "</div>"
            ],
            "text/plain": [
              "   year  Value                             Type\n",
              "0  1960   88.1                       Generation\n",
              "1  1960    NaN                      Composting*\n",
              "2  1960    5.6                        Recycling\n",
              "3  1960    0.0  Combustion with energy recovery\n",
              "4  1960   82.5   Landfilling and other disposal"
            ]
          },
          "metadata": {
            "tags": []
          },
          "execution_count": 15
        }
      ]
    },
    {
      "cell_type": "code",
      "metadata": {
        "id": "9Dd91TqnwIFR",
        "colab": {
          "base_uri": "https://localhost:8080/",
          "height": 542
        },
        "outputId": "69bddef8-6748-44c3-83ce-a62362a7b886"
      },
      "source": [
        "#TODO:\n",
        "#Use an animated bar chart to indicate the change of trash disposal method throughout the years\n",
        "#Interpret your key findings from the graph\n",
        "fig = px.bar(df, x=\"Type\", y=\"Value\", color=\"Type\",\n",
        "  animation_frame=\"year\", animation_group=\"Type\", range_y=[0,300])\n",
        "fig.show()"
      ],
      "execution_count": null,
      "outputs": [
        {
          "output_type": "display_data",
          "data": {
            "text/html": [
              "<html>\n",
              "<head><meta charset=\"utf-8\" /></head>\n",
              "<body>\n",
              "    <div>\n",
              "            <script src=\"https://cdnjs.cloudflare.com/ajax/libs/mathjax/2.7.5/MathJax.js?config=TeX-AMS-MML_SVG\"></script><script type=\"text/javascript\">if (window.MathJax) {MathJax.Hub.Config({SVG: {font: \"STIX-Web\"}});}</script>\n",
              "                <script type=\"text/javascript\">window.PlotlyConfig = {MathJaxConfig: 'local'};</script>\n",
              "        <script src=\"https://cdn.plot.ly/plotly-latest.min.js\"></script>    \n",
              "            <div id=\"34178ce1-1ed8-4d9d-9d0e-15ab730da3a9\" class=\"plotly-graph-div\" style=\"height:525px; width:100%;\"></div>\n",
              "            <script type=\"text/javascript\">\n",
              "                \n",
              "                    window.PLOTLYENV=window.PLOTLYENV || {};\n",
              "                    \n",
              "                if (document.getElementById(\"34178ce1-1ed8-4d9d-9d0e-15ab730da3a9\")) {\n",
              "                    Plotly.newPlot(\n",
              "                        '34178ce1-1ed8-4d9d-9d0e-15ab730da3a9',\n",
              "                        [{\"alignmentgroup\": \"True\", \"hoverlabel\": {\"namelength\": 0}, \"hovertemplate\": \"Type=%{x}<br>year=1960<br>Value=%{y}\", \"ids\": [\"Generation\"], \"legendgroup\": \"Type=Generation\", \"marker\": {\"color\": \"#636efa\"}, \"name\": \"Type=Generation\", \"offsetgroup\": \"Type=Generation\", \"orientation\": \"v\", \"showlegend\": true, \"textposition\": \"auto\", \"type\": \"bar\", \"x\": [\"Generation\"], \"xaxis\": \"x\", \"y\": [88.1], \"yaxis\": \"y\"}, {\"alignmentgroup\": \"True\", \"hoverlabel\": {\"namelength\": 0}, \"hovertemplate\": \"Type=%{x}<br>year=1960<br>Value=%{y}\", \"ids\": [\"Composting*\"], \"legendgroup\": \"Type=Composting*\", \"marker\": {\"color\": \"#EF553B\"}, \"name\": \"Type=Composting*\", \"offsetgroup\": \"Type=Composting*\", \"orientation\": \"v\", \"showlegend\": true, \"textposition\": \"auto\", \"type\": \"bar\", \"x\": [\"Composting*\"], \"xaxis\": \"x\", \"y\": [null], \"yaxis\": \"y\"}, {\"alignmentgroup\": \"True\", \"hoverlabel\": {\"namelength\": 0}, \"hovertemplate\": \"Type=%{x}<br>year=1960<br>Value=%{y}\", \"ids\": [\"Recycling\"], \"legendgroup\": \"Type=Recycling\", \"marker\": {\"color\": \"#00cc96\"}, \"name\": \"Type=Recycling\", \"offsetgroup\": \"Type=Recycling\", \"orientation\": \"v\", \"showlegend\": true, \"textposition\": \"auto\", \"type\": \"bar\", \"x\": [\"Recycling\"], \"xaxis\": \"x\", \"y\": [5.6], \"yaxis\": \"y\"}, {\"alignmentgroup\": \"True\", \"hoverlabel\": {\"namelength\": 0}, \"hovertemplate\": \"Type=%{x}<br>year=1960<br>Value=%{y}\", \"ids\": [\"Combustion with energy recovery\"], \"legendgroup\": \"Type=Combustion with energy recovery\", \"marker\": {\"color\": \"#ab63fa\"}, \"name\": \"Type=Combustion with energy recovery\", \"offsetgroup\": \"Type=Combustion with energy recovery\", \"orientation\": \"v\", \"showlegend\": true, \"textposition\": \"auto\", \"type\": \"bar\", \"x\": [\"Combustion with energy recovery\"], \"xaxis\": \"x\", \"y\": [0.0], \"yaxis\": \"y\"}, {\"alignmentgroup\": \"True\", \"hoverlabel\": {\"namelength\": 0}, \"hovertemplate\": \"Type=%{x}<br>year=1960<br>Value=%{y}\", \"ids\": [\"Landfilling and other disposal\"], \"legendgroup\": \"Type=Landfilling and other disposal\", \"marker\": {\"color\": \"#FFA15A\"}, \"name\": \"Type=Landfilling and other disposal\", \"offsetgroup\": \"Type=Landfilling and other disposal\", \"orientation\": \"v\", \"showlegend\": true, \"textposition\": \"auto\", \"type\": \"bar\", \"x\": [\"Landfilling and other disposal\"], \"xaxis\": \"x\", \"y\": [82.5], \"yaxis\": \"y\"}],\n",
              "                        {\"barmode\": \"relative\", \"legend\": {\"tracegroupgap\": 0}, \"margin\": {\"t\": 60}, \"sliders\": [{\"active\": 0, \"currentvalue\": {\"prefix\": \"year=\"}, \"len\": 0.9, \"pad\": {\"b\": 10, \"t\": 60}, \"steps\": [{\"args\": [[\"1960\"], {\"frame\": {\"duration\": 0, \"redraw\": true}, \"fromcurrent\": true, \"mode\": \"immediate\", \"transition\": {\"duration\": 0, \"easing\": \"linear\"}}], \"label\": \"1960\", \"method\": \"animate\"}, {\"args\": [[\"1970\"], {\"frame\": {\"duration\": 0, \"redraw\": true}, \"fromcurrent\": true, \"mode\": \"immediate\", \"transition\": {\"duration\": 0, \"easing\": \"linear\"}}], \"label\": \"1970\", \"method\": \"animate\"}, {\"args\": [[\"1980\"], {\"frame\": {\"duration\": 0, \"redraw\": true}, \"fromcurrent\": true, \"mode\": \"immediate\", \"transition\": {\"duration\": 0, \"easing\": \"linear\"}}], \"label\": \"1980\", \"method\": \"animate\"}, {\"args\": [[\"1990\"], {\"frame\": {\"duration\": 0, \"redraw\": true}, \"fromcurrent\": true, \"mode\": \"immediate\", \"transition\": {\"duration\": 0, \"easing\": \"linear\"}}], \"label\": \"1990\", \"method\": \"animate\"}, {\"args\": [[\"2000\"], {\"frame\": {\"duration\": 0, \"redraw\": true}, \"fromcurrent\": true, \"mode\": \"immediate\", \"transition\": {\"duration\": 0, \"easing\": \"linear\"}}], \"label\": \"2000\", \"method\": \"animate\"}, {\"args\": [[\"2005\"], {\"frame\": {\"duration\": 0, \"redraw\": true}, \"fromcurrent\": true, \"mode\": \"immediate\", \"transition\": {\"duration\": 0, \"easing\": \"linear\"}}], \"label\": \"2005\", \"method\": \"animate\"}, {\"args\": [[\"2010\"], {\"frame\": {\"duration\": 0, \"redraw\": true}, \"fromcurrent\": true, \"mode\": \"immediate\", \"transition\": {\"duration\": 0, \"easing\": \"linear\"}}], \"label\": \"2010\", \"method\": \"animate\"}, {\"args\": [[\"2015\"], {\"frame\": {\"duration\": 0, \"redraw\": true}, \"fromcurrent\": true, \"mode\": \"immediate\", \"transition\": {\"duration\": 0, \"easing\": \"linear\"}}], \"label\": \"2015\", \"method\": \"animate\"}, {\"args\": [[\"2016\"], {\"frame\": {\"duration\": 0, \"redraw\": true}, \"fromcurrent\": true, \"mode\": \"immediate\", \"transition\": {\"duration\": 0, \"easing\": \"linear\"}}], \"label\": \"2016\", \"method\": \"animate\"}, {\"args\": [[\"2017\"], {\"frame\": {\"duration\": 0, \"redraw\": true}, \"fromcurrent\": true, \"mode\": \"immediate\", \"transition\": {\"duration\": 0, \"easing\": \"linear\"}}], \"label\": \"2017\", \"method\": \"animate\"}], \"x\": 0.1, \"xanchor\": \"left\", \"y\": 0, \"yanchor\": \"top\"}], \"template\": {\"data\": {\"bar\": [{\"error_x\": {\"color\": \"#2a3f5f\"}, \"error_y\": {\"color\": \"#2a3f5f\"}, \"marker\": {\"line\": {\"color\": \"#E5ECF6\", \"width\": 0.5}}, \"type\": \"bar\"}], \"barpolar\": [{\"marker\": {\"line\": {\"color\": \"#E5ECF6\", \"width\": 0.5}}, \"type\": \"barpolar\"}], \"carpet\": [{\"aaxis\": {\"endlinecolor\": \"#2a3f5f\", \"gridcolor\": \"white\", \"linecolor\": \"white\", \"minorgridcolor\": \"white\", \"startlinecolor\": \"#2a3f5f\"}, \"baxis\": {\"endlinecolor\": \"#2a3f5f\", \"gridcolor\": \"white\", \"linecolor\": \"white\", \"minorgridcolor\": \"white\", \"startlinecolor\": \"#2a3f5f\"}, \"type\": \"carpet\"}], \"choropleth\": [{\"colorbar\": {\"outlinewidth\": 0, \"ticks\": \"\"}, \"type\": \"choropleth\"}], \"contour\": [{\"colorbar\": {\"outlinewidth\": 0, \"ticks\": \"\"}, \"colorscale\": [[0.0, \"#0d0887\"], [0.1111111111111111, \"#46039f\"], [0.2222222222222222, \"#7201a8\"], [0.3333333333333333, \"#9c179e\"], [0.4444444444444444, \"#bd3786\"], [0.5555555555555556, \"#d8576b\"], [0.6666666666666666, \"#ed7953\"], [0.7777777777777778, \"#fb9f3a\"], [0.8888888888888888, \"#fdca26\"], [1.0, \"#f0f921\"]], \"type\": \"contour\"}], \"contourcarpet\": [{\"colorbar\": {\"outlinewidth\": 0, \"ticks\": \"\"}, \"type\": \"contourcarpet\"}], \"heatmap\": [{\"colorbar\": {\"outlinewidth\": 0, \"ticks\": \"\"}, \"colorscale\": [[0.0, \"#0d0887\"], [0.1111111111111111, \"#46039f\"], [0.2222222222222222, \"#7201a8\"], [0.3333333333333333, \"#9c179e\"], [0.4444444444444444, \"#bd3786\"], [0.5555555555555556, \"#d8576b\"], [0.6666666666666666, \"#ed7953\"], [0.7777777777777778, \"#fb9f3a\"], [0.8888888888888888, \"#fdca26\"], [1.0, \"#f0f921\"]], \"type\": \"heatmap\"}], \"heatmapgl\": [{\"colorbar\": {\"outlinewidth\": 0, \"ticks\": \"\"}, \"colorscale\": [[0.0, \"#0d0887\"], [0.1111111111111111, \"#46039f\"], [0.2222222222222222, \"#7201a8\"], [0.3333333333333333, \"#9c179e\"], [0.4444444444444444, \"#bd3786\"], [0.5555555555555556, \"#d8576b\"], [0.6666666666666666, \"#ed7953\"], [0.7777777777777778, \"#fb9f3a\"], [0.8888888888888888, \"#fdca26\"], [1.0, \"#f0f921\"]], \"type\": \"heatmapgl\"}], \"histogram\": [{\"marker\": {\"colorbar\": {\"outlinewidth\": 0, \"ticks\": \"\"}}, \"type\": \"histogram\"}], \"histogram2d\": [{\"colorbar\": {\"outlinewidth\": 0, \"ticks\": \"\"}, \"colorscale\": [[0.0, \"#0d0887\"], [0.1111111111111111, \"#46039f\"], [0.2222222222222222, \"#7201a8\"], [0.3333333333333333, \"#9c179e\"], [0.4444444444444444, \"#bd3786\"], [0.5555555555555556, \"#d8576b\"], [0.6666666666666666, \"#ed7953\"], [0.7777777777777778, \"#fb9f3a\"], [0.8888888888888888, \"#fdca26\"], [1.0, \"#f0f921\"]], \"type\": \"histogram2d\"}], \"histogram2dcontour\": [{\"colorbar\": {\"outlinewidth\": 0, \"ticks\": \"\"}, \"colorscale\": [[0.0, \"#0d0887\"], [0.1111111111111111, \"#46039f\"], [0.2222222222222222, \"#7201a8\"], [0.3333333333333333, \"#9c179e\"], [0.4444444444444444, \"#bd3786\"], [0.5555555555555556, \"#d8576b\"], [0.6666666666666666, \"#ed7953\"], [0.7777777777777778, \"#fb9f3a\"], [0.8888888888888888, \"#fdca26\"], [1.0, \"#f0f921\"]], \"type\": \"histogram2dcontour\"}], \"mesh3d\": [{\"colorbar\": {\"outlinewidth\": 0, \"ticks\": \"\"}, \"type\": \"mesh3d\"}], \"parcoords\": [{\"line\": {\"colorbar\": {\"outlinewidth\": 0, \"ticks\": \"\"}}, \"type\": \"parcoords\"}], \"pie\": [{\"automargin\": true, \"type\": \"pie\"}], \"scatter\": [{\"marker\": {\"colorbar\": {\"outlinewidth\": 0, \"ticks\": \"\"}}, \"type\": \"scatter\"}], \"scatter3d\": [{\"line\": {\"colorbar\": {\"outlinewidth\": 0, \"ticks\": \"\"}}, \"marker\": {\"colorbar\": {\"outlinewidth\": 0, \"ticks\": \"\"}}, \"type\": \"scatter3d\"}], \"scattercarpet\": [{\"marker\": {\"colorbar\": {\"outlinewidth\": 0, \"ticks\": \"\"}}, \"type\": \"scattercarpet\"}], \"scattergeo\": [{\"marker\": {\"colorbar\": {\"outlinewidth\": 0, \"ticks\": \"\"}}, \"type\": \"scattergeo\"}], \"scattergl\": [{\"marker\": {\"colorbar\": {\"outlinewidth\": 0, \"ticks\": \"\"}}, \"type\": \"scattergl\"}], \"scattermapbox\": [{\"marker\": {\"colorbar\": {\"outlinewidth\": 0, \"ticks\": \"\"}}, \"type\": \"scattermapbox\"}], \"scatterpolar\": [{\"marker\": {\"colorbar\": {\"outlinewidth\": 0, \"ticks\": \"\"}}, \"type\": \"scatterpolar\"}], \"scatterpolargl\": [{\"marker\": {\"colorbar\": {\"outlinewidth\": 0, \"ticks\": \"\"}}, \"type\": \"scatterpolargl\"}], \"scatterternary\": [{\"marker\": {\"colorbar\": {\"outlinewidth\": 0, \"ticks\": \"\"}}, \"type\": \"scatterternary\"}], \"surface\": [{\"colorbar\": {\"outlinewidth\": 0, \"ticks\": \"\"}, \"colorscale\": [[0.0, \"#0d0887\"], [0.1111111111111111, \"#46039f\"], [0.2222222222222222, \"#7201a8\"], [0.3333333333333333, \"#9c179e\"], [0.4444444444444444, \"#bd3786\"], [0.5555555555555556, \"#d8576b\"], [0.6666666666666666, \"#ed7953\"], [0.7777777777777778, \"#fb9f3a\"], [0.8888888888888888, \"#fdca26\"], [1.0, \"#f0f921\"]], \"type\": \"surface\"}], \"table\": [{\"cells\": {\"fill\": {\"color\": \"#EBF0F8\"}, \"line\": {\"color\": \"white\"}}, \"header\": {\"fill\": {\"color\": \"#C8D4E3\"}, \"line\": {\"color\": \"white\"}}, \"type\": \"table\"}]}, \"layout\": {\"annotationdefaults\": {\"arrowcolor\": \"#2a3f5f\", \"arrowhead\": 0, \"arrowwidth\": 1}, \"coloraxis\": {\"colorbar\": {\"outlinewidth\": 0, \"ticks\": \"\"}}, \"colorscale\": {\"diverging\": [[0, \"#8e0152\"], [0.1, \"#c51b7d\"], [0.2, \"#de77ae\"], [0.3, \"#f1b6da\"], [0.4, \"#fde0ef\"], [0.5, \"#f7f7f7\"], [0.6, \"#e6f5d0\"], [0.7, \"#b8e186\"], [0.8, \"#7fbc41\"], [0.9, \"#4d9221\"], [1, \"#276419\"]], \"sequential\": [[0.0, \"#0d0887\"], [0.1111111111111111, \"#46039f\"], [0.2222222222222222, \"#7201a8\"], [0.3333333333333333, \"#9c179e\"], [0.4444444444444444, \"#bd3786\"], [0.5555555555555556, \"#d8576b\"], [0.6666666666666666, \"#ed7953\"], [0.7777777777777778, \"#fb9f3a\"], [0.8888888888888888, \"#fdca26\"], [1.0, \"#f0f921\"]], \"sequentialminus\": [[0.0, \"#0d0887\"], [0.1111111111111111, \"#46039f\"], [0.2222222222222222, \"#7201a8\"], [0.3333333333333333, \"#9c179e\"], [0.4444444444444444, \"#bd3786\"], [0.5555555555555556, \"#d8576b\"], [0.6666666666666666, \"#ed7953\"], [0.7777777777777778, \"#fb9f3a\"], [0.8888888888888888, \"#fdca26\"], [1.0, \"#f0f921\"]]}, \"colorway\": [\"#636efa\", \"#EF553B\", \"#00cc96\", \"#ab63fa\", \"#FFA15A\", \"#19d3f3\", \"#FF6692\", \"#B6E880\", \"#FF97FF\", \"#FECB52\"], \"font\": {\"color\": \"#2a3f5f\"}, \"geo\": {\"bgcolor\": \"white\", \"lakecolor\": \"white\", \"landcolor\": \"#E5ECF6\", \"showlakes\": true, \"showland\": true, \"subunitcolor\": \"white\"}, \"hoverlabel\": {\"align\": \"left\"}, \"hovermode\": \"closest\", \"mapbox\": {\"style\": \"light\"}, \"paper_bgcolor\": \"white\", \"plot_bgcolor\": \"#E5ECF6\", \"polar\": {\"angularaxis\": {\"gridcolor\": \"white\", \"linecolor\": \"white\", \"ticks\": \"\"}, \"bgcolor\": \"#E5ECF6\", \"radialaxis\": {\"gridcolor\": \"white\", \"linecolor\": \"white\", \"ticks\": \"\"}}, \"scene\": {\"xaxis\": {\"backgroundcolor\": \"#E5ECF6\", \"gridcolor\": \"white\", \"gridwidth\": 2, \"linecolor\": \"white\", \"showbackground\": true, \"ticks\": \"\", \"zerolinecolor\": \"white\"}, \"yaxis\": {\"backgroundcolor\": \"#E5ECF6\", \"gridcolor\": \"white\", \"gridwidth\": 2, \"linecolor\": \"white\", \"showbackground\": true, \"ticks\": \"\", \"zerolinecolor\": \"white\"}, \"zaxis\": {\"backgroundcolor\": \"#E5ECF6\", \"gridcolor\": \"white\", \"gridwidth\": 2, \"linecolor\": \"white\", \"showbackground\": true, \"ticks\": \"\", \"zerolinecolor\": \"white\"}}, \"shapedefaults\": {\"line\": {\"color\": \"#2a3f5f\"}}, \"ternary\": {\"aaxis\": {\"gridcolor\": \"white\", \"linecolor\": \"white\", \"ticks\": \"\"}, \"baxis\": {\"gridcolor\": \"white\", \"linecolor\": \"white\", \"ticks\": \"\"}, \"bgcolor\": \"#E5ECF6\", \"caxis\": {\"gridcolor\": \"white\", \"linecolor\": \"white\", \"ticks\": \"\"}}, \"title\": {\"x\": 0.05}, \"xaxis\": {\"automargin\": true, \"gridcolor\": \"white\", \"linecolor\": \"white\", \"ticks\": \"\", \"title\": {\"standoff\": 15}, \"zerolinecolor\": \"white\", \"zerolinewidth\": 2}, \"yaxis\": {\"automargin\": true, \"gridcolor\": \"white\", \"linecolor\": \"white\", \"ticks\": \"\", \"title\": {\"standoff\": 15}, \"zerolinecolor\": \"white\", \"zerolinewidth\": 2}}}, \"updatemenus\": [{\"buttons\": [{\"args\": [null, {\"frame\": {\"duration\": 500, \"redraw\": true}, \"fromcurrent\": true, \"mode\": \"immediate\", \"transition\": {\"duration\": 500, \"easing\": \"linear\"}}], \"label\": \"&#9654;\", \"method\": \"animate\"}, {\"args\": [[null], {\"frame\": {\"duration\": 0, \"redraw\": true}, \"fromcurrent\": true, \"mode\": \"immediate\", \"transition\": {\"duration\": 0, \"easing\": \"linear\"}}], \"label\": \"&#9724;\", \"method\": \"animate\"}], \"direction\": \"left\", \"pad\": {\"r\": 10, \"t\": 70}, \"showactive\": false, \"type\": \"buttons\", \"x\": 0.1, \"xanchor\": \"right\", \"y\": 0, \"yanchor\": \"top\"}], \"xaxis\": {\"anchor\": \"y\", \"categoryarray\": [\"Generation\", \"Composting*\", \"Recycling\", \"Combustion with energy recovery\", \"Landfilling and other disposal\"], \"categoryorder\": \"array\", \"domain\": [0.0, 1.0], \"title\": {\"text\": \"Type\"}}, \"yaxis\": {\"anchor\": \"x\", \"domain\": [0.0, 1.0], \"range\": [0, 300], \"title\": {\"text\": \"Value\"}}},\n",
              "                        {\"responsive\": true}\n",
              "                    ).then(function(){\n",
              "                            Plotly.addFrames('34178ce1-1ed8-4d9d-9d0e-15ab730da3a9', [{\"data\": [{\"alignmentgroup\": \"True\", \"hoverlabel\": {\"namelength\": 0}, \"hovertemplate\": \"Type=%{x}<br>year=1960<br>Value=%{y}\", \"ids\": [\"Generation\"], \"legendgroup\": \"Type=Generation\", \"marker\": {\"color\": \"#636efa\"}, \"name\": \"Type=Generation\", \"offsetgroup\": \"Type=Generation\", \"orientation\": \"v\", \"showlegend\": true, \"textposition\": \"auto\", \"x\": [\"Generation\"], \"xaxis\": \"x\", \"y\": [88.1], \"yaxis\": \"y\", \"type\": \"bar\"}, {\"alignmentgroup\": \"True\", \"hoverlabel\": {\"namelength\": 0}, \"hovertemplate\": \"Type=%{x}<br>year=1960<br>Value=%{y}\", \"ids\": [\"Composting*\"], \"legendgroup\": \"Type=Composting*\", \"marker\": {\"color\": \"#EF553B\"}, \"name\": \"Type=Composting*\", \"offsetgroup\": \"Type=Composting*\", \"orientation\": \"v\", \"showlegend\": true, \"textposition\": \"auto\", \"x\": [\"Composting*\"], \"xaxis\": \"x\", \"y\": [null], \"yaxis\": \"y\", \"type\": \"bar\"}, {\"alignmentgroup\": \"True\", \"hoverlabel\": {\"namelength\": 0}, \"hovertemplate\": \"Type=%{x}<br>year=1960<br>Value=%{y}\", \"ids\": [\"Recycling\"], \"legendgroup\": \"Type=Recycling\", \"marker\": {\"color\": \"#00cc96\"}, \"name\": \"Type=Recycling\", \"offsetgroup\": \"Type=Recycling\", \"orientation\": \"v\", \"showlegend\": true, \"textposition\": \"auto\", \"x\": [\"Recycling\"], \"xaxis\": \"x\", \"y\": [5.6], \"yaxis\": \"y\", \"type\": \"bar\"}, {\"alignmentgroup\": \"True\", \"hoverlabel\": {\"namelength\": 0}, \"hovertemplate\": \"Type=%{x}<br>year=1960<br>Value=%{y}\", \"ids\": [\"Combustion with energy recovery\"], \"legendgroup\": \"Type=Combustion with energy recovery\", \"marker\": {\"color\": \"#ab63fa\"}, \"name\": \"Type=Combustion with energy recovery\", \"offsetgroup\": \"Type=Combustion with energy recovery\", \"orientation\": \"v\", \"showlegend\": true, \"textposition\": \"auto\", \"x\": [\"Combustion with energy recovery\"], \"xaxis\": \"x\", \"y\": [0.0], \"yaxis\": \"y\", \"type\": \"bar\"}, {\"alignmentgroup\": \"True\", \"hoverlabel\": {\"namelength\": 0}, \"hovertemplate\": \"Type=%{x}<br>year=1960<br>Value=%{y}\", \"ids\": [\"Landfilling and other disposal\"], \"legendgroup\": \"Type=Landfilling and other disposal\", \"marker\": {\"color\": \"#FFA15A\"}, \"name\": \"Type=Landfilling and other disposal\", \"offsetgroup\": \"Type=Landfilling and other disposal\", \"orientation\": \"v\", \"showlegend\": true, \"textposition\": \"auto\", \"x\": [\"Landfilling and other disposal\"], \"xaxis\": \"x\", \"y\": [82.5], \"yaxis\": \"y\", \"type\": \"bar\"}], \"name\": \"1960\"}, {\"data\": [{\"alignmentgroup\": \"True\", \"hoverlabel\": {\"namelength\": 0}, \"hovertemplate\": \"Type=%{x}<br>year=1970<br>Value=%{y}\", \"ids\": [\"Generation\"], \"legendgroup\": \"Type=Generation\", \"marker\": {\"color\": \"#636efa\"}, \"name\": \"Type=Generation\", \"offsetgroup\": \"Type=Generation\", \"orientation\": \"v\", \"showlegend\": true, \"textposition\": \"auto\", \"x\": [\"Generation\"], \"xaxis\": \"x\", \"y\": [121.1], \"yaxis\": \"y\", \"type\": \"bar\"}, {\"alignmentgroup\": \"True\", \"hoverlabel\": {\"namelength\": 0}, \"hovertemplate\": \"Type=%{x}<br>year=1970<br>Value=%{y}\", \"ids\": [\"Composting*\"], \"legendgroup\": \"Type=Composting*\", \"marker\": {\"color\": \"#EF553B\"}, \"name\": \"Type=Composting*\", \"offsetgroup\": \"Type=Composting*\", \"orientation\": \"v\", \"showlegend\": true, \"textposition\": \"auto\", \"x\": [\"Composting*\"], \"xaxis\": \"x\", \"y\": [null], \"yaxis\": \"y\", \"type\": \"bar\"}, {\"alignmentgroup\": \"True\", \"hoverlabel\": {\"namelength\": 0}, \"hovertemplate\": \"Type=%{x}<br>year=1970<br>Value=%{y}\", \"ids\": [\"Recycling\"], \"legendgroup\": \"Type=Recycling\", \"marker\": {\"color\": \"#00cc96\"}, \"name\": \"Type=Recycling\", \"offsetgroup\": \"Type=Recycling\", \"orientation\": \"v\", \"showlegend\": true, \"textposition\": \"auto\", \"x\": [\"Recycling\"], \"xaxis\": \"x\", \"y\": [8.0], \"yaxis\": \"y\", \"type\": \"bar\"}, {\"alignmentgroup\": \"True\", \"hoverlabel\": {\"namelength\": 0}, \"hovertemplate\": \"Type=%{x}<br>year=1970<br>Value=%{y}\", \"ids\": [\"Combustion with energy recovery\"], \"legendgroup\": \"Type=Combustion with energy recovery\", \"marker\": {\"color\": \"#ab63fa\"}, \"name\": \"Type=Combustion with energy recovery\", \"offsetgroup\": \"Type=Combustion with energy recovery\", \"orientation\": \"v\", \"showlegend\": true, \"textposition\": \"auto\", \"x\": [\"Combustion with energy recovery\"], \"xaxis\": \"x\", \"y\": [0.5], \"yaxis\": \"y\", \"type\": \"bar\"}, {\"alignmentgroup\": \"True\", \"hoverlabel\": {\"namelength\": 0}, \"hovertemplate\": \"Type=%{x}<br>year=1970<br>Value=%{y}\", \"ids\": [\"Landfilling and other disposal\"], \"legendgroup\": \"Type=Landfilling and other disposal\", \"marker\": {\"color\": \"#FFA15A\"}, \"name\": \"Type=Landfilling and other disposal\", \"offsetgroup\": \"Type=Landfilling and other disposal\", \"orientation\": \"v\", \"showlegend\": true, \"textposition\": \"auto\", \"x\": [\"Landfilling and other disposal\"], \"xaxis\": \"x\", \"y\": [112.6], \"yaxis\": \"y\", \"type\": \"bar\"}], \"name\": \"1970\"}, {\"data\": [{\"alignmentgroup\": \"True\", \"hoverlabel\": {\"namelength\": 0}, \"hovertemplate\": \"Type=%{x}<br>year=1980<br>Value=%{y}\", \"ids\": [\"Generation\"], \"legendgroup\": \"Type=Generation\", \"marker\": {\"color\": \"#636efa\"}, \"name\": \"Type=Generation\", \"offsetgroup\": \"Type=Generation\", \"orientation\": \"v\", \"showlegend\": true, \"textposition\": \"auto\", \"x\": [\"Generation\"], \"xaxis\": \"x\", \"y\": [151.6], \"yaxis\": \"y\", \"type\": \"bar\"}, {\"alignmentgroup\": \"True\", \"hoverlabel\": {\"namelength\": 0}, \"hovertemplate\": \"Type=%{x}<br>year=1980<br>Value=%{y}\", \"ids\": [\"Composting*\"], \"legendgroup\": \"Type=Composting*\", \"marker\": {\"color\": \"#EF553B\"}, \"name\": \"Type=Composting*\", \"offsetgroup\": \"Type=Composting*\", \"orientation\": \"v\", \"showlegend\": true, \"textposition\": \"auto\", \"x\": [\"Composting*\"], \"xaxis\": \"x\", \"y\": [null], \"yaxis\": \"y\", \"type\": \"bar\"}, {\"alignmentgroup\": \"True\", \"hoverlabel\": {\"namelength\": 0}, \"hovertemplate\": \"Type=%{x}<br>year=1980<br>Value=%{y}\", \"ids\": [\"Recycling\"], \"legendgroup\": \"Type=Recycling\", \"marker\": {\"color\": \"#00cc96\"}, \"name\": \"Type=Recycling\", \"offsetgroup\": \"Type=Recycling\", \"orientation\": \"v\", \"showlegend\": true, \"textposition\": \"auto\", \"x\": [\"Recycling\"], \"xaxis\": \"x\", \"y\": [14.5], \"yaxis\": \"y\", \"type\": \"bar\"}, {\"alignmentgroup\": \"True\", \"hoverlabel\": {\"namelength\": 0}, \"hovertemplate\": \"Type=%{x}<br>year=1980<br>Value=%{y}\", \"ids\": [\"Combustion with energy recovery\"], \"legendgroup\": \"Type=Combustion with energy recovery\", \"marker\": {\"color\": \"#ab63fa\"}, \"name\": \"Type=Combustion with energy recovery\", \"offsetgroup\": \"Type=Combustion with energy recovery\", \"orientation\": \"v\", \"showlegend\": true, \"textposition\": \"auto\", \"x\": [\"Combustion with energy recovery\"], \"xaxis\": \"x\", \"y\": [2.8], \"yaxis\": \"y\", \"type\": \"bar\"}, {\"alignmentgroup\": \"True\", \"hoverlabel\": {\"namelength\": 0}, \"hovertemplate\": \"Type=%{x}<br>year=1980<br>Value=%{y}\", \"ids\": [\"Landfilling and other disposal\"], \"legendgroup\": \"Type=Landfilling and other disposal\", \"marker\": {\"color\": \"#FFA15A\"}, \"name\": \"Type=Landfilling and other disposal\", \"offsetgroup\": \"Type=Landfilling and other disposal\", \"orientation\": \"v\", \"showlegend\": true, \"textposition\": \"auto\", \"x\": [\"Landfilling and other disposal\"], \"xaxis\": \"x\", \"y\": [134.3], \"yaxis\": \"y\", \"type\": \"bar\"}], \"name\": \"1980\"}, {\"data\": [{\"alignmentgroup\": \"True\", \"hoverlabel\": {\"namelength\": 0}, \"hovertemplate\": \"Type=%{x}<br>year=1990<br>Value=%{y}\", \"ids\": [\"Generation\"], \"legendgroup\": \"Type=Generation\", \"marker\": {\"color\": \"#636efa\"}, \"name\": \"Type=Generation\", \"offsetgroup\": \"Type=Generation\", \"orientation\": \"v\", \"showlegend\": true, \"textposition\": \"auto\", \"x\": [\"Generation\"], \"xaxis\": \"x\", \"y\": [208.3], \"yaxis\": \"y\", \"type\": \"bar\"}, {\"alignmentgroup\": \"True\", \"hoverlabel\": {\"namelength\": 0}, \"hovertemplate\": \"Type=%{x}<br>year=1990<br>Value=%{y}\", \"ids\": [\"Composting*\"], \"legendgroup\": \"Type=Composting*\", \"marker\": {\"color\": \"#EF553B\"}, \"name\": \"Type=Composting*\", \"offsetgroup\": \"Type=Composting*\", \"orientation\": \"v\", \"showlegend\": true, \"textposition\": \"auto\", \"x\": [\"Composting*\"], \"xaxis\": \"x\", \"y\": [4.2], \"yaxis\": \"y\", \"type\": \"bar\"}, {\"alignmentgroup\": \"True\", \"hoverlabel\": {\"namelength\": 0}, \"hovertemplate\": \"Type=%{x}<br>year=1990<br>Value=%{y}\", \"ids\": [\"Recycling\"], \"legendgroup\": \"Type=Recycling\", \"marker\": {\"color\": \"#00cc96\"}, \"name\": \"Type=Recycling\", \"offsetgroup\": \"Type=Recycling\", \"orientation\": \"v\", \"showlegend\": true, \"textposition\": \"auto\", \"x\": [\"Recycling\"], \"xaxis\": \"x\", \"y\": [29.0], \"yaxis\": \"y\", \"type\": \"bar\"}, {\"alignmentgroup\": \"True\", \"hoverlabel\": {\"namelength\": 0}, \"hovertemplate\": \"Type=%{x}<br>year=1990<br>Value=%{y}\", \"ids\": [\"Combustion with energy recovery\"], \"legendgroup\": \"Type=Combustion with energy recovery\", \"marker\": {\"color\": \"#ab63fa\"}, \"name\": \"Type=Combustion with energy recovery\", \"offsetgroup\": \"Type=Combustion with energy recovery\", \"orientation\": \"v\", \"showlegend\": true, \"textposition\": \"auto\", \"x\": [\"Combustion with energy recovery\"], \"xaxis\": \"x\", \"y\": [29.8], \"yaxis\": \"y\", \"type\": \"bar\"}, {\"alignmentgroup\": \"True\", \"hoverlabel\": {\"namelength\": 0}, \"hovertemplate\": \"Type=%{x}<br>year=1990<br>Value=%{y}\", \"ids\": [\"Landfilling and other disposal\"], \"legendgroup\": \"Type=Landfilling and other disposal\", \"marker\": {\"color\": \"#FFA15A\"}, \"name\": \"Type=Landfilling and other disposal\", \"offsetgroup\": \"Type=Landfilling and other disposal\", \"orientation\": \"v\", \"showlegend\": true, \"textposition\": \"auto\", \"x\": [\"Landfilling and other disposal\"], \"xaxis\": \"x\", \"y\": [145.3], \"yaxis\": \"y\", \"type\": \"bar\"}], \"name\": \"1990\"}, {\"data\": [{\"alignmentgroup\": \"True\", \"hoverlabel\": {\"namelength\": 0}, \"hovertemplate\": \"Type=%{x}<br>year=2000<br>Value=%{y}\", \"ids\": [\"Generation\"], \"legendgroup\": \"Type=Generation\", \"marker\": {\"color\": \"#636efa\"}, \"name\": \"Type=Generation\", \"offsetgroup\": \"Type=Generation\", \"orientation\": \"v\", \"showlegend\": true, \"textposition\": \"auto\", \"x\": [\"Generation\"], \"xaxis\": \"x\", \"y\": [243.5], \"yaxis\": \"y\", \"type\": \"bar\"}, {\"alignmentgroup\": \"True\", \"hoverlabel\": {\"namelength\": 0}, \"hovertemplate\": \"Type=%{x}<br>year=2000<br>Value=%{y}\", \"ids\": [\"Composting*\"], \"legendgroup\": \"Type=Composting*\", \"marker\": {\"color\": \"#EF553B\"}, \"name\": \"Type=Composting*\", \"offsetgroup\": \"Type=Composting*\", \"orientation\": \"v\", \"showlegend\": true, \"textposition\": \"auto\", \"x\": [\"Composting*\"], \"xaxis\": \"x\", \"y\": [16.5], \"yaxis\": \"y\", \"type\": \"bar\"}, {\"alignmentgroup\": \"True\", \"hoverlabel\": {\"namelength\": 0}, \"hovertemplate\": \"Type=%{x}<br>year=2000<br>Value=%{y}\", \"ids\": [\"Recycling\"], \"legendgroup\": \"Type=Recycling\", \"marker\": {\"color\": \"#00cc96\"}, \"name\": \"Type=Recycling\", \"offsetgroup\": \"Type=Recycling\", \"orientation\": \"v\", \"showlegend\": true, \"textposition\": \"auto\", \"x\": [\"Recycling\"], \"xaxis\": \"x\", \"y\": [53.0], \"yaxis\": \"y\", \"type\": \"bar\"}, {\"alignmentgroup\": \"True\", \"hoverlabel\": {\"namelength\": 0}, \"hovertemplate\": \"Type=%{x}<br>year=2000<br>Value=%{y}\", \"ids\": [\"Combustion with energy recovery\"], \"legendgroup\": \"Type=Combustion with energy recovery\", \"marker\": {\"color\": \"#ab63fa\"}, \"name\": \"Type=Combustion with energy recovery\", \"offsetgroup\": \"Type=Combustion with energy recovery\", \"orientation\": \"v\", \"showlegend\": true, \"textposition\": \"auto\", \"x\": [\"Combustion with energy recovery\"], \"xaxis\": \"x\", \"y\": [33.7], \"yaxis\": \"y\", \"type\": \"bar\"}, {\"alignmentgroup\": \"True\", \"hoverlabel\": {\"namelength\": 0}, \"hovertemplate\": \"Type=%{x}<br>year=2000<br>Value=%{y}\", \"ids\": [\"Landfilling and other disposal\"], \"legendgroup\": \"Type=Landfilling and other disposal\", \"marker\": {\"color\": \"#FFA15A\"}, \"name\": \"Type=Landfilling and other disposal\", \"offsetgroup\": \"Type=Landfilling and other disposal\", \"orientation\": \"v\", \"showlegend\": true, \"textposition\": \"auto\", \"x\": [\"Landfilling and other disposal\"], \"xaxis\": \"x\", \"y\": [140.3], \"yaxis\": \"y\", \"type\": \"bar\"}], \"name\": \"2000\"}, {\"data\": [{\"alignmentgroup\": \"True\", \"hoverlabel\": {\"namelength\": 0}, \"hovertemplate\": \"Type=%{x}<br>year=2005<br>Value=%{y}\", \"ids\": [\"Generation\"], \"legendgroup\": \"Type=Generation\", \"marker\": {\"color\": \"#636efa\"}, \"name\": \"Type=Generation\", \"offsetgroup\": \"Type=Generation\", \"orientation\": \"v\", \"showlegend\": true, \"textposition\": \"auto\", \"x\": [\"Generation\"], \"xaxis\": \"x\", \"y\": [253.7], \"yaxis\": \"y\", \"type\": \"bar\"}, {\"alignmentgroup\": \"True\", \"hoverlabel\": {\"namelength\": 0}, \"hovertemplate\": \"Type=%{x}<br>year=2005<br>Value=%{y}\", \"ids\": [\"Composting*\"], \"legendgroup\": \"Type=Composting*\", \"marker\": {\"color\": \"#EF553B\"}, \"name\": \"Type=Composting*\", \"offsetgroup\": \"Type=Composting*\", \"orientation\": \"v\", \"showlegend\": true, \"textposition\": \"auto\", \"x\": [\"Composting*\"], \"xaxis\": \"x\", \"y\": [20.6], \"yaxis\": \"y\", \"type\": \"bar\"}, {\"alignmentgroup\": \"True\", \"hoverlabel\": {\"namelength\": 0}, \"hovertemplate\": \"Type=%{x}<br>year=2005<br>Value=%{y}\", \"ids\": [\"Recycling\"], \"legendgroup\": \"Type=Recycling\", \"marker\": {\"color\": \"#00cc96\"}, \"name\": \"Type=Recycling\", \"offsetgroup\": \"Type=Recycling\", \"orientation\": \"v\", \"showlegend\": true, \"textposition\": \"auto\", \"x\": [\"Recycling\"], \"xaxis\": \"x\", \"y\": [59.2], \"yaxis\": \"y\", \"type\": \"bar\"}, {\"alignmentgroup\": \"True\", \"hoverlabel\": {\"namelength\": 0}, \"hovertemplate\": \"Type=%{x}<br>year=2005<br>Value=%{y}\", \"ids\": [\"Combustion with energy recovery\"], \"legendgroup\": \"Type=Combustion with energy recovery\", \"marker\": {\"color\": \"#ab63fa\"}, \"name\": \"Type=Combustion with energy recovery\", \"offsetgroup\": \"Type=Combustion with energy recovery\", \"orientation\": \"v\", \"showlegend\": true, \"textposition\": \"auto\", \"x\": [\"Combustion with energy recovery\"], \"xaxis\": \"x\", \"y\": [31.7], \"yaxis\": \"y\", \"type\": \"bar\"}, {\"alignmentgroup\": \"True\", \"hoverlabel\": {\"namelength\": 0}, \"hovertemplate\": \"Type=%{x}<br>year=2005<br>Value=%{y}\", \"ids\": [\"Landfilling and other disposal\"], \"legendgroup\": \"Type=Landfilling and other disposal\", \"marker\": {\"color\": \"#FFA15A\"}, \"name\": \"Type=Landfilling and other disposal\", \"offsetgroup\": \"Type=Landfilling and other disposal\", \"orientation\": \"v\", \"showlegend\": true, \"textposition\": \"auto\", \"x\": [\"Landfilling and other disposal\"], \"xaxis\": \"x\", \"y\": [142.2], \"yaxis\": \"y\", \"type\": \"bar\"}], \"name\": \"2005\"}, {\"data\": [{\"alignmentgroup\": \"True\", \"hoverlabel\": {\"namelength\": 0}, \"hovertemplate\": \"Type=%{x}<br>year=2010<br>Value=%{y}\", \"ids\": [\"Generation\"], \"legendgroup\": \"Type=Generation\", \"marker\": {\"color\": \"#636efa\"}, \"name\": \"Type=Generation\", \"offsetgroup\": \"Type=Generation\", \"orientation\": \"v\", \"showlegend\": true, \"textposition\": \"auto\", \"x\": [\"Generation\"], \"xaxis\": \"x\", \"y\": [251.1], \"yaxis\": \"y\", \"type\": \"bar\"}, {\"alignmentgroup\": \"True\", \"hoverlabel\": {\"namelength\": 0}, \"hovertemplate\": \"Type=%{x}<br>year=2010<br>Value=%{y}\", \"ids\": [\"Composting*\"], \"legendgroup\": \"Type=Composting*\", \"marker\": {\"color\": \"#EF553B\"}, \"name\": \"Type=Composting*\", \"offsetgroup\": \"Type=Composting*\", \"orientation\": \"v\", \"showlegend\": true, \"textposition\": \"auto\", \"x\": [\"Composting*\"], \"xaxis\": \"x\", \"y\": [20.2], \"yaxis\": \"y\", \"type\": \"bar\"}, {\"alignmentgroup\": \"True\", \"hoverlabel\": {\"namelength\": 0}, \"hovertemplate\": \"Type=%{x}<br>year=2010<br>Value=%{y}\", \"ids\": [\"Recycling\"], \"legendgroup\": \"Type=Recycling\", \"marker\": {\"color\": \"#00cc96\"}, \"name\": \"Type=Recycling\", \"offsetgroup\": \"Type=Recycling\", \"orientation\": \"v\", \"showlegend\": true, \"textposition\": \"auto\", \"x\": [\"Recycling\"], \"xaxis\": \"x\", \"y\": [65.3], \"yaxis\": \"y\", \"type\": \"bar\"}, {\"alignmentgroup\": \"True\", \"hoverlabel\": {\"namelength\": 0}, \"hovertemplate\": \"Type=%{x}<br>year=2010<br>Value=%{y}\", \"ids\": [\"Combustion with energy recovery\"], \"legendgroup\": \"Type=Combustion with energy recovery\", \"marker\": {\"color\": \"#ab63fa\"}, \"name\": \"Type=Combustion with energy recovery\", \"offsetgroup\": \"Type=Combustion with energy recovery\", \"orientation\": \"v\", \"showlegend\": true, \"textposition\": \"auto\", \"x\": [\"Combustion with energy recovery\"], \"xaxis\": \"x\", \"y\": [29.3], \"yaxis\": \"y\", \"type\": \"bar\"}, {\"alignmentgroup\": \"True\", \"hoverlabel\": {\"namelength\": 0}, \"hovertemplate\": \"Type=%{x}<br>year=2010<br>Value=%{y}\", \"ids\": [\"Landfilling and other disposal\"], \"legendgroup\": \"Type=Landfilling and other disposal\", \"marker\": {\"color\": \"#FFA15A\"}, \"name\": \"Type=Landfilling and other disposal\", \"offsetgroup\": \"Type=Landfilling and other disposal\", \"orientation\": \"v\", \"showlegend\": true, \"textposition\": \"auto\", \"x\": [\"Landfilling and other disposal\"], \"xaxis\": \"x\", \"y\": [136.3], \"yaxis\": \"y\", \"type\": \"bar\"}], \"name\": \"2010\"}, {\"data\": [{\"alignmentgroup\": \"True\", \"hoverlabel\": {\"namelength\": 0}, \"hovertemplate\": \"Type=%{x}<br>year=2015<br>Value=%{y}\", \"ids\": [\"Generation\"], \"legendgroup\": \"Type=Generation\", \"marker\": {\"color\": \"#636efa\"}, \"name\": \"Type=Generation\", \"offsetgroup\": \"Type=Generation\", \"orientation\": \"v\", \"showlegend\": true, \"textposition\": \"auto\", \"x\": [\"Generation\"], \"xaxis\": \"x\", \"y\": [262.1], \"yaxis\": \"y\", \"type\": \"bar\"}, {\"alignmentgroup\": \"True\", \"hoverlabel\": {\"namelength\": 0}, \"hovertemplate\": \"Type=%{x}<br>year=2015<br>Value=%{y}\", \"ids\": [\"Composting*\"], \"legendgroup\": \"Type=Composting*\", \"marker\": {\"color\": \"#EF553B\"}, \"name\": \"Type=Composting*\", \"offsetgroup\": \"Type=Composting*\", \"orientation\": \"v\", \"showlegend\": true, \"textposition\": \"auto\", \"x\": [\"Composting*\"], \"xaxis\": \"x\", \"y\": [23.4], \"yaxis\": \"y\", \"type\": \"bar\"}, {\"alignmentgroup\": \"True\", \"hoverlabel\": {\"namelength\": 0}, \"hovertemplate\": \"Type=%{x}<br>year=2015<br>Value=%{y}\", \"ids\": [\"Recycling\"], \"legendgroup\": \"Type=Recycling\", \"marker\": {\"color\": \"#00cc96\"}, \"name\": \"Type=Recycling\", \"offsetgroup\": \"Type=Recycling\", \"orientation\": \"v\", \"showlegend\": true, \"textposition\": \"auto\", \"x\": [\"Recycling\"], \"xaxis\": \"x\", \"y\": [67.6], \"yaxis\": \"y\", \"type\": \"bar\"}, {\"alignmentgroup\": \"True\", \"hoverlabel\": {\"namelength\": 0}, \"hovertemplate\": \"Type=%{x}<br>year=2015<br>Value=%{y}\", \"ids\": [\"Combustion with energy recovery\"], \"legendgroup\": \"Type=Combustion with energy recovery\", \"marker\": {\"color\": \"#ab63fa\"}, \"name\": \"Type=Combustion with energy recovery\", \"offsetgroup\": \"Type=Combustion with energy recovery\", \"orientation\": \"v\", \"showlegend\": true, \"textposition\": \"auto\", \"x\": [\"Combustion with energy recovery\"], \"xaxis\": \"x\", \"y\": [33.5], \"yaxis\": \"y\", \"type\": \"bar\"}, {\"alignmentgroup\": \"True\", \"hoverlabel\": {\"namelength\": 0}, \"hovertemplate\": \"Type=%{x}<br>year=2015<br>Value=%{y}\", \"ids\": [\"Landfilling and other disposal\"], \"legendgroup\": \"Type=Landfilling and other disposal\", \"marker\": {\"color\": \"#FFA15A\"}, \"name\": \"Type=Landfilling and other disposal\", \"offsetgroup\": \"Type=Landfilling and other disposal\", \"orientation\": \"v\", \"showlegend\": true, \"textposition\": \"auto\", \"x\": [\"Landfilling and other disposal\"], \"xaxis\": \"x\", \"y\": [137.6], \"yaxis\": \"y\", \"type\": \"bar\"}], \"name\": \"2015\"}, {\"data\": [{\"alignmentgroup\": \"True\", \"hoverlabel\": {\"namelength\": 0}, \"hovertemplate\": \"Type=%{x}<br>year=2016<br>Value=%{y}\", \"ids\": [\"Generation\"], \"legendgroup\": \"Type=Generation\", \"marker\": {\"color\": \"#636efa\"}, \"name\": \"Type=Generation\", \"offsetgroup\": \"Type=Generation\", \"orientation\": \"v\", \"showlegend\": true, \"textposition\": \"auto\", \"x\": [\"Generation\"], \"xaxis\": \"x\", \"y\": [266.8], \"yaxis\": \"y\", \"type\": \"bar\"}, {\"alignmentgroup\": \"True\", \"hoverlabel\": {\"namelength\": 0}, \"hovertemplate\": \"Type=%{x}<br>year=2016<br>Value=%{y}\", \"ids\": [\"Composting*\"], \"legendgroup\": \"Type=Composting*\", \"marker\": {\"color\": \"#EF553B\"}, \"name\": \"Type=Composting*\", \"offsetgroup\": \"Type=Composting*\", \"orientation\": \"v\", \"showlegend\": true, \"textposition\": \"auto\", \"x\": [\"Composting*\"], \"xaxis\": \"x\", \"y\": [25.1], \"yaxis\": \"y\", \"type\": \"bar\"}, {\"alignmentgroup\": \"True\", \"hoverlabel\": {\"namelength\": 0}, \"hovertemplate\": \"Type=%{x}<br>year=2016<br>Value=%{y}\", \"ids\": [\"Recycling\"], \"legendgroup\": \"Type=Recycling\", \"marker\": {\"color\": \"#00cc96\"}, \"name\": \"Type=Recycling\", \"offsetgroup\": \"Type=Recycling\", \"orientation\": \"v\", \"showlegend\": true, \"textposition\": \"auto\", \"x\": [\"Recycling\"], \"xaxis\": \"x\", \"y\": [68.6], \"yaxis\": \"y\", \"type\": \"bar\"}, {\"alignmentgroup\": \"True\", \"hoverlabel\": {\"namelength\": 0}, \"hovertemplate\": \"Type=%{x}<br>year=2016<br>Value=%{y}\", \"ids\": [\"Combustion with energy recovery\"], \"legendgroup\": \"Type=Combustion with energy recovery\", \"marker\": {\"color\": \"#ab63fa\"}, \"name\": \"Type=Combustion with energy recovery\", \"offsetgroup\": \"Type=Combustion with energy recovery\", \"orientation\": \"v\", \"showlegend\": true, \"textposition\": \"auto\", \"x\": [\"Combustion with energy recovery\"], \"xaxis\": \"x\", \"y\": [33.9], \"yaxis\": \"y\", \"type\": \"bar\"}, {\"alignmentgroup\": \"True\", \"hoverlabel\": {\"namelength\": 0}, \"hovertemplate\": \"Type=%{x}<br>year=2016<br>Value=%{y}\", \"ids\": [\"Landfilling and other disposal\"], \"legendgroup\": \"Type=Landfilling and other disposal\", \"marker\": {\"color\": \"#FFA15A\"}, \"name\": \"Type=Landfilling and other disposal\", \"offsetgroup\": \"Type=Landfilling and other disposal\", \"orientation\": \"v\", \"showlegend\": true, \"textposition\": \"auto\", \"x\": [\"Landfilling and other disposal\"], \"xaxis\": \"x\", \"y\": [139.2], \"yaxis\": \"y\", \"type\": \"bar\"}], \"name\": \"2016\"}, {\"data\": [{\"alignmentgroup\": \"True\", \"hoverlabel\": {\"namelength\": 0}, \"hovertemplate\": \"Type=%{x}<br>year=2017<br>Value=%{y}\", \"ids\": [\"Generation\"], \"legendgroup\": \"Type=Generation\", \"marker\": {\"color\": \"#636efa\"}, \"name\": \"Type=Generation\", \"offsetgroup\": \"Type=Generation\", \"orientation\": \"v\", \"showlegend\": true, \"textposition\": \"auto\", \"x\": [\"Generation\"], \"xaxis\": \"x\", \"y\": [267.8], \"yaxis\": \"y\", \"type\": \"bar\"}, {\"alignmentgroup\": \"True\", \"hoverlabel\": {\"namelength\": 0}, \"hovertemplate\": \"Type=%{x}<br>year=2017<br>Value=%{y}\", \"ids\": [\"Composting*\"], \"legendgroup\": \"Type=Composting*\", \"marker\": {\"color\": \"#EF553B\"}, \"name\": \"Type=Composting*\", \"offsetgroup\": \"Type=Composting*\", \"orientation\": \"v\", \"showlegend\": true, \"textposition\": \"auto\", \"x\": [\"Composting*\"], \"xaxis\": \"x\", \"y\": [27.0], \"yaxis\": \"y\", \"type\": \"bar\"}, {\"alignmentgroup\": \"True\", \"hoverlabel\": {\"namelength\": 0}, \"hovertemplate\": \"Type=%{x}<br>year=2017<br>Value=%{y}\", \"ids\": [\"Recycling\"], \"legendgroup\": \"Type=Recycling\", \"marker\": {\"color\": \"#00cc96\"}, \"name\": \"Type=Recycling\", \"offsetgroup\": \"Type=Recycling\", \"orientation\": \"v\", \"showlegend\": true, \"textposition\": \"auto\", \"x\": [\"Recycling\"], \"xaxis\": \"x\", \"y\": [67.2], \"yaxis\": \"y\", \"type\": \"bar\"}, {\"alignmentgroup\": \"True\", \"hoverlabel\": {\"namelength\": 0}, \"hovertemplate\": \"Type=%{x}<br>year=2017<br>Value=%{y}\", \"ids\": [\"Combustion with energy recovery\"], \"legendgroup\": \"Type=Combustion with energy recovery\", \"marker\": {\"color\": \"#ab63fa\"}, \"name\": \"Type=Combustion with energy recovery\", \"offsetgroup\": \"Type=Combustion with energy recovery\", \"orientation\": \"v\", \"showlegend\": true, \"textposition\": \"auto\", \"x\": [\"Combustion with energy recovery\"], \"xaxis\": \"x\", \"y\": [34.0], \"yaxis\": \"y\", \"type\": \"bar\"}, {\"alignmentgroup\": \"True\", \"hoverlabel\": {\"namelength\": 0}, \"hovertemplate\": \"Type=%{x}<br>year=2017<br>Value=%{y}\", \"ids\": [\"Landfilling and other disposal\"], \"legendgroup\": \"Type=Landfilling and other disposal\", \"marker\": {\"color\": \"#FFA15A\"}, \"name\": \"Type=Landfilling and other disposal\", \"offsetgroup\": \"Type=Landfilling and other disposal\", \"orientation\": \"v\", \"showlegend\": true, \"textposition\": \"auto\", \"x\": [\"Landfilling and other disposal\"], \"xaxis\": \"x\", \"y\": [139.6], \"yaxis\": \"y\", \"type\": \"bar\"}], \"name\": \"2017\"}]);\n",
              "                        }).then(function(){\n",
              "                            \n",
              "var gd = document.getElementById('34178ce1-1ed8-4d9d-9d0e-15ab730da3a9');\n",
              "var x = new MutationObserver(function (mutations, observer) {{\n",
              "        var display = window.getComputedStyle(gd).display;\n",
              "        if (!display || display === 'none') {{\n",
              "            console.log([gd, 'removed!']);\n",
              "            Plotly.purge(gd);\n",
              "            observer.disconnect();\n",
              "        }}\n",
              "}});\n",
              "\n",
              "// Listen for the removal of the full notebook cells\n",
              "var notebookContainer = gd.closest('#notebook-container');\n",
              "if (notebookContainer) {{\n",
              "    x.observe(notebookContainer, {childList: true});\n",
              "}}\n",
              "\n",
              "// Listen for the clearing of the current output cell\n",
              "var outputEl = gd.closest('.output');\n",
              "if (outputEl) {{\n",
              "    x.observe(outputEl, {childList: true});\n",
              "}}\n",
              "\n",
              "                        })\n",
              "                };\n",
              "                \n",
              "            </script>\n",
              "        </div>\n",
              "</body>\n",
              "</html>"
            ]
          },
          "metadata": {
            "tags": []
          }
        }
      ]
    },
    {
      "cell_type": "markdown",
      "metadata": {
        "id": "_kHMYKapxHsS"
      },
      "source": [
        "**Hint:** [Animated Bar Charts with Plotly Express](https://plotly.com/python/animations/#animated-bar-charts-with-plotly-express)\n",
        "\n",
        "\n"
      ]
    },
    {
      "cell_type": "markdown",
      "metadata": {
        "id": "A8U12hUMxR_e"
      },
      "source": [
        "### Problem 3 ##"
      ]
    },
    {
      "cell_type": "markdown",
      "metadata": {
        "id": "-ggjHdiHYG0H"
      },
      "source": [
        "**Dataset:** [Global Fortune 500](https://www.kaggle.com/edgarhuichen/fortune-global-500)\n",
        "\n",
        "**Introduction:** Fortune Global 500 List is a list of largest corporations worldwide which are measured by their total fiscal year revenues. Companies rankings sorted by total revenues for their respective fiscal years ended on or before March 31 of the relevant year."
      ]
    },
    {
      "cell_type": "code",
      "metadata": {
        "id": "TNyd86bIT80y",
        "colab": {
          "base_uri": "https://localhost:8080/"
        },
        "outputId": "8b15cea4-39dc-469f-a39b-d6148ed0d585"
      },
      "source": [
        "#Upgrade the package \"plotly\" before you start to avoid future syntax error\n",
        "#You only need to upgrade it once\n",
        "!pip install plotly --upgrade\n"
      ],
      "execution_count": null,
      "outputs": [
        {
          "output_type": "stream",
          "text": [
            "Requirement already up-to-date: plotly in /usr/local/lib/python3.6/dist-packages (4.14.3)\n",
            "Requirement already satisfied, skipping upgrade: six in /usr/local/lib/python3.6/dist-packages (from plotly) (1.15.0)\n",
            "Requirement already satisfied, skipping upgrade: retrying>=1.3.3 in /usr/local/lib/python3.6/dist-packages (from plotly) (1.3.3)\n"
          ],
          "name": "stdout"
        }
      ]
    },
    {
      "cell_type": "code",
      "metadata": {
        "colab": {
          "resources": {
            "http://localhost:8080/nbextensions/google.colab/files.js": {
              "data": "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",
              "ok": true,
              "headers": [
                [
                  "content-type",
                  "application/javascript"
                ]
              ],
              "status": 200,
              "status_text": ""
            }
          },
          "base_uri": "https://localhost:8080/",
          "height": 285
        },
        "id": "IVcTKIdlxR_g",
        "outputId": "6f768e51-e781-4099-d9aa-fbdf15f78e18"
      },
      "source": [
        "#Import packages\n",
        "import pandas as pd\n",
        "import numpy as np\n",
        "import plotly.express as px\n",
        "\n",
        "#Load the dataset\n",
        "from google.colab import files\n",
        "file = files.upload()  #upload file into google colab session\n",
        "df = pd.read_csv(\"Global Fortune 500.csv\") \n",
        "df.head()"
      ],
      "execution_count": null,
      "outputs": [
        {
          "output_type": "display_data",
          "data": {
            "text/html": [
              "\n",
              "     <input type=\"file\" id=\"files-e96b9f8d-5c5b-4015-ac49-b667c20337f6\" name=\"files[]\" multiple disabled\n",
              "        style=\"border:none\" />\n",
              "     <output id=\"result-e96b9f8d-5c5b-4015-ac49-b667c20337f6\">\n",
              "      Upload widget is only available when the cell has been executed in the\n",
              "      current browser session. Please rerun this cell to enable.\n",
              "      </output>\n",
              "      <script src=\"/nbextensions/google.colab/files.js\"></script> "
            ],
            "text/plain": [
              "<IPython.core.display.HTML object>"
            ]
          },
          "metadata": {
            "tags": []
          }
        },
        {
          "output_type": "stream",
          "text": [
            "Saving Global Fortune 500.csv to Global Fortune 500 (2).csv\n"
          ],
          "name": "stdout"
        },
        {
          "output_type": "execute_result",
          "data": {
            "text/html": [
              "<div>\n",
              "<style scoped>\n",
              "    .dataframe tbody tr th:only-of-type {\n",
              "        vertical-align: middle;\n",
              "    }\n",
              "\n",
              "    .dataframe tbody tr th {\n",
              "        vertical-align: top;\n",
              "    }\n",
              "\n",
              "    .dataframe thead th {\n",
              "        text-align: right;\n",
              "    }\n",
              "</style>\n",
              "<table border=\"1\" class=\"dataframe\">\n",
              "  <thead>\n",
              "    <tr style=\"text-align: right;\">\n",
              "      <th></th>\n",
              "      <th>Rank</th>\n",
              "      <th>Company Name</th>\n",
              "      <th>Country</th>\n",
              "      <th>Number of Employees</th>\n",
              "      <th>Previous Rank</th>\n",
              "      <th>Revenues($millions)</th>\n",
              "      <th>Revenue Change</th>\n",
              "      <th>Profits($millions)</th>\n",
              "      <th>Profit Change</th>\n",
              "      <th>Assets($millions)</th>\n",
              "      <th>Unnamed: 10</th>\n",
              "      <th>Unnamed: 11</th>\n",
              "    </tr>\n",
              "  </thead>\n",
              "  <tbody>\n",
              "    <tr>\n",
              "      <th>0</th>\n",
              "      <td>1</td>\n",
              "      <td>Walmart</td>\n",
              "      <td>USA</td>\n",
              "      <td>2,300,000</td>\n",
              "      <td>1</td>\n",
              "      <td>485873</td>\n",
              "      <td>0.80%</td>\n",
              "      <td>13643</td>\n",
              "      <td>-7.20%</td>\n",
              "      <td>198825</td>\n",
              "      <td>NaN</td>\n",
              "      <td>NaN</td>\n",
              "    </tr>\n",
              "    <tr>\n",
              "      <th>1</th>\n",
              "      <td>2</td>\n",
              "      <td>State Grid</td>\n",
              "      <td>China</td>\n",
              "      <td>926,067</td>\n",
              "      <td>2</td>\n",
              "      <td>315199</td>\n",
              "      <td>-4.40%</td>\n",
              "      <td>9571.3</td>\n",
              "      <td>-6.20%</td>\n",
              "      <td>489838</td>\n",
              "      <td>NaN</td>\n",
              "      <td>NaN</td>\n",
              "    </tr>\n",
              "    <tr>\n",
              "      <th>2</th>\n",
              "      <td>3</td>\n",
              "      <td>Sinopec Group</td>\n",
              "      <td>China</td>\n",
              "      <td>713,288</td>\n",
              "      <td>4</td>\n",
              "      <td>267518</td>\n",
              "      <td>-9.10%</td>\n",
              "      <td>1257.9</td>\n",
              "      <td>-65.00%</td>\n",
              "      <td>310726</td>\n",
              "      <td>NaN</td>\n",
              "      <td>NaN</td>\n",
              "    </tr>\n",
              "    <tr>\n",
              "      <th>3</th>\n",
              "      <td>4</td>\n",
              "      <td>China National Petroleum</td>\n",
              "      <td>China</td>\n",
              "      <td>1,512,048</td>\n",
              "      <td>3</td>\n",
              "      <td>262573</td>\n",
              "      <td>-12.30%</td>\n",
              "      <td>1867.5</td>\n",
              "      <td>-73.70%</td>\n",
              "      <td>585619</td>\n",
              "      <td>NaN</td>\n",
              "      <td>NaN</td>\n",
              "    </tr>\n",
              "    <tr>\n",
              "      <th>4</th>\n",
              "      <td>5</td>\n",
              "      <td>Toyota Motor</td>\n",
              "      <td>Japan</td>\n",
              "      <td>364,445</td>\n",
              "      <td>8</td>\n",
              "      <td>254694</td>\n",
              "      <td>7.70%</td>\n",
              "      <td>16899.3</td>\n",
              "      <td>-12.30%</td>\n",
              "      <td>437575</td>\n",
              "      <td>NaN</td>\n",
              "      <td>NaN</td>\n",
              "    </tr>\n",
              "  </tbody>\n",
              "</table>\n",
              "</div>"
            ],
            "text/plain": [
              "   Rank              Company Name  ... Unnamed: 10 Unnamed: 11\n",
              "0     1                   Walmart  ...         NaN         NaN\n",
              "1     2                State Grid  ...         NaN         NaN\n",
              "2     3             Sinopec Group  ...         NaN         NaN\n",
              "3     4  China National Petroleum  ...         NaN         NaN\n",
              "4     5              Toyota Motor  ...         NaN         NaN\n",
              "\n",
              "[5 rows x 12 columns]"
            ]
          },
          "metadata": {
            "tags": []
          },
          "execution_count": 2
        }
      ]
    },
    {
      "cell_type": "code",
      "metadata": {
        "colab": {
          "base_uri": "https://localhost:8080/"
        },
        "id": "9k-vSFEaCmJI",
        "outputId": "a26e1138-4345-4b08-c84d-b4e2c9525a36"
      },
      "source": [
        "df.columns"
      ],
      "execution_count": null,
      "outputs": [
        {
          "output_type": "execute_result",
          "data": {
            "text/plain": [
              "Index(['Rank', 'Company Name', 'Country', 'Number of Employees',\n",
              "       'Previous Rank', 'Revenues($millions)', 'Revenue Change',\n",
              "       'Profits($millions)', 'Profit Change', 'Assets($millions)',\n",
              "       'Unnamed: 10', 'Unnamed: 11'],\n",
              "      dtype='object')"
            ]
          },
          "metadata": {
            "tags": []
          },
          "execution_count": 18
        }
      ]
    },
    {
      "cell_type": "code",
      "metadata": {
        "id": "Q75N0969xR_m",
        "colab": {
          "base_uri": "https://localhost:8080/",
          "height": 542
        },
        "outputId": "23b71f67-8f04-4c69-f395-e5f475f9a27b"
      },
      "source": [
        "#TODO:\n",
        "#Build a treemap of the companies with \"country\" as the first hierarchy and \"company\" as the second hierarchy\n",
        "#The size of each block should indicate the corresponding company's revenue\n",
        "#Interpret your key findings from the treemap\n",
        "import plotly.express as px\n",
        "fig = px.treemap(df, path=['Country', 'Company Name'], \n",
        "                 values='Revenues($millions)') \n",
        "fig.update_layout(margin=dict(t=10, b=10, r=10, l=10))\n",
        "fig.show() \n",
        "# Using tree maps, we can identify the top revenue generating companies from each countries. Size of the the company represents the revenue created by the company\n",
        "# USA has the most number of companies than any other country and is ahead of the others in terms of revenue followed by the China.\n",
        "# We can interpret that Walmart has the higheest revenue in USA, State Grid in China, Toyota Motor in Japan amd so on."
      ],
      "execution_count": null,
      "outputs": [
        {
          "output_type": "display_data",
          "data": {
            "text/html": [
              "<html>\n",
              "<head><meta charset=\"utf-8\" /></head>\n",
              "<body>\n",
              "    <div>            <script src=\"https://cdnjs.cloudflare.com/ajax/libs/mathjax/2.7.5/MathJax.js?config=TeX-AMS-MML_SVG\"></script><script type=\"text/javascript\">if (window.MathJax) {MathJax.Hub.Config({SVG: {font: \"STIX-Web\"}});}</script>                <script type=\"text/javascript\">window.PlotlyConfig = {MathJaxConfig: 'local'};</script>\n",
              "        <script src=\"https://cdn.plot.ly/plotly-latest.min.js\"></script>                <div id=\"f9eb4863-0abe-4c06-9742-9f32dd314ace\" class=\"plotly-graph-div\" style=\"height:525px; width:100%;\"></div>            <script type=\"text/javascript\">                                    window.PLOTLYENV=window.PLOTLYENV || {};                                    if (document.getElementById(\"f9eb4863-0abe-4c06-9742-9f32dd314ace\")) {                    Plotly.newPlot(                        \"f9eb4863-0abe-4c06-9742-9f32dd314ace\",                        [{\"branchvalues\": \"total\", \"domain\": {\"x\": [0.0, 1.0], \"y\": [0.0, 1.0]}, \"hovertemplate\": \"labels=%{label}<br>Revenues($millions)=%{value}<br>parent=%{parent}<br>id=%{id}<extra></extra>\", \"ids\": [\"USA/3M\", \"Denmark/A.P. M\\u00f8ller-M\\u00e6rsk A/S\", \"Switzerland/ABB\", \"Spain/ACS\", \"Japan/AEON\", \"China/AIA Group\", \"USA/AIG\", \"USA/AT&T\", \"France/AXA\", \"USA/AbbVie\", \"Ireland/Accenture\", \"Netherlands/Achmea\", \"Switzerland/Adecco Group\", \"Netherlands/Aegon\", \"USA/Aetna\", \"USA/Aflac\", \"China/Agricultural Bank of China\", \"France/Air France-KLM Group\", \"Netherlands/Airbus Group\", \"Japan/Aisin Seiki\", \"USA/Albertsons Cos.\", \"Japan/Alfresa Holdings\", \"China/Alibaba Group Holding\", \"Canada/Alimentation Couche-Tard\", \"Germany/Allianz\", \"USA/Allstate\", \"USA/Alphabet\", \"Netherlands/Altice\", \"China/Aluminum Corp. of China\", \"USA/Amazon.com\", \"China/Amer International Group\", \"Mexico/America Movil\", \"USA/American Airlines Group\", \"USA/American Express\", \"USA/AmerisourceBergen\", \"USA/Amgen\", \"China/Anbang Insurance Group\", \"Belgium/Anheuser-Busch InBev\", \"USA/Anthem\", \"USA/Apple\", \"Luxembourg/ArcelorMittal\", \"USA/Archer Daniels Midland\", \"USA/Arrow Electronics\", \"Italy/Assicurazioni Generali\", \"Britain/AstraZeneca\", \"Australia/Australia & New Zeal. Bnkg.\", \"USA/AutoNation\", \"China/Aviation Industry Corp. of China\", \"Britain/Aviva\", \"USA/Avnet\", \"Britain/BAE Systems\", \"Germany/BASF\", \"Australia/BHP Billiton\", \"Germany/BMW\", \"France/BNP Paribas\", \"Britain/BP\", \"Britain/BT Group\", \"Spain/Banco Bilbao Vizcaya Argentaria\", \"Brazil/Banco Bradesco\", \"Spain/Banco Santander\", \"Brazil/Banco do Brasil\", \"USA/Bank of America Corp.\", \"China/Bank of China\", \"China/Bank of Communications\", \"Canada/Bank of Nova Scotia\", \"China/Baosteel Group\", \"Britain/Barclays\", \"Germany/Bayer\", \"China/Beijing Automotive Group\", \"USA/Berkshire Hathaway\", \"USA/Best Buy\", \"India/Bharat Petroleum\", \"USA/Boeing\", \"Germany/Bosch\", \"France/Bouygues\", \"Japan/Bridgestone\", \"Canada/Brookfield Asset Management\", \"USA/Bunge\", \"China/CEFC China Energy\", \"USA/CHS\", \"China/CITIC Group\", \"China/CK Hutchison Holdings\", \"France/CNP Assurances\", \"China/COFCO\", \"Ireland/CRH\", \"China/CRRC\", \"USA/CVS Health\", \"Japan/Canon\", \"USA/Capital One Financial\", \"USA/Cardinal Health\", \"France/Carrefour\", \"USA/Caterpillar\", \"Taiwan/Cathay Life Insurance\", \"USA/Centene\", \"Britain/Centrica\", \"USA/Charter Communications\", \"China/ChemChina\", \"USA/Chevron\", \"China/China Aerospace Science & Industry\", \"China/China Aerospace Science & Technology\", \"China/China Communications Construction\", \"China/China Construction Bank\", \"China/China Datang\", \"China/China Electronics\", \"China/China Electronics Technology Group\", \"China/China Energy Engineering\", \"China/China Everbright Group\", \"China/China FAW Group\", \"China/China General Technology\", \"China/China Guodian\", \"China/China Huadian\", \"China/China Huaneng Group\", \"China/China Life Insurance\", \"China/China Merchants Bank\", \"China/China Minmetals\", \"China/China Minsheng Banking\", \"China/China Mobile Communications\", \"China/China National Aviation Fuel Group\", \"China/China National Bldg. Materials Group\", \"China/China National Offshore Oil\", \"China/China National Petroleum\", \"China/China North Industries\", \"China/China Ocean Shipping\", \"China/China Pacific Insurance\", \"China/China Poly Group\", \"China/China Post Group\", \"China/China Power Investment\", \"China/China Railway Construction\", \"China/China Railway Engineering\", \"China/China Resources National\", \"China/China Shipbuilding Industry\", \"China/China South Industries Group\", \"China/China Southern Power Grid\", \"China/China State Construction Engineering\", \"China/China State Shipbuilding\", \"China/China Telecommunications\", \"China/China United Network Communications\", \"China/China Vanke\", \"France/Christian Dior\", \"Switzerland/Chubb\", \"Japan/Chubu Electric Power\", \"USA/Cigna\", \"USA/Cisco Systems\", \"USA/Citigroup\", \"USA/Coca-Cola\", \"USA/Comcast\", \"Australia/Commonwealth Bank\", \"Taiwan/Compal Electronics\", \"Britain/Compass Group\", \"USA/ConocoPhillips\", \"Germany/Continental\", \"Switzerland/Coop Group\", \"USA/Costco\", \"China/Country Garden Holdings\", \"France/Credit Agricole\", \"Switzerland/Credit Suisse Group\", \"Germany/DZ Bank\", \"Japan/Dai-ichi Life Insurance\", \"Germany/Daimler\", \"Japan/Daiwa House Industry\", \"China/Dalian Wanda Group\", \"France/Danone\", \"China/Datong Coal Mine Group\", \"USA/Deere\", \"USA/Dell Technologies\", \"USA/Delta Air Lines\", \"Japan/Denso\", \"Germany/Deutsche Bahn\", \"Germany/Deutsche Bank\", \"Germany/Deutsche Post\", \"Germany/Deutsche Telekom\", \"USA/Dollar General\", \"China/Dongfeng Motor Group\", \"USA/Dow Chemical\", \"USA/DuPont\", \"USA/Duke Energy\", \"Germany/E.ON\", \"Italy/ENI\", \"Italy/EXOR Group\", \"Japan/East Japan Railway\", \"Germany/Edeka Zentrale\", \"U.A.E/Emirates Group\", \"Canada/Enbridge\", \"Italy/Enel\", \"USA/Energy Transfer Equity\", \"USA/Enterprise Products\", \"Sweden/Ericsson\", \"China/Evergrande Real Estate Group\", \"USA/Exelon\", \"USA/Express Scripts Holding\", \"USA/Exxon Mobil\", \"USA/Facebook\", \"USA/Fannie Mae\", \"USA/FedEx\", \"France/Finatis\", \"Singapore/Flextronics International\", \"USA/Ford Motor\", \"USA/Freddie Mac\", \"Germany/Fresenius\", \"Japan/Fuji Heavy Industries\", \"Japan/Fujitsu\", \"France/GDF Suez\", \"South Korea/GS Caltex\", \"Spain/Gas Natural Fenosa\", \"Russia/Gazprom\", \"USA/General Dynamics\", \"USA/General Electric\", \"USA/General Motors\", \"USA/Gilead Sciences\", \"Britain/GlaxoSmithKline\", \"Switzerland/Glencore\", \"USA/Goldman Sachs Group\", \"China/Greenland Holding Group\", \"France/Groupe Auchan\", \"France/Groupe BPCE\", \"China/Guangzhou Automobile Industry Group\", \"Sweden/H & M Hennes & Mauritz\", \"USA/HCA Holdings\", \"China/HNA Group\", \"USA/HP\", \"Britain/HSBC Holdings\", \"South Korea/Hanwha\", \"China/HeBei Iron & Steel Group\", \"Netherlands/Heineken Holding\", \"China/Hengli Group\", \"Germany/Heraeus Holding\", \"USA/Hewlett Packard Enterprise\", \"India/Hindustan Petroleum\", \"Japan/Hitachi\", \"USA/Home Depot\", \"Taiwan/Hon Hai Precision Industry\", \"Japan/Honda Motor\", \"USA/Honeywell International\", \"China/Huawei Investment & Holding\", \"USA/Humana\", \"South Korea/Hyundai Heavy Industries\", \"South Korea/Hyundai Mobis\", \"South Korea/Hyundai Motor\", \"USA/IBM\", \"Netherlands/ING Group\", \"Spain/Iberdrola\", \"Japan/Idemitsu Kosan\", \"India/Indian Oil\", \"Spain/Inditex\", \"China/Industrial & Commer. Bank of China\", \"China/Industrial Bank\", \"USA/Intel\", \"Britain/International Airlines Group\", \"Italy/Intesa Sanpaolo\", \"Brazil/Ita\\u00fa Unibanco Holding\", \"Japan/Itochu\", \"Brazil/JBS\", \"China/JD.Com\", \"Japan/JFE Holdings\", \"USA/JP Morgan Chase\", \"Japan/JX Holdings\", \"Japan/Japan Post Holdings\", \"China/Jardine Matheson\", \"China/Jiangsu Shagang Group\", \"China/Jiangxi Copper\", \"China/Jizhong Energy Group\", \"USA/Johnson & Johnson\", \"Ireland/Johnson Controls International\", \"Japan/KDDI\", \"Japan/Kansai Electric Power\", \"South Korea/Kia Motors\", \"South Korea/Korea Electric Power\", \"Turkey/Ko\\u00e7 Holding\", \"USA/Kraft Heinz\", \"USA/Kroger\", \"France/L'Oreal\", \"South Korea/LG Display\", \"South Korea/LG Electronics\", \"France/La Poste\", \"Switzerland/LafargeHolcim\", \"Britain/Legal & General Group\", \"China/Lenovo Group\", \"USA/Liberty Mutual Insurance Group\", \"Britain/Lloyds Banking Group\", \"USA/Lockheed Martin\", \"South Korea/Lotte Shopping\", \"Netherlands/Louis Dreyfus Commodities\", \"USA/Lowe's\", \"Germany/Lufthansa Group\", \"Russia/Lukoil\", \"Netherlands/LyondellBasell Industries\", \"Japan/MS&AD Insurance\", \"USA/Macy's\", \"Canada/Magna International\", \"Canada/Manulife Financial\", \"Spain/Mapfre Group\", \"USA/Marathon Petroleum\", \"Japan/Marubeni\", \"USA/Massachusetts Mutual Life\", \"Japan/Mazda Motor\", \"USA/McDonald's\", \"USA/McKesson\", \"Japan/Medipal Holdings\", \"Ireland/Medtronic\", \"Japan/Meiji Yasuda Life Insurance\", \"Venezuela/Mercantil Servicios Financieros\", \"USA/Merck\", \"USA/MetLife\", \"Germany/Metro\", \"France/Michelin\", \"USA/Microsoft\", \"China/Midea Group\", \"Switzerland/Migros Group\", \"Japan/Mitsubishi Chemical Holdings\", \"Japan/Mitsubishi Corp.\", \"Japan/Mitsubishi Electric\", \"Japan/Mitsubishi Heavy Industries\", \"Japan/Mitsubishi UFJ Financial Group\", \"Japan/Mitsui\", \"Japan/Mizuho Financial Group\", \"USA/Mondelez International\", \"USA/Morgan Stanley\", \"Britain/Morrisons\", \"Germany/Munich Re\", \"Japan/NEC\", \"Australia/National Australia Bank\", \"Britain/National Grid\", \"USA/Nationwide\", \"Switzerland/Nestl\\u00e9\", \"China/New China Life Insurance\", \"USA/New York Life Insurance\", \"USA/Nike\", \"Japan/Nippon Life Insurance\", \"Japan/Nippon Steel & Sumitomo Metal\", \"Japan/Nippon Tel. & Tel.\", \"Japan/Nissan Motor\", \"China/Noble Group\", \"Finland/Nokia\", \"USA/Northrop Grumman\", \"USA/Northwestern Mutual\", \"Switzerland/Novartis\", \"Britain/Old Mutual\", \"Canada/Onex\", \"USA/Oracle\", \"France/Orange\", \"South Korea/POSCO\", \"Thailand/PTT\", \"China/Pacific Construction Group\", \"Japan/Panasonic\", \"Taiwan/Pegatron\", \"Mexico/Pemex\", \"China/People's Insurance Co. of China\", \"USA/PepsiCo\", \"Indonesia/Pertamina\", \"Brazil/Petrobras\", \"Malaysia/Petronas\", \"France/Peugeot\", \"USA/Pfizer\", \"USA/Philip Morris International\", \"USA/Phillips 66\", \"Germany/Phoenix Pharmahandel\", \"China/Ping An Insurance\", \"Italy/Poste Italiane\", \"China/Power China\", \"Canada/Power Corp. of Canada\", \"USA/Procter & Gamble\", \"USA/Progressive\", \"USA/Prudential Financial\", \"Britain/Prudential plc\", \"USA/Publix Super Markets\", \"USA/Qualcomm\", \"Taiwan/Quanta Computer\", \"Germany/RWE\", \"Netherlands/Rabobank\", \"India/Rajesh Exports\", \"Netherlands/Randstad Holding\", \"USA/Raytheon\", \"India/Reliance Industries\", \"France/Renault\", \"Spain/Repsol\", \"Britain/Rio Tinto Group\", \"USA/Rite Aid\", \"Switzerland/Roche Group\", \"Russia/Rosneft Oil\", \"Netherlands/Royal Ahold\", \"Canada/Royal Bank of Canada\", \"Netherlands/Royal Dutch Shell\", \"Netherlands/Royal Philips\", \"Saudi Arabia/SABIC\", \"China/SAIC Motor\", \"Germany/SAP\", \"South Korea/SK Holdings\", \"France/SNCF\", \"Britain/SSE\", \"Britain/Sainsbury's\", \"France/Saint-Gobain\", \"South Korea/Samsung C&T\", \"South Korea/Samsung Electronics\", \"South Korea/Samsung Life Insurance\", \"France/Sanofi\", \"Russia/Sberbank\", \"USA/Schlumberger\", \"France/Schneider Electric\", \"USA/Sears Holdings\", \"Japan/Seven & I Holdings\", \"China/Shaanxi Coal & Chemical Industry\", \"China/Shaanxi Yanchang Petroleum\", \"China/Shandong Energy Group\", \"China/Shandong Weiqiao Pioneering\", \"China/Shanghai Pudong Devel. Bank\", \"China/Shanxi Coking Coal Group\", \"China/Shanxi Jincheng Anthracite Coal Mining\", \"China/Shanxi LuAn Mining Group\", \"China/Shenhua Group\", \"Germany/Siemens\", \"China/Sinochem\", \"China/Sinomach\", \"China/Sinopec Group\", \"China/Sinopharm\", \"France/Societe Generale\", \"France/Sodexo\", \"Japan/SoftBank Group\", \"Japan/Sompo Japan Nipponkoa\", \"Japan/Sony\", \"Britain/Standard Life\", \"India/State Bank of India\", \"USA/State Farm Insurance Cos.\", \"China/State Grid\", \"Norway/Statoil\", \"Japan/Sumitomo\", \"Japan/Sumitomo Electric Industries\", \"Japan/Sumitomo Life Insurance\", \"Japan/Sumitomo Mitsui Financial Group\", \"China/Suning Commerce Group\", \"Japan/Suzuki Motor\", \"Switzerland/Swiss Re\", \"USA/Sysco\", \"USA/TIAA-CREF\", \"USA/TJX\", \"Germany/TUI\", \"Taiwan/Taiwan Semiconductor\", \"Germany/Talanx\", \"USA/Target\", \"India/Tata Motors\", \"USA/Tech Data\", \"Italy/Telecom Italia\", \"Spain/Telefonica\", \"China/Tencent Holdings\", \"Britain/Tesco\", \"USA/Tesoro\", \"Israel/Teva Pharmaceutical Industries\", \"China/Tewoo Group\", \"Germany/ThyssenKrupp\", \"USA/Time Warner\", \"Japan/Tokio Marine Holdings\", \"Japan/Tokyo Electric Power\", \"Canada/Toronto-Dominion Bank\", \"France/Total\", \"Japan/Toyota Motor\", \"Netherlands/Trafigura Beheer\", \"USA/Travelers\", \"USA/Twenty-First Century Fox\", \"USA/Tyson Foods\", \"USA/U.S. Bancorp\", \"USA/U.S. Postal Service\", \"Switzerland/UBS Group\", \"USA/UPS\", \"USA/US Foods Holding\", \"Brazil/Ultrapar Holdings\", \"Italy/UniCredit Group\", \"Britain/Netherlands/Unilever\", \"Germany/Uniper\", \"USA/United Continental Holdings\", \"USA/United Services Auto. Assn.\", \"USA/United Technologies\", \"USA/UnitedHealth Group\", \"Brazil/Vale\", \"USA/Valero Energy\", \"France/Veolia Environnement\", \"USA/Verizon\", \"France/Vinci\", \"Britain/Vodafone Group\", \"Germany/Volkswagen\", \"Sweden/Volvo\", \"USA/Walgreens\", \"USA/Walmart\", \"USA/Walt Disney\", \"USA/Wells Fargo\", \"Australia/Wesfarmers\", \"Canada/Weston\", \"Australia/Westpac Banking\", \"Singapore/Wilmar International\", \"Australia/Woolworths\", \"USA/World Fuel Services\", \"China/Xiamen C&D\", \"China/Xiamen ITG Holding Group\", \"China/Xinjiang Guanghui Industry Investment\", \"China/Xinxing Cathay International\", \"China/Yango Financial Holding\", \"China/Yangquan Coal Industry Group\", \"Germany/ZF Friedrichshafen\", \"China/Zhejiang Geely Holding Group\", \"China/Zhejiang Materials Industry Group\", \"Switzerland/Zurich Insurance Group\", \"France/\\u00c9lectricit\\u00e9 de France\", \"Australia\", \"Belgium\", \"Brazil\", \"Britain\", \"Britain/Netherlands\", \"Canada\", \"China\", \"Denmark\", \"Finland\", \"France\", \"Germany\", \"India\", \"Indonesia\", \"Ireland\", \"Israel\", \"Italy\", \"Japan\", \"Luxembourg\", \"Malaysia\", \"Mexico\", \"Netherlands\", \"Norway\", \"Russia\", \"Saudi Arabia\", \"Singapore\", \"South Korea\", \"Spain\", \"Sweden\", \"Switzerland\", \"Taiwan\", \"Thailand\", \"Turkey\", \"U.A.E\", \"USA\", \"Venezuela\"], \"labels\": [\"3M\", \"A.P. M\\u00f8ller-M\\u00e6rsk A/S\", \"ABB\", \"ACS\", \"AEON\", \"AIA Group\", \"AIG\", \"AT&T\", \"AXA\", \"AbbVie\", \"Accenture\", \"Achmea\", \"Adecco Group\", \"Aegon\", \"Aetna\", \"Aflac\", \"Agricultural Bank of China\", \"Air France-KLM Group\", \"Airbus Group\", \"Aisin Seiki\", \"Albertsons Cos.\", \"Alfresa Holdings\", \"Alibaba Group Holding\", \"Alimentation Couche-Tard\", \"Allianz\", \"Allstate\", \"Alphabet\", \"Altice\", \"Aluminum Corp. of China\", \"Amazon.com\", \"Amer International Group\", \"America Movil\", \"American Airlines Group\", \"American Express\", \"AmerisourceBergen\", \"Amgen\", \"Anbang Insurance Group\", \"Anheuser-Busch InBev\", \"Anthem\", \"Apple\", \"ArcelorMittal\", \"Archer Daniels Midland\", \"Arrow Electronics\", \"Assicurazioni Generali\", \"AstraZeneca\", \"Australia & New Zeal. Bnkg.\", \"AutoNation\", \"Aviation Industry Corp. of China\", \"Aviva\", \"Avnet\", \"BAE Systems\", \"BASF\", \"BHP Billiton\", \"BMW\", \"BNP Paribas\", \"BP\", \"BT Group\", \"Banco Bilbao Vizcaya Argentaria\", \"Banco Bradesco\", \"Banco Santander\", \"Banco do Brasil\", \"Bank of America Corp.\", \"Bank of China\", \"Bank of Communications\", \"Bank of Nova Scotia\", \"Baosteel Group\", \"Barclays\", \"Bayer\", \"Beijing Automotive Group\", \"Berkshire Hathaway\", \"Best Buy\", \"Bharat Petroleum\", \"Boeing\", \"Bosch\", \"Bouygues\", \"Bridgestone\", \"Brookfield Asset Management\", \"Bunge\", \"CEFC China Energy\", \"CHS\", \"CITIC Group\", \"CK Hutchison Holdings\", \"CNP Assurances\", \"COFCO\", \"CRH\", \"CRRC\", \"CVS Health\", \"Canon\", \"Capital One Financial\", \"Cardinal Health\", \"Carrefour\", \"Caterpillar\", \"Cathay Life Insurance\", \"Centene\", \"Centrica\", \"Charter Communications\", \"ChemChina\", \"Chevron\", \"China Aerospace Science & Industry\", \"China Aerospace Science & Technology\", \"China Communications Construction\", \"China Construction Bank\", \"China Datang\", \"China Electronics\", \"China Electronics Technology Group\", \"China Energy Engineering\", \"China Everbright Group\", \"China FAW Group\", \"China General Technology\", \"China Guodian\", \"China Huadian\", \"China Huaneng Group\", \"China Life Insurance\", \"China Merchants Bank\", \"China Minmetals\", \"China Minsheng Banking\", \"China Mobile Communications\", \"China National Aviation Fuel Group\", \"China National Bldg. Materials Group\", \"China National Offshore Oil\", \"China National Petroleum\", \"China North Industries\", \"China Ocean Shipping\", \"China Pacific Insurance\", \"China Poly Group\", \"China Post Group\", \"China Power Investment\", \"China Railway Construction\", \"China Railway Engineering\", \"China Resources National\", \"China Shipbuilding Industry\", \"China South Industries Group\", \"China Southern Power Grid\", \"China State Construction Engineering\", \"China State Shipbuilding\", \"China Telecommunications\", \"China United Network Communications\", \"China Vanke\", \"Christian Dior\", \"Chubb\", \"Chubu Electric Power\", \"Cigna\", \"Cisco Systems\", \"Citigroup\", \"Coca-Cola\", \"Comcast\", \"Commonwealth Bank\", \"Compal Electronics\", \"Compass Group\", \"ConocoPhillips\", \"Continental\", \"Coop Group\", \"Costco\", \"Country Garden Holdings\", \"Credit Agricole\", \"Credit Suisse Group\", \"DZ Bank\", \"Dai-ichi Life Insurance\", \"Daimler\", \"Daiwa House Industry\", \"Dalian Wanda Group\", \"Danone\", \"Datong Coal Mine Group\", \"Deere\", \"Dell Technologies\", \"Delta Air Lines\", \"Denso\", \"Deutsche Bahn\", \"Deutsche Bank\", \"Deutsche Post\", \"Deutsche Telekom\", \"Dollar General\", \"Dongfeng Motor Group\", \"Dow Chemical\", \"DuPont\", \"Duke Energy\", \"E.ON\", \"ENI\", \"EXOR Group\", \"East Japan Railway\", \"Edeka Zentrale\", \"Emirates Group\", \"Enbridge\", \"Enel\", \"Energy Transfer Equity\", \"Enterprise Products\", \"Ericsson\", \"Evergrande Real Estate Group\", \"Exelon\", \"Express Scripts Holding\", \"Exxon Mobil\", \"Facebook\", \"Fannie Mae\", \"FedEx\", \"Finatis\", \"Flextronics International\", \"Ford Motor\", \"Freddie Mac\", \"Fresenius\", \"Fuji Heavy Industries\", \"Fujitsu\", \"GDF Suez\", \"GS Caltex\", \"Gas Natural Fenosa\", \"Gazprom\", \"General Dynamics\", \"General Electric\", \"General Motors\", \"Gilead Sciences\", \"GlaxoSmithKline\", \"Glencore\", \"Goldman Sachs Group\", \"Greenland Holding Group\", \"Groupe Auchan\", \"Groupe BPCE\", \"Guangzhou Automobile Industry Group\", \"H & M Hennes & Mauritz\", \"HCA Holdings\", \"HNA Group\", \"HP\", \"HSBC Holdings\", \"Hanwha\", \"HeBei Iron & Steel Group\", \"Heineken Holding\", \"Hengli Group\", \"Heraeus Holding\", \"Hewlett Packard Enterprise\", \"Hindustan Petroleum\", \"Hitachi\", \"Home Depot\", \"Hon Hai Precision Industry\", \"Honda Motor\", \"Honeywell International\", \"Huawei Investment & Holding\", \"Humana\", \"Hyundai Heavy Industries\", \"Hyundai Mobis\", \"Hyundai Motor\", \"IBM\", \"ING Group\", \"Iberdrola\", \"Idemitsu Kosan\", \"Indian Oil\", \"Inditex\", \"Industrial & Commer. Bank of China\", \"Industrial Bank\", \"Intel\", \"International Airlines Group\", \"Intesa Sanpaolo\", \"Ita\\u00fa Unibanco Holding\", \"Itochu\", \"JBS\", \"JD.Com\", \"JFE Holdings\", \"JP Morgan Chase\", \"JX Holdings\", \"Japan Post Holdings\", \"Jardine Matheson\", \"Jiangsu Shagang Group\", \"Jiangxi Copper\", \"Jizhong Energy Group\", \"Johnson & Johnson\", \"Johnson Controls International\", \"KDDI\", \"Kansai Electric Power\", \"Kia Motors\", \"Korea Electric Power\", \"Ko\\u00e7 Holding\", \"Kraft Heinz\", \"Kroger\", \"L'Oreal\", \"LG Display\", \"LG Electronics\", \"La Poste\", \"LafargeHolcim\", \"Legal & General Group\", \"Lenovo Group\", \"Liberty Mutual Insurance Group\", \"Lloyds Banking Group\", \"Lockheed Martin\", \"Lotte Shopping\", \"Louis Dreyfus Commodities\", \"Lowe's\", \"Lufthansa Group\", \"Lukoil\", \"LyondellBasell Industries\", \"MS&AD Insurance\", \"Macy's\", \"Magna International\", \"Manulife Financial\", \"Mapfre Group\", \"Marathon Petroleum\", \"Marubeni\", \"Massachusetts Mutual Life\", \"Mazda Motor\", \"McDonald's\", \"McKesson\", \"Medipal Holdings\", \"Medtronic\", \"Meiji Yasuda Life Insurance\", \"Mercantil Servicios Financieros\", \"Merck\", \"MetLife\", \"Metro\", \"Michelin\", \"Microsoft\", \"Midea Group\", \"Migros Group\", \"Mitsubishi Chemical Holdings\", \"Mitsubishi Corp.\", \"Mitsubishi Electric\", \"Mitsubishi Heavy Industries\", \"Mitsubishi UFJ Financial Group\", \"Mitsui\", \"Mizuho Financial Group\", \"Mondelez International\", \"Morgan Stanley\", \"Morrisons\", \"Munich Re\", \"NEC\", \"National Australia Bank\", \"National Grid\", \"Nationwide\", \"Nestl\\u00e9\", \"New China Life Insurance\", \"New York Life Insurance\", \"Nike\", \"Nippon Life Insurance\", \"Nippon Steel & Sumitomo Metal\", \"Nippon Tel. & Tel.\", \"Nissan Motor\", \"Noble Group\", \"Nokia\", \"Northrop Grumman\", \"Northwestern Mutual\", \"Novartis\", \"Old Mutual\", \"Onex\", \"Oracle\", \"Orange\", \"POSCO\", \"PTT\", \"Pacific Construction Group\", \"Panasonic\", \"Pegatron\", \"Pemex\", \"People's Insurance Co. of China\", \"PepsiCo\", \"Pertamina\", \"Petrobras\", \"Petronas\", \"Peugeot\", \"Pfizer\", \"Philip Morris International\", \"Phillips 66\", \"Phoenix Pharmahandel\", \"Ping An Insurance\", \"Poste Italiane\", \"Power China\", \"Power Corp. of Canada\", \"Procter & Gamble\", \"Progressive\", \"Prudential Financial\", \"Prudential plc\", \"Publix Super Markets\", \"Qualcomm\", \"Quanta Computer\", \"RWE\", \"Rabobank\", \"Rajesh Exports\", \"Randstad Holding\", \"Raytheon\", \"Reliance Industries\", \"Renault\", \"Repsol\", \"Rio Tinto Group\", \"Rite Aid\", \"Roche Group\", \"Rosneft Oil\", \"Royal Ahold\", \"Royal Bank of Canada\", \"Royal Dutch Shell\", \"Royal Philips\", \"SABIC\", \"SAIC Motor\", \"SAP\", \"SK Holdings\", \"SNCF\", \"SSE\", \"Sainsbury's\", \"Saint-Gobain\", \"Samsung C&T\", \"Samsung Electronics\", \"Samsung Life Insurance\", \"Sanofi\", \"Sberbank\", \"Schlumberger\", \"Schneider Electric\", \"Sears Holdings\", \"Seven & I Holdings\", \"Shaanxi Coal & Chemical Industry\", \"Shaanxi Yanchang Petroleum\", \"Shandong Energy Group\", \"Shandong Weiqiao Pioneering\", \"Shanghai Pudong Devel. Bank\", \"Shanxi Coking Coal Group\", \"Shanxi Jincheng Anthracite Coal Mining\", \"Shanxi LuAn Mining Group\", \"Shenhua Group\", \"Siemens\", \"Sinochem\", \"Sinomach\", \"Sinopec Group\", \"Sinopharm\", \"Societe Generale\", \"Sodexo\", \"SoftBank Group\", \"Sompo Japan Nipponkoa\", \"Sony\", \"Standard Life\", \"State Bank of India\", \"State Farm Insurance Cos.\", \"State Grid\", \"Statoil\", \"Sumitomo\", \"Sumitomo Electric Industries\", \"Sumitomo Life Insurance\", \"Sumitomo Mitsui Financial Group\", \"Suning Commerce Group\", \"Suzuki Motor\", \"Swiss Re\", \"Sysco\", \"TIAA-CREF\", \"TJX\", \"TUI\", \"Taiwan Semiconductor\", \"Talanx\", \"Target\", \"Tata Motors\", \"Tech Data\", \"Telecom Italia\", \"Telefonica\", \"Tencent Holdings\", \"Tesco\", \"Tesoro\", \"Teva Pharmaceutical Industries\", \"Tewoo Group\", \"ThyssenKrupp\", \"Time Warner\", \"Tokio Marine Holdings\", \"Tokyo Electric Power\", \"Toronto-Dominion Bank\", \"Total\", \"Toyota Motor\", \"Trafigura Beheer\", \"Travelers\", \"Twenty-First Century Fox\", \"Tyson Foods\", \"U.S. Bancorp\", \"U.S. Postal Service\", \"UBS Group\", \"UPS\", \"US Foods Holding\", \"Ultrapar Holdings\", \"UniCredit Group\", \"Unilever\", \"Uniper\", \"United Continental Holdings\", \"United Services Auto. Assn.\", \"United Technologies\", \"UnitedHealth Group\", \"Vale\", \"Valero Energy\", \"Veolia Environnement\", \"Verizon\", \"Vinci\", \"Vodafone Group\", \"Volkswagen\", \"Volvo\", \"Walgreens\", \"Walmart\", \"Walt Disney\", \"Wells Fargo\", \"Wesfarmers\", \"Weston\", \"Westpac Banking\", \"Wilmar International\", \"Woolworths\", \"World Fuel Services\", \"Xiamen C&D\", \"Xiamen ITG Holding Group\", \"Xinjiang Guanghui Industry Investment\", \"Xinxing Cathay International\", \"Yango Financial Holding\", \"Yangquan Coal Industry Group\", \"ZF Friedrichshafen\", \"Zhejiang Geely Holding Group\", \"Zhejiang Materials Industry Group\", \"Zurich Insurance Group\", \"\\u00c9lectricit\\u00e9 de France\", \"Australia\", \"Belgium\", \"Brazil\", \"Britain\", \"Britain/Netherlands\", \"Canada\", \"China\", \"Denmark\", \"Finland\", \"France\", \"Germany\", \"India\", \"Indonesia\", \"Ireland\", \"Israel\", \"Italy\", \"Japan\", \"Luxembourg\", \"Malaysia\", \"Mexico\", \"Netherlands\", \"Norway\", \"Russia\", \"Saudi Arabia\", \"Singapore\", \"South Korea\", \"Spain\", \"Sweden\", \"Switzerland\", \"Taiwan\", \"Thailand\", \"Turkey\", \"U.A.E\", \"USA\", \"Venezuela\"], \"name\": \"\", \"parents\": [\"USA\", \"Denmark\", \"Switzerland\", \"Spain\", \"Japan\", \"China\", \"USA\", \"USA\", \"France\", \"USA\", \"Ireland\", \"Netherlands\", \"Switzerland\", \"Netherlands\", \"USA\", \"USA\", \"China\", \"France\", \"Netherlands\", \"Japan\", \"USA\", \"Japan\", \"China\", \"Canada\", \"Germany\", \"USA\", \"USA\", \"Netherlands\", \"China\", \"USA\", \"China\", \"Mexico\", \"USA\", \"USA\", \"USA\", \"USA\", \"China\", \"Belgium\", \"USA\", \"USA\", \"Luxembourg\", \"USA\", \"USA\", \"Italy\", \"Britain\", \"Australia\", \"USA\", \"China\", \"Britain\", \"USA\", \"Britain\", \"Germany\", \"Australia\", \"Germany\", \"France\", \"Britain\", \"Britain\", \"Spain\", \"Brazil\", \"Spain\", \"Brazil\", \"USA\", \"China\", \"China\", \"Canada\", \"China\", \"Britain\", \"Germany\", \"China\", \"USA\", \"USA\", \"India\", \"USA\", \"Germany\", \"France\", \"Japan\", \"Canada\", \"USA\", \"China\", \"USA\", \"China\", \"China\", \"France\", \"China\", \"Ireland\", \"China\", \"USA\", \"Japan\", \"USA\", \"USA\", \"France\", \"USA\", \"Taiwan\", \"USA\", \"Britain\", \"USA\", \"China\", \"USA\", \"China\", \"China\", \"China\", \"China\", \"China\", \"China\", \"China\", \"China\", \"China\", \"China\", \"China\", \"China\", \"China\", \"China\", \"China\", \"China\", \"China\", \"China\", \"China\", \"China\", \"China\", \"China\", \"China\", \"China\", \"China\", \"China\", \"China\", \"China\", \"China\", \"China\", \"China\", \"China\", \"China\", \"China\", \"China\", \"China\", \"China\", \"China\", \"China\", \"China\", \"France\", \"Switzerland\", \"Japan\", \"USA\", \"USA\", \"USA\", \"USA\", \"USA\", \"Australia\", \"Taiwan\", \"Britain\", \"USA\", \"Germany\", \"Switzerland\", \"USA\", \"China\", \"France\", \"Switzerland\", \"Germany\", \"Japan\", \"Germany\", \"Japan\", \"China\", \"France\", \"China\", \"USA\", \"USA\", \"USA\", \"Japan\", \"Germany\", \"Germany\", \"Germany\", \"Germany\", \"USA\", \"China\", \"USA\", \"USA\", \"USA\", \"Germany\", \"Italy\", \"Italy\", \"Japan\", \"Germany\", \"U.A.E\", \"Canada\", \"Italy\", \"USA\", \"USA\", \"Sweden\", \"China\", \"USA\", \"USA\", \"USA\", \"USA\", \"USA\", \"USA\", \"France\", \"Singapore\", \"USA\", \"USA\", \"Germany\", \"Japan\", \"Japan\", \"France\", \"South Korea\", \"Spain\", \"Russia\", \"USA\", \"USA\", \"USA\", \"USA\", \"Britain\", \"Switzerland\", \"USA\", \"China\", \"France\", \"France\", \"China\", \"Sweden\", \"USA\", \"China\", \"USA\", \"Britain\", \"South Korea\", \"China\", \"Netherlands\", \"China\", \"Germany\", \"USA\", \"India\", \"Japan\", \"USA\", \"Taiwan\", \"Japan\", \"USA\", \"China\", \"USA\", \"South Korea\", \"South Korea\", \"South Korea\", \"USA\", \"Netherlands\", \"Spain\", \"Japan\", \"India\", \"Spain\", \"China\", \"China\", \"USA\", \"Britain\", \"Italy\", \"Brazil\", \"Japan\", \"Brazil\", \"China\", \"Japan\", \"USA\", \"Japan\", \"Japan\", \"China\", \"China\", \"China\", \"China\", \"USA\", \"Ireland\", \"Japan\", \"Japan\", \"South Korea\", \"South Korea\", \"Turkey\", \"USA\", \"USA\", \"France\", \"South Korea\", \"South Korea\", \"France\", \"Switzerland\", \"Britain\", \"China\", \"USA\", \"Britain\", \"USA\", \"South Korea\", \"Netherlands\", \"USA\", \"Germany\", \"Russia\", \"Netherlands\", \"Japan\", \"USA\", \"Canada\", \"Canada\", \"Spain\", \"USA\", \"Japan\", \"USA\", \"Japan\", \"USA\", \"USA\", \"Japan\", \"Ireland\", \"Japan\", \"Venezuela\", \"USA\", \"USA\", \"Germany\", \"France\", \"USA\", \"China\", \"Switzerland\", \"Japan\", \"Japan\", \"Japan\", \"Japan\", \"Japan\", \"Japan\", \"Japan\", \"USA\", \"USA\", \"Britain\", \"Germany\", \"Japan\", \"Australia\", \"Britain\", \"USA\", \"Switzerland\", \"China\", \"USA\", \"USA\", \"Japan\", \"Japan\", \"Japan\", \"Japan\", \"China\", \"Finland\", \"USA\", \"USA\", \"Switzerland\", \"Britain\", \"Canada\", \"USA\", \"France\", \"South Korea\", \"Thailand\", \"China\", \"Japan\", \"Taiwan\", \"Mexico\", \"China\", \"USA\", \"Indonesia\", \"Brazil\", \"Malaysia\", \"France\", \"USA\", \"USA\", \"USA\", \"Germany\", \"China\", \"Italy\", \"China\", \"Canada\", \"USA\", \"USA\", \"USA\", \"Britain\", \"USA\", \"USA\", \"Taiwan\", \"Germany\", \"Netherlands\", \"India\", \"Netherlands\", \"USA\", \"India\", \"France\", \"Spain\", \"Britain\", \"USA\", \"Switzerland\", \"Russia\", \"Netherlands\", \"Canada\", \"Netherlands\", \"Netherlands\", \"Saudi Arabia\", \"China\", \"Germany\", \"South Korea\", \"France\", \"Britain\", \"Britain\", \"France\", \"South Korea\", \"South Korea\", \"South Korea\", \"France\", \"Russia\", \"USA\", \"France\", \"USA\", \"Japan\", \"China\", \"China\", \"China\", \"China\", \"China\", \"China\", \"China\", \"China\", \"China\", \"Germany\", \"China\", \"China\", \"China\", \"China\", \"France\", \"France\", \"Japan\", \"Japan\", \"Japan\", \"Britain\", \"India\", \"USA\", \"China\", \"Norway\", \"Japan\", \"Japan\", \"Japan\", \"Japan\", \"China\", \"Japan\", \"Switzerland\", \"USA\", \"USA\", \"USA\", \"Germany\", \"Taiwan\", \"Germany\", \"USA\", \"India\", \"USA\", \"Italy\", \"Spain\", \"China\", \"Britain\", \"USA\", \"Israel\", \"China\", \"Germany\", \"USA\", \"Japan\", \"Japan\", \"Canada\", \"France\", \"Japan\", \"Netherlands\", \"USA\", \"USA\", \"USA\", \"USA\", \"USA\", \"Switzerland\", \"USA\", \"USA\", \"Brazil\", \"Italy\", \"Britain/Netherlands\", \"Germany\", \"USA\", \"USA\", \"USA\", \"USA\", \"Brazil\", \"USA\", \"France\", \"USA\", \"France\", \"Britain\", \"Germany\", \"Sweden\", \"USA\", \"USA\", \"USA\", \"USA\", \"Australia\", \"Canada\", \"Australia\", \"Singapore\", \"Australia\", \"USA\", \"China\", \"China\", \"China\", \"China\", \"China\", \"China\", \"Germany\", \"China\", \"China\", \"Switzerland\", \"France\", \"\", \"\", \"\", \"\", \"\", \"\", \"\", \"\", \"\", \"\", \"\", \"\", \"\", \"\", \"\", \"\", \"\", \"\", \"\", \"\", \"\", \"\", \"\", \"\", \"\", \"\", \"\", \"\", \"\", \"\", \"\", \"\", \"\", \"\", \"\"], \"type\": \"treemap\", \"values\": [30109, 35464, 33828, 36992, 75772, 28196, 52367, 163786, 143722, 25638, 34798, 26494, 25112, 58789, 63155, 22559, 117275, 27920, 73628, 32879, 59678, 23551, 23517, 34145, 122196, 36534, 90272, 22953, 40278, 135987, 49677, 52201, 40180, 33823, 146850, 22991, 60800, 45905, 84863, 215639, 56791, 62346, 23825, 95217, 23002, 26032, 21609, 55306, 74628, 26219, 24011, 63641, 30912, 104130, 109026, 186606, 31333, 43698, 57443, 82801, 58093, 93662, 113708, 52990, 25817, 46606, 36789, 52569, 61130, 223604, 39403, 30316, 94571, 80869, 35277, 30678, 24411, 42679, 43743, 30347, 52852, 33475, 47804, 61265, 29973, 33739, 177526, 31271, 27519, 121546, 87112, 38537, 26292, 40721, 36580, 29003, 45177, 107567, 30582, 32094, 70751, 135093, 23871, 30010, 27292, 33930, 32461, 64784, 22113, 27315, 28204, 37543, 104818, 44552, 65547, 40234, 107117, 24588, 39323, 65892, 262573, 61326, 29743, 40193, 31508, 65605, 29493, 94877, 96979, 75776, 42149, 71151, 71242, 144505, 29877, 62387, 41274, 34458, 42113, 31469, 24028, 39668, 49247, 82386, 41863, 80403, 32287, 23773, 27837, 24360, 44842, 27669, 118719, 23044, 80258, 30588, 32636, 59590, 169483, 32421, 28483, 24267, 25630, 26644, 64806, 39639, 41781, 44850, 48876, 65787, 80832, 21987, 86194, 48158, 24594, 23369, 42213, 62694, 154894, 26587, 34193, 22799, 26073, 78064, 37504, 23022, 26004, 31828, 31360, 100288, 205004, 27638, 107162, 50365, 48154, 23863, 151800, 65665, 32161, 30696, 41620, 73692, 22207, 26070, 91382, 31353, 126661, 166380, 30390, 37642, 173883, 37712, 37240, 58862, 70517, 41560, 22618, 44747, 53035, 48238, 75329, 40606, 43769, 23044, 37880, 23793, 50123, 28166, 84558, 94595, 135129, 129198, 39302, 78511, 54379, 33881, 32972, 80701, 79919, 55282, 32308, 25888, 53562, 25733, 147675, 42622, 59387, 24956, 36225, 66876, 44654, 48825, 39155, 30539, 105486, 63629, 122990, 37051, 29862, 31680, 33366, 71890, 37674, 43822, 27792, 45425, 51500, 23456, 26487, 115337, 28572, 22840, 47712, 25760, 27308, 105235, 43035, 38308, 65208, 50658, 25444, 49838, 65017, 35011, 70897, 29183, 49239, 25778, 36445, 40238, 25775, 55858, 65792, 37788, 29665, 24622, 198533, 28277, 28833, 35767, 24403, 39807, 63476, 64853, 23120, 85320, 24060, 28155, 31158, 59303, 39119, 36122, 55185, 40275, 30390, 25923, 37949, 21741, 68700, 24596, 26958, 22036, 40074, 90814, 21796, 40787, 32376, 67388, 42757, 105128, 108164, 46528, 26113, 24508, 28799, 49436, 25913, 22943, 37047, 45249, 45621, 48719, 74629, 67775, 35891, 57774, 66732, 62799, 36487, 81405, 49479, 59749, 52824, 26685, 72396, 26976, 116581, 36617, 48869, 38286, 71726, 23441, 58779, 96965, 34274, 23554, 27715, 48204, 22956, 36114, 22873, 24069, 46931, 56667, 34485, 33781, 32845, 53427, 56553, 54955, 34904, 240033, 29003, 35421, 113861, 24397, 72579, 33747, 37813, 34149, 43231, 24217, 173957, 26222, 41376, 42159, 27810, 27307, 22138, 53858, 31926, 32652, 29299, 56174, 40689, 25123, 22875, 24087, 37322, 88419, 59533, 32237, 267518, 47810, 69335, 22477, 82892, 31559, 70170, 25279, 44533, 76132, 315199, 45873, 36888, 25975, 40921, 47375, 22366, 29252, 43786, 50367, 37105, 33184, 21655, 29388, 35101, 69495, 40329, 26235, 21941, 57544, 22871, 74393, 24005, 21903, 63324, 43589, 29318, 48292, 49446, 30855, 127925, 254694, 98098, 27625, 27326, 36881, 22744, 71498, 36230, 60906, 22919, 22167, 32539, 58292, 74407, 36556, 27131, 57244, 184840, 29363, 70166, 26972, 125980, 42771, 58611, 240264, 35269, 117351, 485873, 55632, 94176, 48003, 36211, 27704, 41402, 43925, 27016, 22145, 21930, 21919, 33174, 23657, 24284, 38888, 31430, 31185, 67245, 78740, 235821, 45905, 364172, 1179837, 58292, 350328, 6038369, 35464, 26113, 1601722, 1853535, 279951, 36487, 131278, 21903, 518191, 2711366, 56791, 49479, 109975, 807129, 45873, 260991, 35421, 65265, 745884, 365406, 83891, 718950, 278188, 48719, 23456, 22799, 8476825, 24403]}],                        {\"legend\": {\"tracegroupgap\": 0}, \"margin\": {\"b\": 10, \"l\": 10, \"r\": 10, \"t\": 10}, \"template\": {\"data\": {\"bar\": [{\"error_x\": {\"color\": \"#2a3f5f\"}, \"error_y\": {\"color\": \"#2a3f5f\"}, \"marker\": {\"line\": {\"color\": \"#E5ECF6\", \"width\": 0.5}}, \"type\": \"bar\"}], \"barpolar\": [{\"marker\": {\"line\": {\"color\": \"#E5ECF6\", \"width\": 0.5}}, \"type\": \"barpolar\"}], \"carpet\": [{\"aaxis\": {\"endlinecolor\": \"#2a3f5f\", \"gridcolor\": \"white\", \"linecolor\": \"white\", \"minorgridcolor\": \"white\", \"startlinecolor\": \"#2a3f5f\"}, \"baxis\": {\"endlinecolor\": \"#2a3f5f\", \"gridcolor\": \"white\", \"linecolor\": \"white\", \"minorgridcolor\": \"white\", \"startlinecolor\": \"#2a3f5f\"}, \"type\": \"carpet\"}], \"choropleth\": [{\"colorbar\": {\"outlinewidth\": 0, \"ticks\": \"\"}, \"type\": \"choropleth\"}], \"contour\": [{\"colorbar\": {\"outlinewidth\": 0, \"ticks\": \"\"}, \"colorscale\": [[0.0, \"#0d0887\"], [0.1111111111111111, \"#46039f\"], [0.2222222222222222, \"#7201a8\"], [0.3333333333333333, \"#9c179e\"], [0.4444444444444444, \"#bd3786\"], [0.5555555555555556, \"#d8576b\"], [0.6666666666666666, \"#ed7953\"], [0.7777777777777778, \"#fb9f3a\"], [0.8888888888888888, \"#fdca26\"], [1.0, \"#f0f921\"]], \"type\": \"contour\"}], \"contourcarpet\": [{\"colorbar\": {\"outlinewidth\": 0, \"ticks\": \"\"}, \"type\": \"contourcarpet\"}], \"heatmap\": [{\"colorbar\": {\"outlinewidth\": 0, \"ticks\": \"\"}, \"colorscale\": [[0.0, \"#0d0887\"], [0.1111111111111111, \"#46039f\"], [0.2222222222222222, \"#7201a8\"], [0.3333333333333333, \"#9c179e\"], [0.4444444444444444, \"#bd3786\"], [0.5555555555555556, \"#d8576b\"], [0.6666666666666666, \"#ed7953\"], [0.7777777777777778, \"#fb9f3a\"], [0.8888888888888888, \"#fdca26\"], [1.0, \"#f0f921\"]], \"type\": \"heatmap\"}], \"heatmapgl\": [{\"colorbar\": {\"outlinewidth\": 0, \"ticks\": \"\"}, \"colorscale\": [[0.0, \"#0d0887\"], [0.1111111111111111, \"#46039f\"], [0.2222222222222222, \"#7201a8\"], [0.3333333333333333, \"#9c179e\"], [0.4444444444444444, \"#bd3786\"], [0.5555555555555556, \"#d8576b\"], [0.6666666666666666, \"#ed7953\"], [0.7777777777777778, \"#fb9f3a\"], [0.8888888888888888, \"#fdca26\"], [1.0, \"#f0f921\"]], \"type\": \"heatmapgl\"}], \"histogram\": [{\"marker\": {\"colorbar\": {\"outlinewidth\": 0, \"ticks\": \"\"}}, \"type\": \"histogram\"}], \"histogram2d\": [{\"colorbar\": {\"outlinewidth\": 0, \"ticks\": \"\"}, \"colorscale\": [[0.0, \"#0d0887\"], [0.1111111111111111, \"#46039f\"], [0.2222222222222222, \"#7201a8\"], [0.3333333333333333, \"#9c179e\"], [0.4444444444444444, \"#bd3786\"], [0.5555555555555556, \"#d8576b\"], [0.6666666666666666, \"#ed7953\"], [0.7777777777777778, \"#fb9f3a\"], [0.8888888888888888, \"#fdca26\"], [1.0, \"#f0f921\"]], \"type\": \"histogram2d\"}], \"histogram2dcontour\": [{\"colorbar\": {\"outlinewidth\": 0, \"ticks\": \"\"}, \"colorscale\": [[0.0, \"#0d0887\"], [0.1111111111111111, \"#46039f\"], [0.2222222222222222, \"#7201a8\"], [0.3333333333333333, \"#9c179e\"], [0.4444444444444444, \"#bd3786\"], [0.5555555555555556, \"#d8576b\"], [0.6666666666666666, \"#ed7953\"], [0.7777777777777778, \"#fb9f3a\"], [0.8888888888888888, \"#fdca26\"], [1.0, \"#f0f921\"]], \"type\": \"histogram2dcontour\"}], \"mesh3d\": [{\"colorbar\": {\"outlinewidth\": 0, \"ticks\": \"\"}, \"type\": \"mesh3d\"}], \"parcoords\": [{\"line\": {\"colorbar\": {\"outlinewidth\": 0, \"ticks\": \"\"}}, \"type\": \"parcoords\"}], \"pie\": [{\"automargin\": true, \"type\": \"pie\"}], \"scatter\": [{\"marker\": {\"colorbar\": {\"outlinewidth\": 0, \"ticks\": \"\"}}, \"type\": \"scatter\"}], \"scatter3d\": [{\"line\": {\"colorbar\": {\"outlinewidth\": 0, \"ticks\": \"\"}}, \"marker\": {\"colorbar\": {\"outlinewidth\": 0, \"ticks\": \"\"}}, \"type\": \"scatter3d\"}], \"scattercarpet\": [{\"marker\": {\"colorbar\": {\"outlinewidth\": 0, \"ticks\": \"\"}}, \"type\": \"scattercarpet\"}], \"scattergeo\": [{\"marker\": {\"colorbar\": {\"outlinewidth\": 0, \"ticks\": \"\"}}, \"type\": \"scattergeo\"}], \"scattergl\": [{\"marker\": {\"colorbar\": {\"outlinewidth\": 0, \"ticks\": \"\"}}, \"type\": \"scattergl\"}], \"scattermapbox\": [{\"marker\": {\"colorbar\": {\"outlinewidth\": 0, \"ticks\": \"\"}}, \"type\": \"scattermapbox\"}], \"scatterpolar\": [{\"marker\": {\"colorbar\": {\"outlinewidth\": 0, \"ticks\": \"\"}}, \"type\": \"scatterpolar\"}], \"scatterpolargl\": [{\"marker\": {\"colorbar\": {\"outlinewidth\": 0, \"ticks\": \"\"}}, \"type\": \"scatterpolargl\"}], \"scatterternary\": [{\"marker\": {\"colorbar\": {\"outlinewidth\": 0, \"ticks\": \"\"}}, \"type\": \"scatterternary\"}], \"surface\": [{\"colorbar\": {\"outlinewidth\": 0, \"ticks\": \"\"}, \"colorscale\": [[0.0, \"#0d0887\"], [0.1111111111111111, \"#46039f\"], [0.2222222222222222, \"#7201a8\"], [0.3333333333333333, \"#9c179e\"], [0.4444444444444444, \"#bd3786\"], [0.5555555555555556, \"#d8576b\"], [0.6666666666666666, \"#ed7953\"], [0.7777777777777778, \"#fb9f3a\"], [0.8888888888888888, \"#fdca26\"], [1.0, \"#f0f921\"]], \"type\": \"surface\"}], \"table\": [{\"cells\": {\"fill\": {\"color\": \"#EBF0F8\"}, \"line\": {\"color\": \"white\"}}, \"header\": {\"fill\": {\"color\": \"#C8D4E3\"}, \"line\": {\"color\": \"white\"}}, \"type\": \"table\"}]}, \"layout\": {\"annotationdefaults\": {\"arrowcolor\": \"#2a3f5f\", \"arrowhead\": 0, \"arrowwidth\": 1}, \"autotypenumbers\": \"strict\", \"coloraxis\": {\"colorbar\": {\"outlinewidth\": 0, \"ticks\": \"\"}}, \"colorscale\": {\"diverging\": [[0, \"#8e0152\"], [0.1, \"#c51b7d\"], [0.2, \"#de77ae\"], [0.3, \"#f1b6da\"], [0.4, \"#fde0ef\"], [0.5, \"#f7f7f7\"], [0.6, \"#e6f5d0\"], [0.7, \"#b8e186\"], [0.8, \"#7fbc41\"], [0.9, \"#4d9221\"], [1, \"#276419\"]], \"sequential\": [[0.0, \"#0d0887\"], [0.1111111111111111, \"#46039f\"], [0.2222222222222222, \"#7201a8\"], [0.3333333333333333, \"#9c179e\"], [0.4444444444444444, \"#bd3786\"], [0.5555555555555556, \"#d8576b\"], [0.6666666666666666, \"#ed7953\"], [0.7777777777777778, \"#fb9f3a\"], [0.8888888888888888, \"#fdca26\"], [1.0, \"#f0f921\"]], \"sequentialminus\": [[0.0, \"#0d0887\"], [0.1111111111111111, \"#46039f\"], [0.2222222222222222, \"#7201a8\"], [0.3333333333333333, \"#9c179e\"], [0.4444444444444444, \"#bd3786\"], [0.5555555555555556, \"#d8576b\"], [0.6666666666666666, \"#ed7953\"], [0.7777777777777778, \"#fb9f3a\"], [0.8888888888888888, \"#fdca26\"], [1.0, \"#f0f921\"]]}, \"colorway\": [\"#636efa\", \"#EF553B\", \"#00cc96\", \"#ab63fa\", \"#FFA15A\", \"#19d3f3\", \"#FF6692\", \"#B6E880\", \"#FF97FF\", \"#FECB52\"], \"font\": {\"color\": \"#2a3f5f\"}, \"geo\": {\"bgcolor\": \"white\", \"lakecolor\": \"white\", \"landcolor\": \"#E5ECF6\", \"showlakes\": true, \"showland\": true, \"subunitcolor\": \"white\"}, \"hoverlabel\": {\"align\": \"left\"}, \"hovermode\": \"closest\", \"mapbox\": {\"style\": \"light\"}, \"paper_bgcolor\": \"white\", \"plot_bgcolor\": \"#E5ECF6\", \"polar\": {\"angularaxis\": {\"gridcolor\": \"white\", \"linecolor\": \"white\", \"ticks\": \"\"}, \"bgcolor\": \"#E5ECF6\", \"radialaxis\": {\"gridcolor\": \"white\", \"linecolor\": \"white\", \"ticks\": \"\"}}, \"scene\": {\"xaxis\": {\"backgroundcolor\": \"#E5ECF6\", \"gridcolor\": \"white\", \"gridwidth\": 2, \"linecolor\": \"white\", \"showbackground\": true, \"ticks\": \"\", \"zerolinecolor\": \"white\"}, \"yaxis\": {\"backgroundcolor\": \"#E5ECF6\", \"gridcolor\": \"white\", \"gridwidth\": 2, \"linecolor\": \"white\", \"showbackground\": true, \"ticks\": \"\", \"zerolinecolor\": \"white\"}, \"zaxis\": {\"backgroundcolor\": \"#E5ECF6\", \"gridcolor\": \"white\", \"gridwidth\": 2, \"linecolor\": \"white\", \"showbackground\": true, \"ticks\": \"\", \"zerolinecolor\": \"white\"}}, \"shapedefaults\": {\"line\": {\"color\": \"#2a3f5f\"}}, \"ternary\": {\"aaxis\": {\"gridcolor\": \"white\", \"linecolor\": \"white\", \"ticks\": \"\"}, \"baxis\": {\"gridcolor\": \"white\", \"linecolor\": \"white\", \"ticks\": \"\"}, \"bgcolor\": \"#E5ECF6\", \"caxis\": {\"gridcolor\": \"white\", \"linecolor\": \"white\", \"ticks\": \"\"}}, \"title\": {\"x\": 0.05}, \"xaxis\": {\"automargin\": true, \"gridcolor\": \"white\", \"linecolor\": \"white\", \"ticks\": \"\", \"title\": {\"standoff\": 15}, \"zerolinecolor\": \"white\", \"zerolinewidth\": 2}, \"yaxis\": {\"automargin\": true, \"gridcolor\": \"white\", \"linecolor\": \"white\", \"ticks\": \"\", \"title\": {\"standoff\": 15}, \"zerolinecolor\": \"white\", \"zerolinewidth\": 2}}}},                        {\"responsive\": true}                    ).then(function(){\n",
              "                            \n",
              "var gd = document.getElementById('f9eb4863-0abe-4c06-9742-9f32dd314ace');\n",
              "var x = new MutationObserver(function (mutations, observer) {{\n",
              "        var display = window.getComputedStyle(gd).display;\n",
              "        if (!display || display === 'none') {{\n",
              "            console.log([gd, 'removed!']);\n",
              "            Plotly.purge(gd);\n",
              "            observer.disconnect();\n",
              "        }}\n",
              "}});\n",
              "\n",
              "// Listen for the removal of the full notebook cells\n",
              "var notebookContainer = gd.closest('#notebook-container');\n",
              "if (notebookContainer) {{\n",
              "    x.observe(notebookContainer, {childList: true});\n",
              "}}\n",
              "\n",
              "// Listen for the clearing of the current output cell\n",
              "var outputEl = gd.closest('.output');\n",
              "if (outputEl) {{\n",
              "    x.observe(outputEl, {childList: true});\n",
              "}}\n",
              "\n",
              "                        })                };                            </script>        </div>\n",
              "</body>\n",
              "</html>"
            ]
          },
          "metadata": {
            "tags": []
          }
        }
      ]
    },
    {
      "cell_type": "markdown",
      "metadata": {
        "id": "TwvHkA3NzQGF"
      },
      "source": [
        "**Hint:** [Build a treemap with Plotly](https://plotly.com/python/treemaps/)\n",
        "\n",
        "\n"
      ]
    },
    {
      "cell_type": "markdown",
      "metadata": {
        "id": "JtPVQJBSZ7-J"
      },
      "source": [
        "### Problem 4 ##"
      ]
    },
    {
      "cell_type": "markdown",
      "metadata": {
        "id": "Ku_dPf7RaC3S"
      },
      "source": [
        "**Dataset:** [Air Quality](https://archive.ics.uci.edu/ml/datasets/Air+Quality)\n",
        "\n",
        "**Introduction:** The dataset contains 9358 instances of hourly averaged responses from an array of 5 metal oxide chemical sensors embedded in an Air Quality Chemical Multisensor Device. The device was located on the field in a significantly polluted area, at road level,within an Italian city. Data were recorded from March 2004 to February 2005 (one year)representing the longest freely available recordings of on field deployed air quality chemical sensor devices responses. Ground Truth hourly averaged concentrations for CO, Non Metanic Hydrocarbons, Benzene, Total Nitrogen Oxides (NOx) and Nitrogen Dioxide (NO2) and were provided by a co-located reference certified analyzer. Evidences of cross-sensitivities as well as both concept and sensor drifts are present as described in De Vito et al., Sens. And Act. B, Vol. 129,2,2008 (citation required) eventually affecting sensors concentration estimation capabilities. Missing values are tagged with -200 value."
      ]
    },
    {
      "cell_type": "code",
      "metadata": {
        "colab": {
          "resources": {
            "http://localhost:8080/nbextensions/google.colab/files.js": {
              "data": "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",
              "ok": true,
              "headers": [
                [
                  "content-type",
                  "application/javascript"
                ]
              ],
              "status": 200,
              "status_text": ""
            }
          },
          "base_uri": "https://localhost:8080/",
          "height": 251
        },
        "id": "82gdxMxEaYTj",
        "outputId": "1d2e4809-5cc1-4fe5-81d7-7703e0655187"
      },
      "source": [
        "#Import required libraries\n",
        "import pandas as pd\n",
        "import scipy.stats as stats\n",
        "from sklearn import preprocessing\n",
        "%matplotlib inline\n",
        "#Load the dataset\n",
        "from google.colab import files\n",
        "file = files.upload()  #upload file into google colab session\n",
        "df = pd.read_excel(\"Air Quality.xlsx\") \n",
        "df.head()"
      ],
      "execution_count": null,
      "outputs": [
        {
          "output_type": "display_data",
          "data": {
            "text/html": [
              "\n",
              "     <input type=\"file\" id=\"files-3f20dd70-19b9-45c1-81b8-dca1f8115ea5\" name=\"files[]\" multiple disabled\n",
              "        style=\"border:none\" />\n",
              "     <output id=\"result-3f20dd70-19b9-45c1-81b8-dca1f8115ea5\">\n",
              "      Upload widget is only available when the cell has been executed in the\n",
              "      current browser session. Please rerun this cell to enable.\n",
              "      </output>\n",
              "      <script src=\"/nbextensions/google.colab/files.js\"></script> "
            ],
            "text/plain": [
              "<IPython.core.display.HTML object>"
            ]
          },
          "metadata": {
            "tags": []
          }
        },
        {
          "output_type": "stream",
          "text": [
            "Saving Air Quality.xlsx to Air Quality (1).xlsx\n"
          ],
          "name": "stdout"
        },
        {
          "output_type": "execute_result",
          "data": {
            "text/html": [
              "<div>\n",
              "<style scoped>\n",
              "    .dataframe tbody tr th:only-of-type {\n",
              "        vertical-align: middle;\n",
              "    }\n",
              "\n",
              "    .dataframe tbody tr th {\n",
              "        vertical-align: top;\n",
              "    }\n",
              "\n",
              "    .dataframe thead th {\n",
              "        text-align: right;\n",
              "    }\n",
              "</style>\n",
              "<table border=\"1\" class=\"dataframe\">\n",
              "  <thead>\n",
              "    <tr style=\"text-align: right;\">\n",
              "      <th></th>\n",
              "      <th>Date</th>\n",
              "      <th>Time</th>\n",
              "      <th>CO(GT)</th>\n",
              "      <th>PT08.S1(CO)</th>\n",
              "      <th>NMHC(GT)</th>\n",
              "      <th>C6H6(GT)</th>\n",
              "      <th>PT08.S2(NMHC)</th>\n",
              "      <th>NOx(GT)</th>\n",
              "      <th>PT08.S3(NOx)</th>\n",
              "      <th>NO2(GT)</th>\n",
              "      <th>PT08.S4(NO2)</th>\n",
              "      <th>PT08.S5(O3)</th>\n",
              "      <th>T</th>\n",
              "      <th>RH</th>\n",
              "      <th>AH</th>\n",
              "    </tr>\n",
              "  </thead>\n",
              "  <tbody>\n",
              "    <tr>\n",
              "      <th>0</th>\n",
              "      <td>2004-03-10</td>\n",
              "      <td>18:00:00</td>\n",
              "      <td>2.6</td>\n",
              "      <td>1360.00</td>\n",
              "      <td>150</td>\n",
              "      <td>11.881723</td>\n",
              "      <td>1045.50</td>\n",
              "      <td>166.0</td>\n",
              "      <td>1056.25</td>\n",
              "      <td>113.0</td>\n",
              "      <td>1692.00</td>\n",
              "      <td>1267.50</td>\n",
              "      <td>13.60</td>\n",
              "      <td>48.875001</td>\n",
              "      <td>0.757754</td>\n",
              "    </tr>\n",
              "    <tr>\n",
              "      <th>1</th>\n",
              "      <td>2004-03-10</td>\n",
              "      <td>19:00:00</td>\n",
              "      <td>2.0</td>\n",
              "      <td>1292.25</td>\n",
              "      <td>112</td>\n",
              "      <td>9.397165</td>\n",
              "      <td>954.75</td>\n",
              "      <td>103.0</td>\n",
              "      <td>1173.75</td>\n",
              "      <td>92.0</td>\n",
              "      <td>1558.75</td>\n",
              "      <td>972.25</td>\n",
              "      <td>13.30</td>\n",
              "      <td>47.700000</td>\n",
              "      <td>0.725487</td>\n",
              "    </tr>\n",
              "    <tr>\n",
              "      <th>2</th>\n",
              "      <td>2004-03-10</td>\n",
              "      <td>20:00:00</td>\n",
              "      <td>2.2</td>\n",
              "      <td>1402.00</td>\n",
              "      <td>88</td>\n",
              "      <td>8.997817</td>\n",
              "      <td>939.25</td>\n",
              "      <td>131.0</td>\n",
              "      <td>1140.00</td>\n",
              "      <td>114.0</td>\n",
              "      <td>1554.50</td>\n",
              "      <td>1074.00</td>\n",
              "      <td>11.90</td>\n",
              "      <td>53.975000</td>\n",
              "      <td>0.750239</td>\n",
              "    </tr>\n",
              "    <tr>\n",
              "      <th>3</th>\n",
              "      <td>2004-03-10</td>\n",
              "      <td>21:00:00</td>\n",
              "      <td>2.2</td>\n",
              "      <td>1375.50</td>\n",
              "      <td>80</td>\n",
              "      <td>9.228796</td>\n",
              "      <td>948.25</td>\n",
              "      <td>172.0</td>\n",
              "      <td>1092.00</td>\n",
              "      <td>122.0</td>\n",
              "      <td>1583.75</td>\n",
              "      <td>1203.25</td>\n",
              "      <td>11.00</td>\n",
              "      <td>60.000000</td>\n",
              "      <td>0.786713</td>\n",
              "    </tr>\n",
              "    <tr>\n",
              "      <th>4</th>\n",
              "      <td>2004-03-10</td>\n",
              "      <td>22:00:00</td>\n",
              "      <td>1.6</td>\n",
              "      <td>1272.25</td>\n",
              "      <td>51</td>\n",
              "      <td>6.518224</td>\n",
              "      <td>835.50</td>\n",
              "      <td>131.0</td>\n",
              "      <td>1205.00</td>\n",
              "      <td>116.0</td>\n",
              "      <td>1490.00</td>\n",
              "      <td>1110.00</td>\n",
              "      <td>11.15</td>\n",
              "      <td>59.575001</td>\n",
              "      <td>0.788794</td>\n",
              "    </tr>\n",
              "  </tbody>\n",
              "</table>\n",
              "</div>"
            ],
            "text/plain": [
              "        Date      Time  CO(GT)  ...      T         RH        AH\n",
              "0 2004-03-10  18:00:00     2.6  ...  13.60  48.875001  0.757754\n",
              "1 2004-03-10  19:00:00     2.0  ...  13.30  47.700000  0.725487\n",
              "2 2004-03-10  20:00:00     2.2  ...  11.90  53.975000  0.750239\n",
              "3 2004-03-10  21:00:00     2.2  ...  11.00  60.000000  0.786713\n",
              "4 2004-03-10  22:00:00     1.6  ...  11.15  59.575001  0.788794\n",
              "\n",
              "[5 rows x 15 columns]"
            ]
          },
          "metadata": {
            "tags": []
          },
          "execution_count": 2
        }
      ]
    },
    {
      "cell_type": "code",
      "metadata": {
        "colab": {
          "base_uri": "https://localhost:8080/",
          "height": 338
        },
        "id": "TjFHsthNYSlD",
        "outputId": "341aea44-ad1c-4888-8f8a-a636eea09841"
      },
      "source": [
        "import seaborn as sns\n",
        "df=df.corr(method ='kendall')\n",
        "fig=sns.heatmap(df)"
      ],
      "execution_count": null,
      "outputs": [
        {
          "output_type": "display_data",
          "data": {
            "image/png": "[encoded data removed]",
            "text/plain": [
              "<Figure size 432x288 with 2 Axes>"
            ]
          },
          "metadata": {
            "tags": [],
            "needs_background": "light"
          }
        }
      ]
    },
    {
      "cell_type": "code",
      "metadata": {
        "id": "PgwhAerJbDd1",
        "colab": {
          "base_uri": "https://localhost:8080/",
          "height": 681
        },
        "outputId": "22424835-2c5b-45a1-f158-c310d01bc963"
      },
      "source": [
        "#TODO:\n",
        "#Plot a correlation heatmap for the Air Quality dataset\n",
        "#Interpret your key findings from the correlation heatmap\n",
        "import seaborn as sns\n",
        "import matplotlib.pyplot as plt\n",
        "plt.figure(figsize=(10, 10))\n",
        "sns.heatmap(df.corr(), vmin=-1, vmax=1, center= 0, cmap= 'coolwarm', annot = True)\n",
        "# There is a positive correlation between (CO, NO2), (PT08S1, P208S5), (AH, T) and other variables.\n",
        "# PT08.S3(NOx) has an inverse correlation with a lot of other gases\n",
        "#PT08 S1(CO) has a positive correlation with a ceratin set of gases and strong inverse correlation with PT08.S3(NOx)"
      ],
      "execution_count": null,
      "outputs": [
        {
          "output_type": "execute_result",
          "data": {
            "text/plain": [
              "<matplotlib.axes._subplots.AxesSubplot at 0x7f773dfeb7b8>"
            ]
          },
          "metadata": {
            "tags": []
          },
          "execution_count": 9
        },
        {
          "output_type": "display_data",
          "data": {
            "image/png": "[encoded data removed]",
            "text/plain": [
              "<Figure size 720x720 with 2 Axes>"
            ]
          },
          "metadata": {
            "tags": [],
            "needs_background": "light"
          }
        }
      ]
    },
    {
      "cell_type": "markdown",
      "metadata": {
        "id": "g_vTHqfWsb_c"
      },
      "source": [
        "**Hint:** [Build a heatmap with Seaborn](https://seaborn.pydata.org/generated/seaborn.heatmap.html)"
      ]
    },
    {
      "cell_type": "markdown",
      "metadata": {
        "id": "2CDOvSoMRNkW"
      },
      "source": [
        "## Part 2: Dimension Reduction"
      ]
    },
    {
      "cell_type": "markdown",
      "metadata": {
        "id": "zCM8VJN3RX1Y"
      },
      "source": [
        "### Problem 5"
      ]
    },
    {
      "cell_type": "markdown",
      "metadata": {
        "id": "rFlKwkEA6bi2"
      },
      "source": [
        "**Dataset:** [Wine Classification Dataset](https://archive.ics.uci.edu/ml/datasets/wine)\n",
        "\n",
        "**Introduction:** These data are the results of a chemical analysis of wines grown in the same region in Italy but derived from three different cultivars. The analysis determined the quantities of 13 constituents found in each of the three types of wines.\n"
      ]
    },
    {
      "cell_type": "code",
      "metadata": {
        "colab": {
          "base_uri": "https://localhost:8080/",
          "height": 215
        },
        "id": "JMW5Rn3l7W2Z",
        "outputId": "5a6a4b63-5270-4505-c42c-b5a70a3bc0a2"
      },
      "source": [
        "#Import the built-in dataset (Wine recognition) for this problem\n",
        "from sklearn.decomposition import PCA\n",
        "from sklearn.datasets import load_wine\n",
        "import numpy as np\n",
        "import pandas as pd\n",
        "import matplotlib.pyplot as plt\n",
        "np.set_printoptions(suppress=True, precision=8)\n",
        "wine = load_wine()\n",
        "X = pd.DataFrame(wine['data'], columns=wine['feature_names'])\n",
        "y = wine['target']\n",
        "X.head()"
      ],
      "execution_count": null,
      "outputs": [
        {
          "output_type": "execute_result",
          "data": {
            "text/html": [
              "<div>\n",
              "<style scoped>\n",
              "    .dataframe tbody tr th:only-of-type {\n",
              "        vertical-align: middle;\n",
              "    }\n",
              "\n",
              "    .dataframe tbody tr th {\n",
              "        vertical-align: top;\n",
              "    }\n",
              "\n",
              "    .dataframe thead th {\n",
              "        text-align: right;\n",
              "    }\n",
              "</style>\n",
              "<table border=\"1\" class=\"dataframe\">\n",
              "  <thead>\n",
              "    <tr style=\"text-align: right;\">\n",
              "      <th></th>\n",
              "      <th>alcohol</th>\n",
              "      <th>malic_acid</th>\n",
              "      <th>ash</th>\n",
              "      <th>alcalinity_of_ash</th>\n",
              "      <th>magnesium</th>\n",
              "      <th>total_phenols</th>\n",
              "      <th>flavanoids</th>\n",
              "      <th>nonflavanoid_phenols</th>\n",
              "      <th>proanthocyanins</th>\n",
              "      <th>color_intensity</th>\n",
              "      <th>hue</th>\n",
              "      <th>od280/od315_of_diluted_wines</th>\n",
              "      <th>proline</th>\n",
              "    </tr>\n",
              "  </thead>\n",
              "  <tbody>\n",
              "    <tr>\n",
              "      <th>0</th>\n",
              "      <td>14.23</td>\n",
              "      <td>1.71</td>\n",
              "      <td>2.43</td>\n",
              "      <td>15.6</td>\n",
              "      <td>127.0</td>\n",
              "      <td>2.80</td>\n",
              "      <td>3.06</td>\n",
              "      <td>0.28</td>\n",
              "      <td>2.29</td>\n",
              "      <td>5.64</td>\n",
              "      <td>1.04</td>\n",
              "      <td>3.92</td>\n",
              "      <td>1065.0</td>\n",
              "    </tr>\n",
              "    <tr>\n",
              "      <th>1</th>\n",
              "      <td>13.20</td>\n",
              "      <td>1.78</td>\n",
              "      <td>2.14</td>\n",
              "      <td>11.2</td>\n",
              "      <td>100.0</td>\n",
              "      <td>2.65</td>\n",
              "      <td>2.76</td>\n",
              "      <td>0.26</td>\n",
              "      <td>1.28</td>\n",
              "      <td>4.38</td>\n",
              "      <td>1.05</td>\n",
              "      <td>3.40</td>\n",
              "      <td>1050.0</td>\n",
              "    </tr>\n",
              "    <tr>\n",
              "      <th>2</th>\n",
              "      <td>13.16</td>\n",
              "      <td>2.36</td>\n",
              "      <td>2.67</td>\n",
              "      <td>18.6</td>\n",
              "      <td>101.0</td>\n",
              "      <td>2.80</td>\n",
              "      <td>3.24</td>\n",
              "      <td>0.30</td>\n",
              "      <td>2.81</td>\n",
              "      <td>5.68</td>\n",
              "      <td>1.03</td>\n",
              "      <td>3.17</td>\n",
              "      <td>1185.0</td>\n",
              "    </tr>\n",
              "    <tr>\n",
              "      <th>3</th>\n",
              "      <td>14.37</td>\n",
              "      <td>1.95</td>\n",
              "      <td>2.50</td>\n",
              "      <td>16.8</td>\n",
              "      <td>113.0</td>\n",
              "      <td>3.85</td>\n",
              "      <td>3.49</td>\n",
              "      <td>0.24</td>\n",
              "      <td>2.18</td>\n",
              "      <td>7.80</td>\n",
              "      <td>0.86</td>\n",
              "      <td>3.45</td>\n",
              "      <td>1480.0</td>\n",
              "    </tr>\n",
              "    <tr>\n",
              "      <th>4</th>\n",
              "      <td>13.24</td>\n",
              "      <td>2.59</td>\n",
              "      <td>2.87</td>\n",
              "      <td>21.0</td>\n",
              "      <td>118.0</td>\n",
              "      <td>2.80</td>\n",
              "      <td>2.69</td>\n",
              "      <td>0.39</td>\n",
              "      <td>1.82</td>\n",
              "      <td>4.32</td>\n",
              "      <td>1.04</td>\n",
              "      <td>2.93</td>\n",
              "      <td>735.0</td>\n",
              "    </tr>\n",
              "  </tbody>\n",
              "</table>\n",
              "</div>"
            ],
            "text/plain": [
              "   alcohol  malic_acid   ash  ...   hue  od280/od315_of_diluted_wines  proline\n",
              "0    14.23        1.71  2.43  ...  1.04                          3.92   1065.0\n",
              "1    13.20        1.78  2.14  ...  1.05                          3.40   1050.0\n",
              "2    13.16        2.36  2.67  ...  1.03                          3.17   1185.0\n",
              "3    14.37        1.95  2.50  ...  0.86                          3.45   1480.0\n",
              "4    13.24        2.59  2.87  ...  1.04                          2.93    735.0\n",
              "\n",
              "[5 rows x 13 columns]"
            ]
          },
          "metadata": {
            "tags": []
          },
          "execution_count": 55
        }
      ]
    },
    {
      "cell_type": "code",
      "metadata": {
        "id": "B8togXIu7ee7",
        "colab": {
          "base_uri": "https://localhost:8080/"
        },
        "outputId": "fb479029-24e2-4be3-e6d9-31b115fb2222"
      },
      "source": [
        "#TODO:\n",
        "#Compute the first two principal component scores with eigen values and vectors\n",
        "mean_vec = np.mean(X, axis=0)\n",
        "cov_mat = (X - mean_vec).T.dot((X - mean_vec)) / (X.shape[0]-1)\n",
        "cov_mat = np.cov(X.T)\n",
        "eig_vals, eig_vecs = np.linalg.eig(cov_mat)\n",
        "eig_pairs = [(np.abs(eig_vals[i]), eig_vecs[:,i]) for i in range(len(eig_vals))]\n",
        "print('First 2 eigen pairs in descending order:')\n",
        "for i in range(0,2):\n",
        "    print(eig_pairs[i])"
      ],
      "execution_count": null,
      "outputs": [
        {
          "output_type": "stream",
          "text": [
            "First 2 eigen pairs in descending order:\n",
            "(99201.78951748088, array([-0.00165926,  0.00068102, -0.00019491,  0.0046713 , -0.01786801,\n",
            "       -0.00098983, -0.00156729,  0.00012309, -0.00060061, -0.00232714,\n",
            "       -0.00017138, -0.00070493, -0.99982294]))\n",
            "(172.5352664778914, array([-0.00120341, -0.00215498, -0.00459369, -0.02645039, -0.99934419,\n",
            "       -0.00087796,  0.00005185,  0.00135448, -0.0050044 , -0.01510035,\n",
            "        0.00076267,  0.00349536,  0.01777381]))\n"
          ],
          "name": "stdout"
        }
      ]
    },
    {
      "cell_type": "code",
      "metadata": {
        "id": "jeEzLFP-Cmn1",
        "colab": {
          "base_uri": "https://localhost:8080/"
        },
        "outputId": "b5f597cc-052b-42f6-941d-006bbb778623"
      },
      "source": [
        "#TODO:\n",
        "#Use PCA() on the RAW data to calculate the priciple components\n",
        "#For each principle component, what is the explained variance, proportion variance, and cummulative proportion of variance?\n",
        "#Show the first two principal component scores\n",
        "pca=PCA()\n",
        "pca.fit(X)\n",
        "pca_data=pca.transform(X)\n",
        "per_var = np.round(pca.explained_variance_ratio_* 100, decimals=1)\n",
        "print('explained variance:', pca.explained_variance_, '\\nProportion of variation:', pca.explained_variance_ratio_, '\\nStandard Deviation:',  np.sqrt(pca.explained_variance_),\n",
        "     '\\nCumulative Proportion of variation:', np.cumsum(pca.explained_variance_ratio_))\n",
        "component_scores = pd.Series(pca.components_[0])\n",
        "sorted_scores = component_scores.abs().sort_values(ascending=False)\n",
        "top_2_scores = sorted_scores[0:2].index.values\n",
        "print('First 2 scores:\\n', component_scores[top_2_scores])\n",
        "#Almost 99.80% of the variance is covered in the 1st component and\n",
        "#0.17% of the variance is covered in the 2nd component."
      ],
      "execution_count": null,
      "outputs": [
        {
          "output_type": "stream",
          "text": [
            "explained variance: [99201.78951748   172.53526648     9.4381137      4.99117861\n",
            "     1.22884523     0.84106387     0.27897352     0.15138127\n",
            "     0.11209676     0.0717026      0.03757598     0.02107237\n",
            "     0.0082037 ] \n",
            "Proportion of variation: [0.99809123 0.00173592 0.00009496 0.00005022 0.00001236 0.00000846\n",
            " 0.00000281 0.00000152 0.00000113 0.00000072 0.00000038 0.00000021\n",
            " 0.00000008] \n",
            "Standard Deviation: [314.96315581  13.13526804   3.07215132   2.23409458   1.10853292\n",
            "   0.91709534   0.52817944   0.38907746   0.33480855   0.26777342\n",
            "   0.19384524   0.14516324   0.0905743 ] \n",
            "Cumulative Proportion of variation: [0.99809123 0.99982715 0.99992211 0.99997232 0.99998469 0.99999315\n",
            " 0.99999596 0.99999748 0.99999861 0.99999933 0.99999971 0.99999992\n",
            " 1.        ]\n",
            "First 2 scores:\n",
            " 12    0.999823\n",
            "4     0.017868\n",
            "dtype: float64\n"
          ],
          "name": "stdout"
        }
      ]
    },
    {
      "cell_type": "code",
      "metadata": {
        "id": "jBPgh_C3Ai2z",
        "colab": {
          "base_uri": "https://localhost:8080/"
        },
        "outputId": "6f5ab65f-a27d-4e49-e190-9651c91df2fb"
      },
      "source": [
        "#TODO:\n",
        "#Use PCA() on the STANDARDIZED data to calculate the priciple components\n",
        "#For each principle component, what is the explained variance, proportion variance, and cummulative proportion of variance?\n",
        "#Show the first two principal component scores\n",
        "from sklearn import preprocessing\n",
        "from sklearn.preprocessing import StandardScaler\n",
        "scaled_data = preprocessing.scale(X)\n",
        "pca=PCA(n_components=2)\n",
        "pca.fit(scaled_data)\n",
        "pca_data=pca.transform(scaled_data)\n",
        "print('explained variance:', pca.explained_variance_, '\\nProportion of variation:', pca.explained_variance_ratio_, '\\nStandard Deviation:',  np.sqrt(pca.explained_variance_),\n",
        "     '\\nCumulative Proportion of variation:', np.cumsum(pca.explained_variance_ratio_))\n",
        "component_scores = pd.Series(pca.components_[0])\n",
        "sorted_scores = component_scores.abs().sort_values(ascending=False)\n",
        "top_2_scores = sorted_scores[0:2].index.values\n",
        "print('First 2 scores:\\n', component_scores[top_2_scores])\n",
        "#  Almost 36% of the variance is covered in the 1st component and\n",
        "#  19% of the variance is covered in the 2nd component."
      ],
      "execution_count": null,
      "outputs": [
        {
          "output_type": "stream",
          "text": [
            "explained variance: [4.73243698 2.51108093] \n",
            "Proportion of variation: [0.36198848 0.1920749 ] \n",
            "Standard Deviation: [2.17541651 1.58463905] \n",
            "Cumulative Proportion of variation: [0.36198848 0.55406338]\n",
            "First 2 scores:\n",
            " 6    0.422934\n",
            "5    0.394661\n",
            "dtype: float64\n"
          ],
          "name": "stdout"
        }
      ]
    },
    {
      "cell_type": "code",
      "metadata": {
        "id": "PEbH_BXH48KE"
      },
      "source": [
        "#TODO:\n",
        "#Explain why it is important to normalize numerical variables before PCA\n",
        "#Back up your reasons with the PCA results above\n",
        "# If we dont normalize the data, variables with larger values will tend to dominate variables with lesser values. PCA analysis will be imbalanced.\n",
        "# In the first case, most of the variation was captured in Proline and Magnesium since they have larger values compared to the rest.\n",
        "# After scaling the data, all the values are centered to a mean of 0 and standard dev of 1. Hence, there is no dominition\n",
        "# Flavanoids capture most of the variation."
      ],
      "execution_count": null,
      "outputs": []
    },
    {
      "cell_type": "code",
      "metadata": {
        "id": "N1i6E5Wk63x4",
        "colab": {
          "base_uri": "https://localhost:8080/",
          "height": 432
        },
        "outputId": "a7ee0fc6-286a-48a5-f5d7-fb82315edb41"
      },
      "source": [
        "#TODO:\n",
        "#Plot the records on a 2D plane defined by the first two PCs calculated with standardized data\n",
        "#Use color to differentiate the classes of wine (variable name \"target\")\n",
        "#Interpret the plot\n",
        "x = StandardScaler().fit_transform(X)\n",
        "y = pd.DataFrame(y, columns=['target'])\n",
        "pca = PCA(n_components=2)\n",
        "principal_components = pca.fit_transform(x)\n",
        "pc_data = pd.DataFrame(data = principal_components\n",
        "             , columns = ['principal component 1', 'principal component 2'])\n",
        "y[['target']].head()\n",
        "finalDf = pd.concat([pc_data, y], axis = 1)\n",
        "fig = plt.figure(figsize = (6,6))\n",
        "ax = fig.add_subplot(1,1,1) \n",
        "ax.set_xlabel('Principal Component 1', fontsize = 12)\n",
        "ax.set_ylabel('Principal Component 2', fontsize = 12\n",
        "              )\n",
        "ax.set_title('2 Component PCA', fontsize = 20)\n",
        "targets = [0,1,2]\n",
        "colors = ['r', 'g', 'b']\n",
        "for target, color in zip(targets,colors):\n",
        "    indicesToKeep = finalDf['target'] == target\n",
        "    ax.scatter(finalDf.loc[indicesToKeep, 'principal component 1']\n",
        "               , finalDf.loc[indicesToKeep, 'principal component 2']\n",
        "               , c = color\n",
        "               , s = 50)\n",
        "ax.legend(targets)\n",
        "# Using PCA, we can capture most of the variation into 2 components. Just with these 2 components, we can cluster the data into 3 clusters and observe outliers and patterns "
      ],
      "execution_count": null,
      "outputs": [
        {
          "output_type": "execute_result",
          "data": {
            "text/plain": [
              "<matplotlib.legend.Legend at 0x7fdf0e99a668>"
            ]
          },
          "metadata": {
            "tags": []
          },
          "execution_count": 59
        },
        {
          "output_type": "display_data",
          "data": {
            "image/png": "[encoded data removed]",
            "text/plain": [
              "<Figure size 432x432 with 1 Axes>"
            ]
          },
          "metadata": {
            "tags": []
          }
        }
      ]
    },
    {
      "cell_type": "markdown",
      "metadata": {
        "id": "Gw1PjQNxRvns"
      },
      "source": [
        "### Problem 6"
      ]
    },
    {
      "cell_type": "markdown",
      "metadata": {
        "id": "BIKceWH7ia53"
      },
      "source": [
        "**Dataset:** Life Expectancy\n",
        "\n",
        "**Introduction:** The above dataset gives life expectancy related data for 37 countries in2014. \n",
        "\n",
        "Consider only the following variables in your analysis: 'GDP', 'Income composition of resources', 'Schooling', and 'Total expenditure'."
      ]
    },
    {
      "cell_type": "code",
      "metadata": {
        "colab": {
          "resources": {
            "http://localhost:8080/nbextensions/google.colab/files.js": {
              "data": "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",
              "ok": true,
              "headers": [
                [
                  "content-type",
                  "application/javascript"
                ]
              ],
              "status": 200,
              "status_text": ""
            }
          },
          "base_uri": "https://localhost:8080/",
          "height": 322
        },
        "id": "0v1OKWoZ7sLm",
        "outputId": "9a590a01-470f-4fa3-a01b-a6bfe947122d"
      },
      "source": [
        "#Import useful package\n",
        "from sklearn.manifold import MDS\n",
        "#Load the dataset\n",
        "from google.colab import files\n",
        "file = files.upload()  #upload file into google colab session\n",
        "df = pd.read_csv(\"Life Expectancy.csv\") \n",
        "df.head()\n"
      ],
      "execution_count": null,
      "outputs": [
        {
          "output_type": "display_data",
          "data": {
            "text/html": [
              "\n",
              "     <input type=\"file\" id=\"files-2d1fb557-944e-4591-a1e1-c270ff02a070\" name=\"files[]\" multiple disabled\n",
              "        style=\"border:none\" />\n",
              "     <output id=\"result-2d1fb557-944e-4591-a1e1-c270ff02a070\">\n",
              "      Upload widget is only available when the cell has been executed in the\n",
              "      current browser session. Please rerun this cell to enable.\n",
              "      </output>\n",
              "      <script src=\"/nbextensions/google.colab/files.js\"></script> "
            ],
            "text/plain": [
              "<IPython.core.display.HTML object>"
            ]
          },
          "metadata": {
            "tags": []
          }
        },
        {
          "output_type": "stream",
          "text": [
            "Saving Life Expectancy.csv to Life Expectancy (1).csv\n"
          ],
          "name": "stdout"
        },
        {
          "output_type": "execute_result",
          "data": {
            "text/html": [
              "<div>\n",
              "<style scoped>\n",
              "    .dataframe tbody tr th:only-of-type {\n",
              "        vertical-align: middle;\n",
              "    }\n",
              "\n",
              "    .dataframe tbody tr th {\n",
              "        vertical-align: top;\n",
              "    }\n",
              "\n",
              "    .dataframe thead th {\n",
              "        text-align: right;\n",
              "    }\n",
              "</style>\n",
              "<table border=\"1\" class=\"dataframe\">\n",
              "  <thead>\n",
              "    <tr style=\"text-align: right;\">\n",
              "      <th></th>\n",
              "      <th>Country</th>\n",
              "      <th>Year</th>\n",
              "      <th>Status</th>\n",
              "      <th>Life expectancy</th>\n",
              "      <th>Adult Mortality</th>\n",
              "      <th>infant deaths</th>\n",
              "      <th>Alcohol</th>\n",
              "      <th>percentage expenditure</th>\n",
              "      <th>Hepatitis B</th>\n",
              "      <th>Measles</th>\n",
              "      <th>BMI</th>\n",
              "      <th>under-five deaths</th>\n",
              "      <th>Polio</th>\n",
              "      <th>Total expenditure</th>\n",
              "      <th>Diphtheria</th>\n",
              "      <th>HIV/AIDS</th>\n",
              "      <th>GDP</th>\n",
              "      <th>Population</th>\n",
              "      <th>thinness  1-19 years</th>\n",
              "      <th>thinness 5-9 years</th>\n",
              "      <th>Income composition of resources</th>\n",
              "      <th>Schooling</th>\n",
              "    </tr>\n",
              "  </thead>\n",
              "  <tbody>\n",
              "    <tr>\n",
              "      <th>0</th>\n",
              "      <td>Afghanistan</td>\n",
              "      <td>2014</td>\n",
              "      <td>Developing</td>\n",
              "      <td>59.9</td>\n",
              "      <td>271</td>\n",
              "      <td>64</td>\n",
              "      <td>0.01</td>\n",
              "      <td>73.523582</td>\n",
              "      <td>62.0</td>\n",
              "      <td>492</td>\n",
              "      <td>18.6</td>\n",
              "      <td>86</td>\n",
              "      <td>58</td>\n",
              "      <td>8.18</td>\n",
              "      <td>62</td>\n",
              "      <td>0.1</td>\n",
              "      <td>612.696514</td>\n",
              "      <td>327582.0</td>\n",
              "      <td>17.5</td>\n",
              "      <td>17.5</td>\n",
              "      <td>0.476</td>\n",
              "      <td>10.0</td>\n",
              "    </tr>\n",
              "    <tr>\n",
              "      <th>1</th>\n",
              "      <td>Australia</td>\n",
              "      <td>2014</td>\n",
              "      <td>Developed</td>\n",
              "      <td>82.7</td>\n",
              "      <td>6</td>\n",
              "      <td>1</td>\n",
              "      <td>9.71</td>\n",
              "      <td>10769.363050</td>\n",
              "      <td>91.0</td>\n",
              "      <td>340</td>\n",
              "      <td>66.1</td>\n",
              "      <td>1</td>\n",
              "      <td>92</td>\n",
              "      <td>9.42</td>\n",
              "      <td>92</td>\n",
              "      <td>0.1</td>\n",
              "      <td>62214.691200</td>\n",
              "      <td>2346694.0</td>\n",
              "      <td>0.6</td>\n",
              "      <td>0.6</td>\n",
              "      <td>0.936</td>\n",
              "      <td>20.4</td>\n",
              "    </tr>\n",
              "    <tr>\n",
              "      <th>2</th>\n",
              "      <td>Austria</td>\n",
              "      <td>2014</td>\n",
              "      <td>Developed</td>\n",
              "      <td>81.4</td>\n",
              "      <td>66</td>\n",
              "      <td>0</td>\n",
              "      <td>12.32</td>\n",
              "      <td>8350.193523</td>\n",
              "      <td>98.0</td>\n",
              "      <td>117</td>\n",
              "      <td>57.1</td>\n",
              "      <td>0</td>\n",
              "      <td>98</td>\n",
              "      <td>11.21</td>\n",
              "      <td>98</td>\n",
              "      <td>0.1</td>\n",
              "      <td>51322.639970</td>\n",
              "      <td>8541575.0</td>\n",
              "      <td>1.8</td>\n",
              "      <td>2.0</td>\n",
              "      <td>0.892</td>\n",
              "      <td>15.9</td>\n",
              "    </tr>\n",
              "    <tr>\n",
              "      <th>3</th>\n",
              "      <td>Bangladesh</td>\n",
              "      <td>2014</td>\n",
              "      <td>Developing</td>\n",
              "      <td>71.4</td>\n",
              "      <td>132</td>\n",
              "      <td>98</td>\n",
              "      <td>0.01</td>\n",
              "      <td>10.446403</td>\n",
              "      <td>97.0</td>\n",
              "      <td>289</td>\n",
              "      <td>17.7</td>\n",
              "      <td>121</td>\n",
              "      <td>97</td>\n",
              "      <td>2.82</td>\n",
              "      <td>97</td>\n",
              "      <td>0.1</td>\n",
              "      <td>184.565430</td>\n",
              "      <td>15945279.0</td>\n",
              "      <td>18.1</td>\n",
              "      <td>18.6</td>\n",
              "      <td>0.570</td>\n",
              "      <td>10.0</td>\n",
              "    </tr>\n",
              "    <tr>\n",
              "      <th>4</th>\n",
              "      <td>Belgium</td>\n",
              "      <td>2014</td>\n",
              "      <td>Developed</td>\n",
              "      <td>89.0</td>\n",
              "      <td>76</td>\n",
              "      <td>0</td>\n",
              "      <td>12.60</td>\n",
              "      <td>7163.348923</td>\n",
              "      <td>98.0</td>\n",
              "      <td>70</td>\n",
              "      <td>63.4</td>\n",
              "      <td>1</td>\n",
              "      <td>99</td>\n",
              "      <td>1.59</td>\n",
              "      <td>99</td>\n",
              "      <td>0.1</td>\n",
              "      <td>47439.396840</td>\n",
              "      <td>112957.0</td>\n",
              "      <td>1.0</td>\n",
              "      <td>1.0</td>\n",
              "      <td>0.890</td>\n",
              "      <td>16.3</td>\n",
              "    </tr>\n",
              "  </tbody>\n",
              "</table>\n",
              "</div>"
            ],
            "text/plain": [
              "       Country  Year  ... Income composition of resources  Schooling\n",
              "0  Afghanistan  2014  ...                           0.476       10.0\n",
              "1    Australia  2014  ...                           0.936       20.4\n",
              "2      Austria  2014  ...                           0.892       15.9\n",
              "3   Bangladesh  2014  ...                           0.570       10.0\n",
              "4      Belgium  2014  ...                           0.890       16.3\n",
              "\n",
              "[5 rows x 22 columns]"
            ]
          },
          "metadata": {
            "tags": []
          },
          "execution_count": 18
        }
      ]
    },
    {
      "cell_type": "code",
      "metadata": {
        "id": "qWe1UPyHjZar",
        "colab": {
          "base_uri": "https://localhost:8080/",
          "height": 429
        },
        "outputId": "3862b707-0943-441a-a83b-bad8482b82e7"
      },
      "source": [
        "#TODO\n",
        "#Run MDS() (Multi Dimensional Scaling) on the selected data frame\n",
        "#Plot data points on a 2D plane defined by the first two components\n",
        "#Use color to differentiate the statues of each country\n",
        "#Use text label to specify the country name for each point\n",
        "#Comment your findings from the graph\n",
        "from sklearn import preprocessing\n",
        "from sklearn.preprocessing import StandardScaler\n",
        "import numpy as np\n",
        "import pandas as pd\n",
        "import matplotlib.pyplot as plt\n",
        "from sklearn.preprocessing import MinMaxScaler \n",
        "# Considering 'GDP', 'Income composition of resources', 'Schooling', and 'Total expenditure'.\n",
        "Y=df[['Status']]\n",
        "X = df[['GDP', 'Income composition of resources', 'Schooling', 'Total expenditure']]\n",
        "scaler = MinMaxScaler()\n",
        "X_scaled = scaler.fit_transform(X)\n",
        "mds = MDS(2, random_state=5)\n",
        "X_data = mds.fit_transform(X_scaled)\n",
        "m_data= pd.DataFrame(data=X_data, columns= ['comp1','comp2'])\n",
        "finalDf = pd.concat([m_data, Y], axis = 1)\n",
        "fig = plt.figure(figsize = (6,6))\n",
        "ax = fig.add_subplot(1,1,1) \n",
        "ax.set_xlabel('Component 1', fontsize = 12)\n",
        "ax.set_ylabel('Component 2', fontsize = 12)\n",
        "ax.set_title('MDA', fontsize = 20)\n",
        "Status = ['Developing','Developed']\n",
        "colors = ['r', 'g']\n",
        "for status, color in zip(Status,colors):\n",
        "    indicesToKeep = finalDf['Status'] == status\n",
        "    ax.scatter(finalDf.loc[indicesToKeep, 'comp1']\n",
        "               , finalDf.loc[indicesToKeep, 'comp2']\n",
        "               , c = color\n",
        "               , s = 50)\n",
        "ax.legend(Status)\n"
      ],
      "execution_count": null,
      "outputs": [
        {
          "output_type": "execute_result",
          "data": {
            "text/plain": [
              "<matplotlib.legend.Legend at 0x7f7726a0e550>"
            ]
          },
          "metadata": {
            "tags": []
          },
          "execution_count": 33
        },
        {
          "output_type": "display_data",
          "data": {
            "image/png": "[encoded data removed]",
            "text/plain": [
              "<Figure size 432x432 with 1 Axes>"
            ]
          },
          "metadata": {
            "tags": [],
            "needs_background": "light"
          }
        }
      ]
    },
    {
      "cell_type": "code",
      "metadata": {
        "colab": {
          "base_uri": "https://localhost:8080/",
          "height": 1000
        },
        "id": "B27me6iWkjKN",
        "outputId": "2b9ebe4d-216c-4b77-c08c-fa14620d5a7e"
      },
      "source": [
        ""
      ],
      "execution_count": null,
      "outputs": [
        {
          "output_type": "execute_result",
          "data": {
            "text/html": [
              "<div>\n",
              "<style scoped>\n",
              "    .dataframe tbody tr th:only-of-type {\n",
              "        vertical-align: middle;\n",
              "    }\n",
              "\n",
              "    .dataframe tbody tr th {\n",
              "        vertical-align: top;\n",
              "    }\n",
              "\n",
              "    .dataframe thead th {\n",
              "        text-align: right;\n",
              "    }\n",
              "</style>\n",
              "<table border=\"1\" class=\"dataframe\">\n",
              "  <thead>\n",
              "    <tr style=\"text-align: right;\">\n",
              "      <th></th>\n",
              "      <th>comp1</th>\n",
              "      <th>comp2</th>\n",
              "    </tr>\n",
              "  </thead>\n",
              "  <tbody>\n",
              "    <tr>\n",
              "      <th>0</th>\n",
              "      <td>-0.512153</td>\n",
              "      <td>-0.268475</td>\n",
              "    </tr>\n",
              "    <tr>\n",
              "      <th>1</th>\n",
              "      <td>0.881289</td>\n",
              "      <td>-0.074322</td>\n",
              "    </tr>\n",
              "    <tr>\n",
              "      <th>2</th>\n",
              "      <td>0.636290</td>\n",
              "      <td>-0.334346</td>\n",
              "    </tr>\n",
              "    <tr>\n",
              "      <th>3</th>\n",
              "      <td>-0.482426</td>\n",
              "      <td>0.247466</td>\n",
              "    </tr>\n",
              "    <tr>\n",
              "      <th>4</th>\n",
              "      <td>0.429009</td>\n",
              "      <td>0.526614</td>\n",
              "    </tr>\n",
              "    <tr>\n",
              "      <th>5</th>\n",
              "      <td>-0.319307</td>\n",
              "      <td>0.213691</td>\n",
              "    </tr>\n",
              "    <tr>\n",
              "      <th>6</th>\n",
              "      <td>0.036815</td>\n",
              "      <td>-0.213713</td>\n",
              "    </tr>\n",
              "    <tr>\n",
              "      <th>7</th>\n",
              "      <td>-0.416199</td>\n",
              "      <td>-0.018720</td>\n",
              "    </tr>\n",
              "    <tr>\n",
              "      <th>8</th>\n",
              "      <td>0.114660</td>\n",
              "      <td>0.558601</td>\n",
              "    </tr>\n",
              "    <tr>\n",
              "      <th>9</th>\n",
              "      <td>-0.872271</td>\n",
              "      <td>-0.006825</td>\n",
              "    </tr>\n",
              "    <tr>\n",
              "      <th>10</th>\n",
              "      <td>-0.818981</td>\n",
              "      <td>0.062471</td>\n",
              "    </tr>\n",
              "    <tr>\n",
              "      <th>11</th>\n",
              "      <td>0.241373</td>\n",
              "      <td>-0.104745</td>\n",
              "    </tr>\n",
              "    <tr>\n",
              "      <th>12</th>\n",
              "      <td>-0.083998</td>\n",
              "      <td>0.065004</td>\n",
              "    </tr>\n",
              "    <tr>\n",
              "      <th>13</th>\n",
              "      <td>-0.042960</td>\n",
              "      <td>-0.088060</td>\n",
              "    </tr>\n",
              "    <tr>\n",
              "      <th>14</th>\n",
              "      <td>0.684623</td>\n",
              "      <td>0.563262</td>\n",
              "    </tr>\n",
              "    <tr>\n",
              "      <th>15</th>\n",
              "      <td>0.577512</td>\n",
              "      <td>-0.366480</td>\n",
              "    </tr>\n",
              "    <tr>\n",
              "      <th>16</th>\n",
              "      <td>0.304144</td>\n",
              "      <td>-0.526412</td>\n",
              "    </tr>\n",
              "    <tr>\n",
              "      <th>17</th>\n",
              "      <td>-0.327609</td>\n",
              "      <td>0.102213</td>\n",
              "    </tr>\n",
              "    <tr>\n",
              "      <th>18</th>\n",
              "      <td>-0.206166</td>\n",
              "      <td>0.292774</td>\n",
              "    </tr>\n",
              "    <tr>\n",
              "      <th>19</th>\n",
              "      <td>-0.326613</td>\n",
              "      <td>0.015401</td>\n",
              "    </tr>\n",
              "    <tr>\n",
              "      <th>20</th>\n",
              "      <td>0.449114</td>\n",
              "      <td>-0.039256</td>\n",
              "    </tr>\n",
              "    <tr>\n",
              "      <th>21</th>\n",
              "      <td>0.457294</td>\n",
              "      <td>-0.168720</td>\n",
              "    </tr>\n",
              "    <tr>\n",
              "      <th>22</th>\n",
              "      <td>0.086656</td>\n",
              "      <td>0.552315</td>\n",
              "    </tr>\n",
              "    <tr>\n",
              "      <th>23</th>\n",
              "      <td>-0.022604</td>\n",
              "      <td>0.210698</td>\n",
              "    </tr>\n",
              "    <tr>\n",
              "      <th>24</th>\n",
              "      <td>-0.064128</td>\n",
              "      <td>-0.005235</td>\n",
              "    </tr>\n",
              "    <tr>\n",
              "      <th>25</th>\n",
              "      <td>-0.522129</td>\n",
              "      <td>0.148564</td>\n",
              "    </tr>\n",
              "    <tr>\n",
              "      <th>26</th>\n",
              "      <td>-0.628259</td>\n",
              "      <td>0.253990</td>\n",
              "    </tr>\n",
              "    <tr>\n",
              "      <th>27</th>\n",
              "      <td>-0.232932</td>\n",
              "      <td>0.116181</td>\n",
              "    </tr>\n",
              "    <tr>\n",
              "      <th>28</th>\n",
              "      <td>0.150012</td>\n",
              "      <td>-0.097867</td>\n",
              "    </tr>\n",
              "    <tr>\n",
              "      <th>29</th>\n",
              "      <td>-0.124473</td>\n",
              "      <td>-0.258990</td>\n",
              "    </tr>\n",
              "    <tr>\n",
              "      <th>30</th>\n",
              "      <td>0.240801</td>\n",
              "      <td>-0.370159</td>\n",
              "    </tr>\n",
              "    <tr>\n",
              "      <th>31</th>\n",
              "      <td>0.266476</td>\n",
              "      <td>-0.562374</td>\n",
              "    </tr>\n",
              "    <tr>\n",
              "      <th>32</th>\n",
              "      <td>0.982776</td>\n",
              "      <td>-0.422694</td>\n",
              "    </tr>\n",
              "    <tr>\n",
              "      <th>33</th>\n",
              "      <td>-0.080119</td>\n",
              "      <td>0.194283</td>\n",
              "    </tr>\n",
              "    <tr>\n",
              "      <th>34</th>\n",
              "      <td>0.036683</td>\n",
              "      <td>0.091842</td>\n",
              "    </tr>\n",
              "    <tr>\n",
              "      <th>35</th>\n",
              "      <td>-0.513650</td>\n",
              "      <td>-0.187482</td>\n",
              "    </tr>\n",
              "    <tr>\n",
              "      <th>36</th>\n",
              "      <td>0.021452</td>\n",
              "      <td>-0.100496</td>\n",
              "    </tr>\n",
              "  </tbody>\n",
              "</table>\n",
              "</div>"
            ],
            "text/plain": [
              "       comp1     comp2\n",
              "0  -0.512153 -0.268475\n",
              "1   0.881289 -0.074322\n",
              "2   0.636290 -0.334346\n",
              "3  -0.482426  0.247466\n",
              "4   0.429009  0.526614\n",
              "5  -0.319307  0.213691\n",
              "6   0.036815 -0.213713\n",
              "7  -0.416199 -0.018720\n",
              "8   0.114660  0.558601\n",
              "9  -0.872271 -0.006825\n",
              "10 -0.818981  0.062471\n",
              "11  0.241373 -0.104745\n",
              "12 -0.083998  0.065004\n",
              "13 -0.042960 -0.088060\n",
              "14  0.684623  0.563262\n",
              "15  0.577512 -0.366480\n",
              "16  0.304144 -0.526412\n",
              "17 -0.327609  0.102213\n",
              "18 -0.206166  0.292774\n",
              "19 -0.326613  0.015401\n",
              "20  0.449114 -0.039256\n",
              "21  0.457294 -0.168720\n",
              "22  0.086656  0.552315\n",
              "23 -0.022604  0.210698\n",
              "24 -0.064128 -0.005235\n",
              "25 -0.522129  0.148564\n",
              "26 -0.628259  0.253990\n",
              "27 -0.232932  0.116181\n",
              "28  0.150012 -0.097867\n",
              "29 -0.124473 -0.258990\n",
              "30  0.240801 -0.370159\n",
              "31  0.266476 -0.562374\n",
              "32  0.982776 -0.422694\n",
              "33 -0.080119  0.194283\n",
              "34  0.036683  0.091842\n",
              "35 -0.513650 -0.187482\n",
              "36  0.021452 -0.100496"
            ]
          },
          "metadata": {
            "tags": []
          },
          "execution_count": 32
        }
      ]
    }
  ]
}